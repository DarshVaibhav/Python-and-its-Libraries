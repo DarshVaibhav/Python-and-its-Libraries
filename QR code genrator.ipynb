{
 "cells": [
  {
   "cell_type": "code",
   "execution_count": 1,
   "id": "e5af7dcb",
   "metadata": {
    "collapsed": true
   },
   "outputs": [
    {
     "name": "stdout",
     "output_type": "stream",
     "text": [
      "Defaulting to user installation because normal site-packages is not writeable\n",
      "Collecting qrcode\n",
      "  Downloading qrcode-7.4.2-py3-none-any.whl (46 kB)\n",
      "     -------------------------------------- 46.2/46.2 kB 570.7 kB/s eta 0:00:00\n",
      "Requirement already satisfied: typing-extensions in c:\\users\\91955\\appdata\\roaming\\python\\python39\\site-packages (from qrcode) (4.10.0)\n",
      "Requirement already satisfied: colorama in c:\\programdata\\anaconda3\\lib\\site-packages (from qrcode) (0.4.5)\n",
      "Collecting pypng\n",
      "  Downloading pypng-0.20220715.0-py3-none-any.whl (58 kB)\n",
      "     ---------------------------------------- 58.1/58.1 kB 3.0 MB/s eta 0:00:00\n",
      "Installing collected packages: pypng, qrcode\n",
      "Successfully installed pypng-0.20220715.0 qrcode-7.4.2\n",
      "Note: you may need to restart the kernel to use updated packages.\n"
     ]
    },
    {
     "name": "stderr",
     "output_type": "stream",
     "text": [
      "  WARNING: The script qr.exe is installed in 'C:\\Users\\91955\\AppData\\Roaming\\Python\\Python39\\Scripts' which is not on PATH.\n",
      "  Consider adding this directory to PATH or, if you prefer to suppress this warning, use --no-warn-script-location.\n"
     ]
    }
   ],
   "source": [
    "pip install qrcode"
   ]
  },
  {
   "cell_type": "code",
   "execution_count": 2,
   "id": "a1edd1d0",
   "metadata": {},
   "outputs": [],
   "source": [
    "import qrcode"
   ]
  },
  {
   "cell_type": "code",
   "execution_count": 3,
   "id": "c41191c2",
   "metadata": {},
   "outputs": [],
   "source": [
    "qr = qrcode"
   ]
  },
  {
   "cell_type": "code",
   "execution_count": 4,
   "id": "d33212f9",
   "metadata": {},
   "outputs": [],
   "source": [
    "#inside make can put what we want to generate  \n",
    "qr = qrcode.make(\"Darsh Vaibhav\")"
   ]
  },
  {
   "cell_type": "code",
   "execution_count": 5,
   "id": "ed09d311",
   "metadata": {},
   "outputs": [],
   "source": [
    "qr.save(\"qr.jpg\")"
   ]
  },
  {
   "cell_type": "markdown",
   "id": "4e8aba8f",
   "metadata": {},
   "source": [
    "## 2nd method "
   ]
  },
  {
   "cell_type": "code",
   "execution_count": 8,
   "id": "6c20057c",
   "metadata": {
    "collapsed": true
   },
   "outputs": [
    {
     "name": "stdout",
     "output_type": "stream",
     "text": [
      "Defaulting to user installation because normal site-packages is not writeable\n",
      "Collecting image\n",
      "  Downloading image-1.5.33.tar.gz (15 kB)\n",
      "  Preparing metadata (setup.py): started\n",
      "  Preparing metadata (setup.py): finished with status 'done'\n",
      "Requirement already satisfied: pillow in c:\\programdata\\anaconda3\\lib\\site-packages (from image) (9.2.0)\n",
      "Collecting django\n",
      "  Downloading Django-4.2.13-py3-none-any.whl (8.0 MB)\n",
      "     ---------------------------------------- 8.0/8.0 MB 2.9 MB/s eta 0:00:00\n",
      "Requirement already satisfied: six in c:\\programdata\\anaconda3\\lib\\site-packages (from image) (1.16.0)\n",
      "Collecting asgiref<4,>=3.6.0\n",
      "  Downloading asgiref-3.8.1-py3-none-any.whl (23 kB)\n",
      "Collecting sqlparse>=0.3.1\n",
      "  Downloading sqlparse-0.5.0-py3-none-any.whl (43 kB)\n",
      "     ---------------------------------------- 44.0/44.0 kB ? eta 0:00:00\n",
      "Collecting tzdata\n",
      "  Downloading tzdata-2024.1-py2.py3-none-any.whl (345 kB)\n",
      "     -------------------------------------- 345.4/345.4 kB 5.4 MB/s eta 0:00:00\n",
      "Requirement already satisfied: typing-extensions>=4 in c:\\users\\91955\\appdata\\roaming\\python\\python39\\site-packages (from asgiref<4,>=3.6.0->django->image) (4.10.0)\n",
      "Building wheels for collected packages: image\n",
      "  Building wheel for image (setup.py): started\n",
      "  Building wheel for image (setup.py): finished with status 'done'\n",
      "  Created wheel for image: filename=image-1.5.33-py2.py3-none-any.whl size=19483 sha256=8654d2b82dbd9262b0b49ea6d92b71de44bf4fc29661efab367d9235d68ba32a\n",
      "  Stored in directory: c:\\users\\91955\\appdata\\local\\pip\\cache\\wheels\\14\\4c\\7c\\d9b5c35a149d3bc8c72c7e92372913ff7dac9c6bd94bd1b8c9\n",
      "Successfully built image\n",
      "Installing collected packages: tzdata, sqlparse, asgiref, django, image\n",
      "Successfully installed asgiref-3.8.1 django-4.2.13 image-1.5.33 sqlparse-0.5.0 tzdata-2024.1\n",
      "Note: you may need to restart the kernel to use updated packages.\n"
     ]
    },
    {
     "name": "stderr",
     "output_type": "stream",
     "text": [
      "  WARNING: The script sqlformat.exe is installed in 'C:\\Users\\91955\\AppData\\Roaming\\Python\\Python39\\Scripts' which is not on PATH.\n",
      "  Consider adding this directory to PATH or, if you prefer to suppress this warning, use --no-warn-script-location.\n",
      "  WARNING: The script django-admin.exe is installed in 'C:\\Users\\91955\\AppData\\Roaming\\Python\\Python39\\Scripts' which is not on PATH.\n",
      "  Consider adding this directory to PATH or, if you prefer to suppress this warning, use --no-warn-script-location.\n"
     ]
    }
   ],
   "source": [
    "pip install image"
   ]
  },
  {
   "cell_type": "code",
   "execution_count": 9,
   "id": "890daaed",
   "metadata": {},
   "outputs": [],
   "source": [
    "import image"
   ]
  },
  {
   "cell_type": "code",
   "execution_count": 11,
   "id": "3fa57df4",
   "metadata": {},
   "outputs": [],
   "source": [
    "qr = qrcode.QRCode(\n",
    "       version = 22,\n",
    "       box_size = 5,\n",
    "       border = 5\n",
    ")\n",
    "\n",
    "data = \"https://www.kaggle.com/datasets/vora1011/ipl-2008-to-2021-all-match-dataset\"\n",
    "qr.add_data(data)\n",
    "qr.make(fit = True)\n",
    "img = qr.make_image(fill = \"black\", black_color = \"red\")\n",
    "img.save(\"link.jpg\")"
   ]
  },
  {
   "cell_type": "code",
   "execution_count": null,
   "id": "218117af",
   "metadata": {},
   "outputs": [],
   "source": []
  }
 ],
 "metadata": {
  "kernelspec": {
   "display_name": "Python 3 (ipykernel)",
   "language": "python",
   "name": "python3"
  },
  "language_info": {
   "codemirror_mode": {
    "name": "ipython",
    "version": 3
   },
   "file_extension": ".py",
   "mimetype": "text/x-python",
   "name": "python",
   "nbconvert_exporter": "python",
   "pygments_lexer": "ipython3",
   "version": "3.9.13"
  }
 },
 "nbformat": 4,
 "nbformat_minor": 5
}
