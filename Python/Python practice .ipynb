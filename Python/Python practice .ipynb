{
 "cells": [
  {
   "cell_type": "code",
   "execution_count": 1,
   "id": "d0af390d",
   "metadata": {},
   "outputs": [
    {
     "name": "stdout",
     "output_type": "stream",
     "text": [
      "hello,python\n"
     ]
    }
   ],
   "source": [
    "print('hello,python')"
   ]
  },
  {
   "cell_type": "code",
   "execution_count": 2,
   "id": "8dae8e31",
   "metadata": {},
   "outputs": [
    {
     "name": "stdout",
     "output_type": "stream",
     "text": [
      "hello name\n"
     ]
    }
   ],
   "source": [
    "print(\"hello\"+ \" \"+ \"name\")  # to create space"
   ]
  },
  {
   "cell_type": "code",
   "execution_count": 3,
   "id": "af1096d4",
   "metadata": {
    "scrolled": true
   },
   "outputs": [
    {
     "name": "stdout",
     "output_type": "stream",
     "text": [
      "3.9.13 (main, Aug 25 2022, 23:51:50) [MSC v.1916 64 bit (AMD64)]\n"
     ]
    }
   ],
   "source": [
    "import sys #use to check the system version\n",
    "print(sys.version)"
   ]
  },
  {
   "cell_type": "code",
   "execution_count": 4,
   "id": "da3ea74f",
   "metadata": {},
   "outputs": [
    {
     "data": {
      "text/plain": [
       "int"
      ]
     },
     "execution_count": 4,
     "metadata": {},
     "output_type": "execute_result"
    }
   ],
   "source": [
    "type(-1)"
   ]
  },
  {
   "cell_type": "code",
   "execution_count": 5,
   "id": "65cb8bde",
   "metadata": {},
   "outputs": [
    {
     "data": {
      "text/plain": [
       "float"
      ]
     },
     "execution_count": 5,
     "metadata": {},
     "output_type": "execute_result"
    }
   ],
   "source": [
    "type(6.4)"
   ]
  },
  {
   "cell_type": "code",
   "execution_count": 6,
   "id": "c39d6003",
   "metadata": {},
   "outputs": [
    {
     "data": {
      "text/plain": [
       "int"
      ]
     },
     "execution_count": 6,
     "metadata": {},
     "output_type": "execute_result"
    }
   ],
   "source": [
    "type(0)"
   ]
  },
  {
   "cell_type": "code",
   "execution_count": 7,
   "id": "745694fe",
   "metadata": {},
   "outputs": [
    {
     "data": {
      "text/plain": [
       "int"
      ]
     },
     "execution_count": 7,
     "metadata": {},
     "output_type": "execute_result"
    }
   ],
   "source": [
    "type(6.6)\n",
    "type(int(6.6))"
   ]
  },
  {
   "cell_type": "code",
   "execution_count": 8,
   "id": "9adc0ecb",
   "metadata": {},
   "outputs": [
    {
     "data": {
      "text/plain": [
       "False"
      ]
     },
     "execution_count": 8,
     "metadata": {},
     "output_type": "execute_result"
    }
   ],
   "source": [
    "bool(0)"
   ]
  },
  {
   "cell_type": "code",
   "execution_count": 9,
   "id": "b7e78ebb",
   "metadata": {},
   "outputs": [
    {
     "data": {
      "text/plain": [
       "1"
      ]
     },
     "execution_count": 9,
     "metadata": {},
     "output_type": "execute_result"
    }
   ],
   "source": [
    "int(True)"
   ]
  },
  {
   "cell_type": "markdown",
   "id": "c4ac8563",
   "metadata": {},
   "source": [
    "## operators"
   ]
  },
  {
   "cell_type": "code",
   "execution_count": 10,
   "id": "c697e85a",
   "metadata": {},
   "outputs": [
    {
     "data": {
      "text/plain": [
       "-2"
      ]
     },
     "execution_count": 10,
     "metadata": {},
     "output_type": "execute_result"
    }
   ],
   "source": [
    "4-6\n"
   ]
  },
  {
   "cell_type": "code",
   "execution_count": 11,
   "id": "453c773e",
   "metadata": {},
   "outputs": [
    {
     "data": {
      "text/plain": [
       "3.6666666666666665"
      ]
     },
     "execution_count": 11,
     "metadata": {},
     "output_type": "execute_result"
    }
   ],
   "source": [
    "44/12\n"
   ]
  },
  {
   "cell_type": "code",
   "execution_count": 12,
   "id": "4ccead24",
   "metadata": {},
   "outputs": [
    {
     "data": {
      "text/plain": [
       "3"
      ]
     },
     "execution_count": 12,
     "metadata": {},
     "output_type": "execute_result"
    }
   ],
   "source": [
    "44//12"
   ]
  },
  {
   "cell_type": "code",
   "execution_count": 13,
   "id": "3e0ddcb8",
   "metadata": {},
   "outputs": [
    {
     "data": {
      "text/plain": [
       "25"
      ]
     },
     "execution_count": 13,
     "metadata": {},
     "output_type": "execute_result"
    }
   ],
   "source": [
    "5*5\n"
   ]
  },
  {
   "cell_type": "code",
   "execution_count": 14,
   "id": "20125827",
   "metadata": {},
   "outputs": [
    {
     "data": {
      "text/plain": [
       "125"
      ]
     },
     "execution_count": 14,
     "metadata": {},
     "output_type": "execute_result"
    }
   ],
   "source": [
    "5**3"
   ]
  },
  {
   "cell_type": "code",
   "execution_count": 15,
   "id": "5fe9afdd",
   "metadata": {},
   "outputs": [
    {
     "data": {
      "text/plain": [
       "500"
      ]
     },
     "execution_count": 15,
     "metadata": {},
     "output_type": "execute_result"
    }
   ],
   "source": [
    "(30+20)*10 #first we solve bracket"
   ]
  },
  {
   "cell_type": "markdown",
   "id": "c2463f4d",
   "metadata": {},
   "source": [
    "## String"
   ]
  },
  {
   "cell_type": "code",
   "execution_count": 16,
   "id": "12b1ecaf",
   "metadata": {},
   "outputs": [
    {
     "data": {
      "text/plain": [
       "'michael jackson'"
      ]
     },
     "execution_count": 16,
     "metadata": {},
     "output_type": "execute_result"
    }
   ],
   "source": [
    "d =\"michael jackson\"\n",
    "d\n"
   ]
  },
  {
   "cell_type": "code",
   "execution_count": 17,
   "id": "7f092fa9",
   "metadata": {},
   "outputs": [
    {
     "name": "stdout",
     "output_type": "stream",
     "text": [
      "l\n"
     ]
    }
   ],
   "source": [
    "print(d[6])"
   ]
  },
  {
   "cell_type": "code",
   "execution_count": 18,
   "id": "ca96c3d6",
   "metadata": {},
   "outputs": [
    {
     "name": "stdout",
     "output_type": "stream",
     "text": [
      "o\n"
     ]
    }
   ],
   "source": [
    "print(d[13])"
   ]
  },
  {
   "cell_type": "code",
   "execution_count": 19,
   "id": "4895b002",
   "metadata": {},
   "outputs": [
    {
     "data": {
      "text/plain": [
       "15"
      ]
     },
     "execution_count": 19,
     "metadata": {},
     "output_type": "execute_result"
    }
   ],
   "source": [
    "len(\"michael jackson\")"
   ]
  },
  {
   "cell_type": "code",
   "execution_count": 20,
   "id": "dfd143ba",
   "metadata": {},
   "outputs": [
    {
     "name": "stdout",
     "output_type": "stream",
     "text": [
      "mic\n"
     ]
    }
   ],
   "source": [
    "print(d[0:3])"
   ]
  },
  {
   "cell_type": "code",
   "execution_count": 21,
   "id": "bc64aa27",
   "metadata": {},
   "outputs": [
    {
     "name": "stdout",
     "output_type": "stream",
     "text": [
      "mcaljcsn\n"
     ]
    }
   ],
   "source": [
    "print(d[::2])"
   ]
  },
  {
   "cell_type": "code",
   "execution_count": 22,
   "id": "3dc253bb",
   "metadata": {},
   "outputs": [
    {
     "name": "stdout",
     "output_type": "stream",
     "text": [
      "String with the use of Single Quotes:  Geeks\n",
      "String with the use of Double Quotes including single quotes:  I'm a Geek <class 'str'>\n",
      "String with the use of Triple Quotes:  I'm a Geek and I live in a world of \"Geeks\" <class 'str'>\n",
      "Creating a multiline String:  Geeks \n",
      "For \n",
      "Life\n"
     ]
    }
   ],
   "source": [
    "String1 = 'Geeks'\n",
    "print(\"String with the use of Single Quotes: \", String1)\n",
    "String2 = \"I'm a Geek\"\n",
    "print(\"String with the use of Double Quotes including single quotes: \", String2, type(String2))\n",
    "String3 = '''I'm a Geek and I live in a world of \"Geeks\"'''\n",
    "print(\"String with the use of Triple Quotes: \", String3, type(String3))\n",
    "String4 = '''Geeks \n",
    "For \n",
    "Life'''\n",
    "print(\"Creating a multiline String: \", String4)"
   ]
  },
  {
   "cell_type": "markdown",
   "id": "70a35c59",
   "metadata": {},
   "source": [
    "## 'end' & 'sep' parameter"
   ]
  },
  {
   "cell_type": "code",
   "execution_count": 23,
   "id": "a796c566",
   "metadata": {},
   "outputs": [
    {
     "name": "stdout",
     "output_type": "stream",
     "text": [
      "Course Data Science with Python at GeeksforGeeks\n",
      "Course Data Science with Python @ GeeksforGeeks\n"
     ]
    }
   ],
   "source": [
    "a = \"Course Data Science with Python\"\n",
    "b = \"GeeksforGeeks\"\n",
    "print(a, end=' at ')\n",
    "print(b)\n",
    "print(a, end=' @ ')\n",
    "print(b)"
   ]
  },
  {
   "cell_type": "code",
   "execution_count": 24,
   "id": "bb15d270",
   "metadata": {},
   "outputs": [
    {
     "name": "stdout",
     "output_type": "stream",
     "text": [
      "Course-Data-Science-with-Python at GeeksforGeeks\n",
      "Course Data Science with Python\n",
      "GeeksforGeeks\n"
     ]
    }
   ],
   "source": [
    "a = \"Course Data Science with Python\"\n",
    "b = \"GeeksforGeeks\"\n",
    "print(\"Course\", \"Data\", \"Science\", \"with\", \"Python\", sep='-', end=' at ' )\n",
    "print(b)\n",
    "print(a, b, sep='\\n')\n"
   ]
  },
  {
   "cell_type": "code",
   "execution_count": 25,
   "id": "77e6b03e",
   "metadata": {},
   "outputs": [
    {
     "name": "stdout",
     "output_type": "stream",
     "text": [
      "10\n"
     ]
    }
   ],
   "source": [
    "#left shift\n",
    "a = 5  # Binary: 0b101\n",
    "result = a << 1  # Binary: 0b1010 (Left shift by 1 position)\n",
    "print(result)\n"
   ]
  },
  {
   "cell_type": "code",
   "execution_count": 26,
   "id": "8d8c10eb",
   "metadata": {},
   "outputs": [
    {
     "name": "stdout",
     "output_type": "stream",
     "text": [
      "5\n"
     ]
    }
   ],
   "source": [
    "#right shift\n",
    "a = 20  #binary - 0b10100\n",
    "result = a >> 2  #shifts right by 2 position- 0b00101->5\n",
    "print(result)\n"
   ]
  },
  {
   "cell_type": "code",
   "execution_count": 27,
   "id": "031e6708",
   "metadata": {},
   "outputs": [
    {
     "name": "stdout",
     "output_type": "stream",
     "text": [
      "I am experienced in Python\n"
     ]
    }
   ],
   "source": [
    "#string replace \n",
    "string = \"I am beginner in Python\"\n",
    "new_string = string.replace(\"beginner\", \"experienced\")\n",
    "print(new_string)\n"
   ]
  },
  {
   "cell_type": "code",
   "execution_count": 28,
   "id": "8ef55973",
   "metadata": {},
   "outputs": [
    {
     "name": "stdout",
     "output_type": "stream",
     "text": [
      "3\n"
     ]
    }
   ],
   "source": [
    "string = \"python program run on python IDLE, in pythonic way.\"\n",
    "count = string.count(\"python\")\n",
    "print(count)\n"
   ]
  },
  {
   "cell_type": "code",
   "execution_count": 29,
   "id": "9fd01dc2",
   "metadata": {},
   "outputs": [
    {
     "name": "stdout",
     "output_type": "stream",
     "text": [
      "0\n",
      "-1\n"
     ]
    }
   ],
   "source": [
    "string = \"Python is powerful and Pythonic.\"\n",
    "index = string.find(\"Python\")\n",
    "print(index) \n",
    "index = string.find(\"python\")\n",
    "print(index)\n"
   ]
  },
  {
   "cell_type": "code",
   "execution_count": 30,
   "id": "f19fdbc3",
   "metadata": {},
   "outputs": [
    {
     "name": "stdout",
     "output_type": "stream",
     "text": [
      "Print String in default order: \n",
      "Begineer in Python\n",
      "\n",
      "Print String in Positional order: \n",
      "in Begineer Python\n",
      "\n",
      "Print String in order of Keywords: \n",
      "Python in Begineer\n"
     ]
    }
   ],
   "source": [
    "'''Strings in Python can be formatted with the use of format() method which is a very versatile and powerful tool\n",
    "for formatting Strings. Format method in String contains curly braces {} as placeholders which can hold arguments\n",
    "according to position or keyword to specify the order.'''\n",
    "# Default order \n",
    "String1 = \"{} {} {}\".format('Begineer', 'in', 'Python') \n",
    "print(\"Print String in default order: \") \n",
    "print(String1) \n",
    "\n",
    "# Positional Formatting \n",
    "String1 = \"{1} {0} {2}\".format('Begineer', 'in', 'Python') \n",
    "print(\"\\nPrint String in Positional order: \") \n",
    "print(String1) \n",
    "\n",
    "# Keyword Formatting \n",
    "String1 = \"{l} {f} {g}\".format(g='Begineer', f='in', l='Python') \n",
    "print(\"\\nPrint String in order of Keywords: \") \n",
    "print(String1) \n"
   ]
  },
  {
   "cell_type": "markdown",
   "id": "b82e8c32",
   "metadata": {},
   "source": [
    "## Analyzing User-Generated Text Data for Keyword Frequency\n"
   ]
  },
  {
   "cell_type": "code",
   "execution_count": 31,
   "id": "8574f74b",
   "metadata": {},
   "outputs": [
    {
     "name": "stdout",
     "output_type": "stream",
     "text": [
      "The keyword \"keyword1\" appears 0 times.\n",
      "The keyword \"keyword2\" appears 0 times.\n",
      "The keyword \"keyword3\" appears 0 times.\n"
     ]
    }
   ],
   "source": [
    "from collections import Counter\n",
    "import re\n",
    "\n",
    "def analyze_text_data(text_data):\n",
    "    combined_text = ' '.join(text_data)\n",
    "\n",
    "    # Convert to lowercase to make the analysis case-insensitive\n",
    "    combined_text = combined_text.lower()\n",
    "\n",
    "    words = re.findall(r'\\b\\w+\\b', combined_text)\n",
    "\n",
    "    keywords = ['keyword1', 'keyword2', 'keyword3']\n",
    "\n",
    "    # Count the frequency of each keyword in the text\n",
    "    keyword_counts = Counter(words)\n",
    "\n",
    "    # Display the frequency of each keyword\n",
    "    for keyword in keywords:\n",
    "        print(f'The keyword \"{keyword}\" appears {keyword_counts[keyword]} times.')\n",
    "\n",
    "# Example usage:\n",
    "text_data = [\n",
    "    \"User-generated text data for keyword frequency analysis.\",\n",
    "    \"Analyzing text data helps to understand user preferences.\",\n",
    "    \"This is an example of analyzing keyword frequency in Python.\"\n",
    "]\n",
    "\n",
    "analyze_text_data(text_data)"
   ]
  },
  {
   "cell_type": "code",
   "execution_count": 32,
   "id": "51451bce",
   "metadata": {},
   "outputs": [
    {
     "data": {
      "text/plain": [
       "3.14"
      ]
     },
     "execution_count": 32,
     "metadata": {},
     "output_type": "execute_result"
    }
   ],
   "source": [
    "float(\"3.14\")"
   ]
  },
  {
   "cell_type": "code",
   "execution_count": 33,
   "id": "50e7f8e9",
   "metadata": {},
   "outputs": [
    {
     "name": "stdout",
     "output_type": "stream",
     "text": [
      "P\n",
      "y\n",
      "t\n",
      "h\n",
      "o\n",
      "n\n"
     ]
    }
   ],
   "source": [
    "word = \"Python\"\n",
    "\n",
    "for l in word:\n",
    "    print(l)\n"
   ]
  },
  {
   "cell_type": "code",
   "execution_count": 34,
   "id": "e5dc0450",
   "metadata": {},
   "outputs": [
    {
     "name": "stdout",
     "output_type": "stream",
     "text": [
      "Enter a number: 5\n",
      "5 is an Armstrong number.\n"
     ]
    }
   ],
   "source": [
    "'''Write a program checking whether a number is an Armstrong number. An Armstrong \n",
    "number (also known as a narcissistic number, pluperfect digital invariant, or pluperfect number) is a number\n",
    "that is the sum of its own digits each raised to the power of the number of digits.'''\n",
    "def is_armstrong_number(number):\n",
    "    num_str = str(number)\n",
    "    num_digits = len(num_str)\n",
    "    sum_of_digits = sum(int(digit) ** num_digits for digit in num_str)\n",
    "    return sum_of_digits == number\n",
    "\n",
    "# User input\n",
    "num = int(input(\"Enter a number: \"))\n",
    "\n",
    "# Check and display the result\n",
    "if is_armstrong_number(num):\n",
    "    print(f\"{num} is an Armstrong number.\")\n",
    "else:\n",
    "    print(f\"{num} is not an Armstrong number.\")\n"
   ]
  },
  {
   "cell_type": "code",
   "execution_count": 35,
   "id": "bef0325b",
   "metadata": {},
   "outputs": [
    {
     "name": "stdout",
     "output_type": "stream",
     "text": [
      "Enter a positive number (enter a non-positive number to stop): -2\n",
      "No positive numbers were entered.\n"
     ]
    }
   ],
   "source": [
    "'''Create a Python program that prompts the user to enter positive numbers continuously. \n",
    "The program should use a while loop to collect input data until the user enters a non-positive number. \n",
    "Implement simple data validation to ensure entered values are valid positive numbers. Finally, output the list\n",
    "of positive numbers entered by the user. The objective is to create an interactive and error-tolerant program for \n",
    "collecting and handling user input.'''\n",
    "\n",
    "numbers = []\n",
    "\n",
    "while True:\n",
    "    user_input = input(\"Enter a positive number (enter a non-positive number to stop): \")\n",
    "\n",
    "    # Check if the input can be converted to a float and is non-negative\n",
    "    if user_input.replace('.', '', 1).isdigit() and float(user_input) > 0:\n",
    "        numbers.append(float(user_input))\n",
    "    elif user_input.replace('-', '', 1).isdigit() and float(user_input) <= 0:\n",
    "        break  # Exit the loop if a non-positive number is entered\n",
    "    else:\n",
    "        print(\"Invalid input. Please enter a valid positive number.\")\n",
    "\n",
    "# Data handling after the loop\n",
    "if numbers:\n",
    "    print(f\"You entered the following positive numbers: {numbers}\")\n",
    "else:\n",
    "    print(\"No positive numbers were entered.\")"
   ]
  },
  {
   "cell_type": "code",
   "execution_count": 36,
   "id": "55a1df50",
   "metadata": {},
   "outputs": [
    {
     "data": {
      "text/plain": [
       "['Michael Jackson', 10.2, 'pop', 10]"
      ]
     },
     "execution_count": 36,
     "metadata": {},
     "output_type": "execute_result"
    }
   ],
   "source": [
    "L=[\"Michael Jackson\",10.2]\n",
    "L.extend(['pop',10])\n",
    "L"
   ]
  },
  {
   "cell_type": "code",
   "execution_count": 37,
   "id": "242234ab",
   "metadata": {},
   "outputs": [
    {
     "data": {
      "text/plain": [
       "[1, 2, 3, 1, 1, 1]"
      ]
     },
     "execution_count": 37,
     "metadata": {},
     "output_type": "execute_result"
    }
   ],
   "source": [
    "[1,2,3]+[1,1,1]"
   ]
  },
  {
   "cell_type": "code",
   "execution_count": 38,
   "id": "07615cc5",
   "metadata": {},
   "outputs": [
    {
     "data": {
      "text/plain": [
       "['Michael Jackson', 10, 11]"
      ]
     },
     "execution_count": 38,
     "metadata": {},
     "output_type": "execute_result"
    }
   ],
   "source": [
    "L=[\"Michael Jackson\",10]\n",
    "L.extend([11])\n",
    "L"
   ]
  },
  {
   "cell_type": "code",
   "execution_count": 39,
   "id": "c5a1d9bc",
   "metadata": {},
   "outputs": [
    {
     "name": "stdout",
     "output_type": "stream",
     "text": [
      "A: ['hard rock', 10, 1.2]\n",
      "B: ['hard rock', 10, 1.2]\n"
     ]
    }
   ],
   "source": [
    "A = [\"hard rock\", 10, 1.2]\n",
    "B = A\n",
    "print('A:', A)\n",
    "print('B:', B)"
   ]
  },
  {
   "cell_type": "code",
   "execution_count": 40,
   "id": "34d5ea5b",
   "metadata": {},
   "outputs": [
    {
     "data": {
      "text/plain": [
       "['hard rock', 10, 1.2]"
      ]
     },
     "execution_count": 40,
     "metadata": {},
     "output_type": "execute_result"
    }
   ],
   "source": [
    "# Clone (clone by value) the list A\n",
    "\n",
    "B = A[:]\n",
    "B"
   ]
  },
  {
   "cell_type": "code",
   "execution_count": 41,
   "id": "45313db7",
   "metadata": {},
   "outputs": [
    {
     "data": {
      "text/plain": [
       "{'A'}"
      ]
     },
     "execution_count": 41,
     "metadata": {},
     "output_type": "execute_result"
    }
   ],
   "source": [
    " {\"A\",\"A\"}"
   ]
  },
  {
   "cell_type": "code",
   "execution_count": 42,
   "id": "6f98f0ff",
   "metadata": {},
   "outputs": [
    {
     "data": {
      "text/plain": [
       "set"
      ]
     },
     "execution_count": 42,
     "metadata": {},
     "output_type": "execute_result"
    }
   ],
   "source": [
    "type(set([1,2,3]))"
   ]
  },
  {
   "cell_type": "code",
   "execution_count": 43,
   "id": "dc629840",
   "metadata": {},
   "outputs": [
    {
     "data": {
      "text/plain": [
       "2"
      ]
     },
     "execution_count": 43,
     "metadata": {},
     "output_type": "execute_result"
    }
   ],
   "source": [
    " len((\"disco\",10))"
   ]
  },
  {
   "cell_type": "code",
   "execution_count": 44,
   "id": "f9a4075e",
   "metadata": {},
   "outputs": [
    {
     "data": {
      "text/plain": [
       "True"
      ]
     },
     "execution_count": 44,
     "metadata": {},
     "output_type": "execute_result"
    }
   ],
   "source": [
    "'1' in {'1','2'}"
   ]
  },
  {
   "cell_type": "code",
   "execution_count": 45,
   "id": "65d6ae54",
   "metadata": {},
   "outputs": [
    {
     "data": {
      "text/plain": [
       "8"
      ]
     },
     "execution_count": 45,
     "metadata": {},
     "output_type": "execute_result"
    }
   ],
   "source": [
    "string = \"ABCDEFGH\"\n",
    "len(string)"
   ]
  },
  {
   "cell_type": "code",
   "execution_count": 46,
   "id": "64f051fc",
   "metadata": {},
   "outputs": [
    {
     "data": {
      "text/plain": [
       "193"
      ]
     },
     "execution_count": 46,
     "metadata": {},
     "output_type": "execute_result"
    }
   ],
   "source": [
    "#Consider the string given below and answer the following questions \n",
    "string = \"OQYWFClFhFGAvIWYwGKpmZhnJiyzTslSIhSwvOsqJMEphzmifTkyqOMNpnOtXZxmCfgDYqbaBHAUvIWhMnvwZnEMVDvmEfLrDoQnAZgQEgXQVnmSYkfedpAdhrtpOgORpYLRZYGWdhWYuqQssCUXtTzKRDAhpjUheOzUroZNzWFtZOVwIapzUYtbSbjYNErzQ\"\n",
    "len(string)"
   ]
  },
  {
   "cell_type": "code",
   "execution_count": 47,
   "id": "35997d72",
   "metadata": {},
   "outputs": [
    {
     "data": {
      "text/plain": [
       "2"
      ]
     },
     "execution_count": 47,
     "metadata": {},
     "output_type": "execute_result"
    }
   ],
   "source": [
    "string = \"OQYWFClFhFGAvIWYwGKpmZhnJiyzTslSIhSwvOsqJMEphzmifTkyqOMNpnOtXZxmCfgDYqbaBHAUvIWhMnvwZnEMVDvmEfLrDoQnAZgQEgXQVnmSYkfedpAdhrtpOgORpYLRZYGWdhWYuqQssCUXtTzKRDAhpjUheOzUroZNzWFtZOVwIapzUYtbSbjYNErzQ\"\n",
    "string.count('a')"
   ]
  },
  {
   "cell_type": "code",
   "execution_count": 48,
   "id": "e5a87128",
   "metadata": {},
   "outputs": [
    {
     "data": {
      "text/plain": [
       "True"
      ]
     },
     "execution_count": 48,
     "metadata": {},
     "output_type": "execute_result"
    }
   ],
   "source": [
    "string = \"It is asking whether the string is starting with if or not so it will return a boolean value.\"\n",
    "\n",
    "string.startswith('I')"
   ]
  },
  {
   "cell_type": "code",
   "execution_count": 49,
   "id": "c2c607c8",
   "metadata": {},
   "outputs": [
    {
     "data": {
      "text/plain": [
       "'i'"
      ]
     },
     "execution_count": 49,
     "metadata": {},
     "output_type": "execute_result"
    }
   ],
   "source": [
    "string = \"OQYWFClFhFGAvIWYwGKpmZhnJiyzTslSIhSwvOsqJMEphzmifTkyqOMNpnOtXZxmCfgDYqbaBHAUvIWhMnvwZnEMVDvmEfLrDoQnAZgQEgXQVnmSYkfedpAdhrtpOgORpYLRZYGWdhWYuqQssCUXtTzKRDAhpjUheOzUroZNzWFtZOVwIapzUYtbSbjYNErzQ\"\n",
    "string[47]"
   ]
  },
  {
   "cell_type": "code",
   "execution_count": 50,
   "id": "9dbdbab8",
   "metadata": {},
   "outputs": [
    {
     "name": "stdout",
     "output_type": "stream",
     "text": [
      "String with the use of Single Quotes: \n",
      "Welcome to the Geeks World\n",
      "\n",
      "String with the use of Double Quotes: \n",
      "I'm a Geek\n",
      "\n",
      "String with the use of Triple Quotes: \n",
      "I'm a Geek and I live in a world of \"Geeks\"\n",
      "\n",
      "Creating a multiline String: \n",
      "Geeks\n",
      "            For\n",
      "            Life\n"
     ]
    }
   ],
   "source": [
    "# Creation of String\n",
    " \n",
    "# Creating a String\n",
    "# with single Quotes\n",
    "String1 = 'Welcome to the Geeks World'\n",
    "print(\"String with the use of Single Quotes: \")\n",
    "print(String1)\n",
    " \n",
    "# Creating a String\n",
    "# with double Quotes\n",
    "String1 = \"I'm a Geek\"\n",
    "print(\"\\nString with the use of Double Quotes: \")\n",
    "print(String1)\n",
    " \n",
    "# Creating a String\n",
    "# with triple Quotes\n",
    "String1 = '''I'm a Geek and I live in a world of \"Geeks\"'''\n",
    "print(\"\\nString with the use of Triple Quotes: \")\n",
    "print(String1)\n",
    " \n",
    "# Creating String with triple\n",
    "# Quotes allows multiple lines\n",
    "String1 = '''Geeks\n",
    "            For\n",
    "            Life'''\n",
    "print(\"\\nCreating a multiline String: \")\n",
    "print(String1)"
   ]
  },
  {
   "cell_type": "code",
   "execution_count": 51,
   "id": "4a3209d7",
   "metadata": {},
   "outputs": [
    {
     "name": "stdout",
     "output_type": "stream",
     "text": [
      "Harry is \n",
      " good boy \t1\n"
     ]
    }
   ],
   "source": [
    "print(\"Harry is \\n good boy \\t1\")"
   ]
  },
  {
   "cell_type": "code",
   "execution_count": 52,
   "id": "f4b5a711",
   "metadata": {},
   "outputs": [
    {
     "name": "stdout",
     "output_type": "stream",
     "text": [
      "Initial String: \n",
      "GeeksForGeeks\n",
      "\n",
      "Slicing characters from 3-12: \n",
      "ksForGeek\n",
      "\n",
      "Slicing characters between 3rd and 2nd last character: \n",
      "ksForGee\n"
     ]
    }
   ],
   "source": [
    "# demonstrate String slicing\n",
    " \n",
    "# Creating a String\n",
    "String1 = \"GeeksForGeeks\"\n",
    "print(\"Initial String: \")\n",
    "print(String1)\n",
    " \n",
    "# Printing 3rd to 12th character\n",
    "print(\"\\nSlicing characters from 3-12: \")\n",
    "print(String1[3:12])\n",
    " \n",
    "# Printing characters between\n",
    "# 3rd and 2nd last character\n",
    "print(\"\\nSlicing characters between \" +\n",
    "      \"3rd and 2nd last character: \")\n",
    "print(String1[3:-2])"
   ]
  },
  {
   "cell_type": "code",
   "execution_count": 53,
   "id": "09d6c1ff",
   "metadata": {},
   "outputs": [
    {
     "name": "stdout",
     "output_type": "stream",
     "text": [
      "65 65\n"
     ]
    }
   ],
   "source": [
    "# inbuilt function return an\n",
    "# integer representing the Unicode code\n",
    "value = ord(\"A\")\n",
    " \n",
    "# writing in ' ' gives the same result\n",
    "value1 = ord('A')\n",
    " \n",
    "# prints the unicode value\n",
    "print (value, value1)"
   ]
  },
  {
   "cell_type": "code",
   "execution_count": 54,
   "id": "ef3a6d77",
   "metadata": {},
   "outputs": [
    {
     "name": "stdout",
     "output_type": "stream",
     "text": [
      "Initial String with use of Triple Quotes: \n",
      "I'm a \"Geek\"\n",
      "\n",
      "Escaping Single Quote: \n",
      "I'm a \"Geek\"\n",
      "\n",
      "Escaping Double Quotes: \n",
      "I'm a \"Geek\"\n",
      "\n",
      "Escaping Backslashes: \n",
      "C:\\Python\\Geeks\\\n",
      "\n",
      "Tab: \n",
      "Hi\tGeeks\n",
      "\n",
      "New Line: \n",
      "Python\n",
      "Geeks\n"
     ]
    }
   ],
   "source": [
    "#escape seqence\n",
    "# Initial String\n",
    "String1 = '''I'm a \"Geek\"'''\n",
    "print(\"Initial String with use of Triple Quotes: \")\n",
    "print(String1)\n",
    " \n",
    "# Escaping Single Quote\n",
    "String1 = 'I\\'m a \"Geek\"'\n",
    "print(\"\\nEscaping Single Quote: \")\n",
    "print(String1)\n",
    " \n",
    "# Escaping Double Quotes\n",
    "String1 = \"I'm a \\\"Geek\\\"\"\n",
    "print(\"\\nEscaping Double Quotes: \")\n",
    "print(String1)\n",
    " \n",
    "# Printing Paths with the\n",
    "# use of Escape Sequences\n",
    "String1 = \"C:\\\\Python\\\\Geeks\\\\\"\n",
    "print(\"\\nEscaping Backslashes: \")\n",
    "print(String1)\n",
    " \n",
    "# Printing Paths with the\n",
    "# use of Tab\n",
    "String1 = \"Hi\\tGeeks\"\n",
    "print(\"\\nTab: \")\n",
    "print(String1)\n",
    " \n",
    "# Printing Paths with the\n",
    "# use of New Line\n",
    "String1 = \"Python\\nGeeks\"\n",
    "print(\"\\nNew Line: \")\n",
    "print(String1)"
   ]
  },
  {
   "cell_type": "code",
   "execution_count": 55,
   "id": "334d26f8",
   "metadata": {},
   "outputs": [
    {
     "name": "stdout",
     "output_type": "stream",
     "text": [
      "True\n",
      "False\n"
     ]
    }
   ],
   "source": [
    "s1='geeksforgeeks'\n",
    "s2='geeks'\n",
    "print(s2 in s1)\n",
    "print(s2 not in s1)"
   ]
  },
  {
   "cell_type": "code",
   "execution_count": 56,
   "id": "86a8dde5",
   "metadata": {},
   "outputs": [
    {
     "name": "stdout",
     "output_type": "stream",
     "text": [
      "False\n",
      "False\n"
     ]
    }
   ],
   "source": [
    "s1='geeksforgeeks'\n",
    "s2='geeks'\n",
    "print(s1 in s2)\n",
    "print(s2 not in s1)"
   ]
  },
  {
   "cell_type": "code",
   "execution_count": 57,
   "id": "cc41a221",
   "metadata": {},
   "outputs": [
    {
     "name": "stdout",
     "output_type": "stream",
     "text": [
      "index of 'and' in string: 1\n"
     ]
    }
   ],
   "source": [
    "test = 'random'\n",
    "print(\"index of 'and' in string:\", test.index('and'))\n"
   ]
  },
  {
   "cell_type": "code",
   "execution_count": 58,
   "id": "62da5e4b",
   "metadata": {},
   "outputs": [
    {
     "name": "stdout",
     "output_type": "stream",
     "text": [
      "The first position of geeks after 2nd index : 8\n"
     ]
    }
   ],
   "source": [
    "# initializing target string\n",
    "ch = \"geeksforgeeks\"\n",
    " \n",
    "# initializing argument string\n",
    "ch1 = \"geeks\"\n",
    " \n",
    "# using index() to find position of \"geeks\"\n",
    "# starting from 2nd index\n",
    "# prints 8\n",
    "pos = ch.index(ch1,2)\n",
    " \n",
    "print(\"The first position of geeks after 2nd index : \",end=\"\")\n",
    "print(pos)"
   ]
  },
  {
   "cell_type": "code",
   "execution_count": 59,
   "id": "288fb35f",
   "metadata": {},
   "outputs": [
    {
     "name": "stdout",
     "output_type": "stream",
     "text": [
      "enter txt:This is Cat\n",
      "enter pat:is\n",
      "-1\n"
     ]
    }
   ],
   "source": [
    "#this method or pattern uses in google searches \n",
    "txt = input(\"enter txt:\")\n",
    "pat = input(\"enter pat:\")\n",
    "pos = txt.find(pat)\n",
    "while pos >= 0:\n",
    "    pos = txt.find(pat, pos+1)\n",
    "    \n",
    "print(pos)"
   ]
  },
  {
   "cell_type": "code",
   "execution_count": 60,
   "id": "f7d59f39",
   "metadata": {},
   "outputs": [
    {
     "name": "stdout",
     "output_type": "stream",
     "text": [
      "0\n",
      "0\n",
      "5\n"
     ]
    }
   ],
   "source": [
    "#rindex\n",
    "string = \"ping ring\"\n",
    " \n",
    "# checks for the substring in the range 0-4 of the string\n",
    "print(string.rindex(\"ping\", 0, 4))\n",
    " \n",
    "# same as using 0 & 4 as start, end value\n",
    "print(string.rindex(\"ping\", 0, -5))\n",
    " \n",
    "string = \"101001010\"\n",
    "# since there are no '101' substring after string[0:3]\n",
    "# thus it will take the last occurrence of '101'\n",
    "print(string.rindex('101', 2))"
   ]
  },
  {
   "cell_type": "code",
   "execution_count": 61,
   "id": "b34bbdb7",
   "metadata": {},
   "outputs": [
    {
     "name": "stdout",
     "output_type": "stream",
     "text": [
      "\n",
      "Converted String:\n",
      "GEEKS FOR GEEKS\n",
      "\n",
      "Converted String:\n",
      "geeks for geeks\n",
      "\n",
      "Converted String:\n",
      "Geeks For Geeks\n",
      "\n",
      "Original String\n",
      "geeKs For geEkS\n"
     ]
    }
   ],
   "source": [
    "# Python3 program to show the\n",
    "# working of upper() function\n",
    "text = 'geeKs For geEkS'\n",
    " \n",
    "# upper() function to convert\n",
    "# string to upper case\n",
    "print(\"\\nConverted String:\")\n",
    "print(text.upper())\n",
    " \n",
    "# lower() function to convert\n",
    "# string to lower case\n",
    "print(\"\\nConverted String:\")\n",
    "print(text.lower())\n",
    " \n",
    "# converts the first character to\n",
    "# upper case and rest to lower case\n",
    "print(\"\\nConverted String:\")\n",
    "print(text.title())\n",
    " \n",
    "# original string never changes\n",
    "print(\"\\nOriginal String\")\n",
    "print(text)"
   ]
  },
  {
   "cell_type": "code",
   "execution_count": 62,
   "id": "07e4aa8b",
   "metadata": {},
   "outputs": [
    {
     "name": "stdout",
     "output_type": "stream",
     "text": [
      "5\n",
      "2\n"
     ]
    }
   ],
   "source": [
    "#Python String rindex() Method without start and end index\n",
    "string = \"ring ring\"\n",
    " \n",
    "# search for the substring,\n",
    "# from right in the whole string\n",
    "print(string.rindex(\"ring\"))\n",
    " \n",
    "string = \"geeks\"\n",
    "# this will return the right-most 'e'\n",
    "print(string.rindex('e'))"
   ]
  },
  {
   "cell_type": "code",
   "execution_count": 63,
   "id": "2bb70d91",
   "metadata": {},
   "outputs": [
    {
     "name": "stdout",
     "output_type": "stream",
     "text": [
      "True\n",
      "False\n",
      "True\n",
      "\n",
      "\n",
      "True\n",
      "False\n",
      "True\n"
     ]
    }
   ],
   "source": [
    "# Python code to implement startswith()\n",
    "# and endswith() function.\n",
    "  \n",
    "str = \"GeeksforGeeks\"\n",
    "  \n",
    "# startswith()\n",
    "print(str.startswith(\"Geeks\"))\n",
    "print(str.startswith(\"Geeks\", 4, 10))\n",
    "print(str.startswith(\"Geeks\", 8, 14))\n",
    "  \n",
    "print(\"\\n\")\n",
    "  \n",
    "# endswith\n",
    "print(str.endswith(\"Geeks\"))\n",
    "print(str.endswith(\"Geeks\", 2, 8))\n",
    "print(str.endswith(\"for\", 5, 8))\n"
   ]
  },
  {
   "cell_type": "code",
   "execution_count": 64,
   "id": "07a4e124",
   "metadata": {},
   "outputs": [
    {
     "name": "stdout",
     "output_type": "stream",
     "text": [
      "['Geeks', 'for', 'Geeks']\n",
      "Geeks-for-Geeks\n"
     ]
    }
   ],
   "source": [
    "# Python code\n",
    "# to split and join given string\n",
    " \n",
    "# input string\n",
    "s = 'Geeks for Geeks'\n",
    "# print the string after split method\n",
    "print(s.split(\" \"))\n",
    "# print the string after join method\n",
    "print(\"-\".join(s.split()))\n",
    " "
   ]
  },
  {
   "cell_type": "code",
   "execution_count": 65,
   "id": "ca67daf1",
   "metadata": {},
   "outputs": [
    {
     "name": "stdout",
     "output_type": "stream",
     "text": [
      " String after stripping all '-' is : geeksforgeeks\n",
      " String after stripping all leading '-' is : geeksforgeeks---\n",
      " String after stripping all trailing '-' is : ---geeksforgeeks\n"
     ]
    }
   ],
   "source": [
    "# Python code to demonstrate working of \n",
    "# strip(), lstrip() and rstrip()\n",
    "str = \"---geeksforgeeks---\"\n",
    "  \n",
    "# using strip() to delete all '-'\n",
    "print ( \" String after stripping all '-' is : \", end=\"\")\n",
    "print ( str.strip('-') )\n",
    "  \n",
    "# using lstrip() to delete all trailing '-'\n",
    "print ( \" String after stripping all leading '-' is : \", end=\"\")\n",
    "print ( str.lstrip('-') )\n",
    "  \n",
    "# using rstrip() to delete all leading '-'\n",
    "print ( \" String after stripping all trailing '-' is : \", end=\"\")\n",
    "print ( str.rstrip('-') )"
   ]
  },
  {
   "cell_type": "code",
   "execution_count": 66,
   "id": "d2947878",
   "metadata": {},
   "outputs": [
    {
     "name": "stdout",
     "output_type": "stream",
     "text": [
      "Substring 'geeks' found at index: 0\n",
      "Substring 'for ' found at index: 6\n",
      "Contains given substring \n"
     ]
    }
   ],
   "source": [
    "#find() With No start and end Argument\n",
    "word = 'geeks for geeks pawan'\n",
    " \n",
    "# returns first occurrence of Substring\n",
    "result = word.find('geeks')\n",
    "print(\"Substring 'geeks' found at index:\", result)\n",
    " \n",
    "result = word.find('for')\n",
    "print(\"Substring 'for ' found at index:\", result)\n",
    " \n",
    "# How to use find()\n",
    "if word.find('pawan') != -1:\n",
    "    print(\"Contains given substring \")\n",
    "else:\n",
    "    print(\"Doesn't contains given substring\")"
   ]
  },
  {
   "cell_type": "code",
   "execution_count": 67,
   "id": "5b520c02",
   "metadata": {},
   "outputs": [
    {
     "name": "stdout",
     "output_type": "stream",
     "text": [
      "10\n",
      "-1\n",
      "-1\n",
      "6\n"
     ]
    }
   ],
   "source": [
    "#find() With start and end Argument\n",
    "word = 'geeks for geeks'\n",
    " \n",
    "# Substring is searched in 'eks for geeks'\n",
    "print(word.find('ge', 2))\n",
    " \n",
    "# Substring is searched in 'eks for geeks'\n",
    "print(word.find('geeks ', 2))\n",
    " \n",
    "# Substring is searched in 's for g'\n",
    "print(word.find('g', 4, 10))\n",
    " \n",
    "# Substring is searched in 's for g'\n",
    "print(word.find('for ', 4, 11))"
   ]
  },
  {
   "cell_type": "code",
   "execution_count": 68,
   "id": "4caa3d1b",
   "metadata": {},
   "outputs": [
    {
     "name": "stdout",
     "output_type": "stream",
     "text": [
      "0\n"
     ]
    }
   ],
   "source": [
    "txt = \"geeks for geeks\"\n",
    "print(txt.find('geeks'))"
   ]
  },
  {
   "cell_type": "code",
   "execution_count": 69,
   "id": "36fb29d9",
   "metadata": {},
   "outputs": [
    {
     "name": "stdout",
     "output_type": "stream",
     "text": [
      "True\n",
      "True\n",
      "False\n",
      "False\n"
     ]
    }
   ],
   "source": [
    "print(\"Geek\" == \"Geek\")\n",
    "print(\"Geek\" < \"geek\")\n",
    "print(\"Geek\" > \"geek\")\n",
    "print(\"Geek\" != \"Geek\")"
   ]
  },
  {
   "cell_type": "code",
   "execution_count": 70,
   "id": "47fcf389",
   "metadata": {},
   "outputs": [
    {
     "name": "stdout",
     "output_type": "stream",
     "text": [
      "95.854\n"
     ]
    }
   ],
   "source": [
    "# Variable in Python:\n",
    "abc = \"It's a string variable\"\n",
    "_abcnum = 40 # It is an example of int variable\n",
    "abc123 = 55.854 # It is an example of float variable\n",
    "print(_abcnum + abc123) # This will give sum of 40 + 55.854"
   ]
  },
  {
   "cell_type": "code",
   "execution_count": 71,
   "id": "8b550f50",
   "metadata": {},
   "outputs": [
    {
     "name": "stdout",
     "output_type": "stream",
     "text": [
      "50\n",
      "50\n",
      "10.0\n"
     ]
    }
   ],
   "source": [
    "abc = 5 \n",
    "abc2 = '45'\n",
    "abc3 = 55.95\n",
    "xyz = 5.0\n",
    "\n",
    "abc4=int(abc2)\n",
    "\n",
    "print(abc+abc4) # Output : 50 \n",
    "print(abc+int(abc2)) # Output : 50 \n",
    "\n",
    "print(float(abc)+xyz) # It will add 5.0 + 5.0 and will return 10.0\n",
    "\n",
    "#print(str(abc)+45) # It will give an error as abc has been changed into string."
   ]
  },
  {
   "cell_type": "code",
   "execution_count": 72,
   "id": "60188d33",
   "metadata": {},
   "outputs": [
    {
     "name": "stdout",
     "output_type": "stream",
     "text": [
      "Enter first number\n",
      "5\n",
      "Enter second number\n",
      "3\n",
      "Sum of these two numbers is 8\n"
     ]
    }
   ],
   "source": [
    "var1 = \"54\"\n",
    "var4 = \"32\"\n",
    "var2 = 4\n",
    "var3 = 36.7\n",
    "# print(100 * str(int(var1) + int(var4)) )\n",
    "# print(100 * \"Hello world\\n\")\n",
    "# print(\"Enter your number\")\n",
    "# inpnum = input()\n",
    "#\n",
    "# print(\"You entered\", int(inpnum)+10)\n",
    "\"\"\"\n",
    "str()\n",
    "int()\n",
    "float()\n",
    "\"\"\"\n",
    "\n",
    "\"\"\"\n",
    "Quiz - Solved in the video\n",
    "Exercise - Next video\n",
    "Project - Some awesome python utility\n",
    "\"\"\"\n",
    "# print(type(var1))\n",
    "\n",
    "print(\"Enter first number\")\n",
    "n1 = input()\n",
    "print(\"Enter second number\")\n",
    "n2 = input()\n",
    "print(\"Sum of these two numbers is\", int(n1) + int(n2))"
   ]
  },
  {
   "cell_type": "code",
   "execution_count": 73,
   "id": "c53cc7b5",
   "metadata": {},
   "outputs": [
    {
     "name": "stdout",
     "output_type": "stream",
     "text": [
      "False\n",
      "3\n",
      "Harry is a good boy\n",
      "Harry are a good boy\n"
     ]
    }
   ],
   "source": [
    "mystr = \"Harry is a good boy\"\n",
    "# print(len(mystr))\n",
    "# print(mystr[::-2])\n",
    "\n",
    "print(mystr.endswith(\"bdoy\"))\n",
    "print(mystr.count(\"o\"))\n",
    "print(mystr.capitalize())\n",
    "print(mystr.replace(\"is\", \"are\"))"
   ]
  },
  {
   "cell_type": "code",
   "execution_count": 74,
   "id": "1238cb35",
   "metadata": {},
   "outputs": [
    {
     "name": "stdout",
     "output_type": "stream",
     "text": [
      "1\n"
     ]
    }
   ],
   "source": [
    "# List Methods :- \n",
    "list1=[1,2,3,6,5,4]     #list1 is a list\n",
    "\n",
    "print(list1.count(2))    # This will add 7 in the last of list \n"
   ]
  },
  {
   "cell_type": "code",
   "execution_count": 75,
   "id": "d8e7836a",
   "metadata": {},
   "outputs": [
    {
     "name": "stdout",
     "output_type": "stream",
     "text": [
      "Blank List: \n",
      "[]\n",
      "\n",
      "List of numbers: \n",
      "[]\n",
      "\n",
      "List Items: \n",
      "Geeks\n",
      "Geeks\n",
      "14\n",
      "3\n"
     ]
    }
   ],
   "source": [
    "# Python program to demonstrate\n",
    "# Creation of List\n",
    " \n",
    "# Creating a List\n",
    "List = []\n",
    "print(\"Blank List: \")\n",
    "print(List)\n",
    " \n",
    "# Creating a List of numbers\n",
    "List1 = [10, 20, 14]\n",
    "print(\"\\nList of numbers: \")\n",
    "print(List)\n",
    " \n",
    "# Creating a List of strings and accessing\n",
    "# using index\n",
    "List = [\"Geeks\", \"For\", \"Geeks\"]\n",
    "print(\"\\nList Items: \")\n",
    "print(List[0])\n",
    "print(List[2])\n",
    "print(List1[-1])\n",
    "print(len(List1))"
   ]
  },
  {
   "cell_type": "code",
   "execution_count": 76,
   "id": "f8e5621a",
   "metadata": {},
   "outputs": [
    {
     "name": "stdout",
     "output_type": "stream",
     "text": [
      "Accessing a element from a Multi-Dimensional list\n",
      "For\n",
      "Geeks\n"
     ]
    }
   ],
   "source": [
    "# Creating a Multi-Dimensional List\n",
    "# (By Nesting a list inside a List)\n",
    "List = [['Geeks', 'For'], ['Geeks']]\n",
    " \n",
    "# accessing an element from the\n",
    "# Multi-Dimensional List using\n",
    "# index number\n",
    "print(\"Accessing a element from a Multi-Dimensional list\")\n",
    "print(List[0][1])\n",
    "print(List[1][0])"
   ]
  },
  {
   "cell_type": "code",
   "execution_count": 77,
   "id": "54f0fcc3",
   "metadata": {},
   "outputs": [
    {
     "data": {
      "text/plain": [
       "8"
      ]
     },
     "execution_count": 77,
     "metadata": {},
     "output_type": "execute_result"
    }
   ],
   "source": [
    "# List Methods :- \n",
    "list1=[1,2,3,6,5,4]     #list1 is a list\n",
    "\n",
    "list1.append(7)     # This will add 7 in the last of list \n",
    "list1.insert(3,8)    # This will add 8 at 3 index in list\n",
    "list1.remove(1)    #This will remove 1 from the list \n",
    "list1.pop(2)          #This will delete and return index 2 value."
   ]
  },
  {
   "cell_type": "code",
   "execution_count": 78,
   "id": "45c243d6",
   "metadata": {},
   "outputs": [
    {
     "name": "stdout",
     "output_type": "stream",
     "text": [
      "Initial blank List: \n",
      "[]\n",
      "\n",
      "List after Addition of Three elements: \n",
      "[1, 2, 4]\n",
      "\n",
      "List after Addition of elements from 1-3: \n",
      "[1, 2, 4, 1, 2, 3]\n",
      "\n",
      "List after Addition of a Tuple: \n",
      "[1, 2, 4, 1, 2, 3, (5, 6)]\n",
      "\n",
      "List after Addition of a List: \n",
      "[1, 2, 4, 1, 2, 3, (5, 6), ['For', 'Geeks']]\n"
     ]
    }
   ],
   "source": [
    "# Python program to demonstrate\n",
    "# Addition of elements in a List\n",
    " \n",
    "# Creating a List\n",
    "List = []\n",
    "print(\"Initial blank List: \")\n",
    "print(List)\n",
    " \n",
    "# Addition of Elements\n",
    "# in the List\n",
    "List.append(1)\n",
    "List.append(2)\n",
    "List.append(4)\n",
    "print(\"\\nList after Addition of Three elements: \")\n",
    "print(List)\n",
    " \n",
    "# Adding elements to the List\n",
    "# using Iterator\n",
    "for i in range(1, 4):\n",
    "    List.append(i)\n",
    "print(\"\\nList after Addition of elements from 1-3: \")\n",
    "print(List)\n",
    " \n",
    "# Adding Tuples to the List\n",
    "List.append((5, 6))\n",
    "print(\"\\nList after Addition of a Tuple: \")\n",
    "print(List)\n",
    " \n",
    "# Addition of List to a List\n",
    "List2 = ['For', 'Geeks']\n",
    "List.append(List2)\n",
    "print(\"\\nList after Addition of a List: \")\n",
    "print(List)"
   ]
  },
  {
   "cell_type": "code",
   "execution_count": 79,
   "id": "c5fcddf2",
   "metadata": {},
   "outputs": [
    {
     "name": "stdout",
     "output_type": "stream",
     "text": [
      "['Geeks', 'For', 'Geeks']\n"
     ]
    }
   ],
   "source": [
    "#insert method\n",
    "lis = ['Geeks', 'Geeks']\n",
    "lis.insert(1, \"For\")\n",
    "print(lis)"
   ]
  },
  {
   "cell_type": "code",
   "execution_count": 80,
   "id": "344b0d61",
   "metadata": {},
   "outputs": [
    {
     "name": "stdout",
     "output_type": "stream",
     "text": [
      "[1, 2, 3, 4, 5, 6, 7]\n"
     ]
    }
   ],
   "source": [
    "list1 = [ 1, 2, 3, 4, 5, 6, 7 ] \n",
    "  \n",
    "# insert 10 at 4th index \n",
    "#list1.insert(4, 10) \n",
    "print(list1) "
   ]
  },
  {
   "cell_type": "code",
   "execution_count": 81,
   "id": "9974985f",
   "metadata": {},
   "outputs": [
    {
     "name": "stdout",
     "output_type": "stream",
     "text": [
      "3\n"
     ]
    }
   ],
   "source": [
    "list2 = ['a', 'a', 'a', 'b', 'b', 'a', 'c', 'b']\n",
    "print(list2.count('b'))"
   ]
  },
  {
   "cell_type": "code",
   "execution_count": 82,
   "id": "d119ddc2",
   "metadata": {},
   "outputs": [
    {
     "name": "stdout",
     "output_type": "stream",
     "text": [
      "[1, 2, 2, 3, 4, 5]\n",
      "[1, 2, 2, 3, 4]\n",
      "[2, 2, 3, 4]\n"
     ]
    }
   ],
   "source": [
    "#In python del is a keyword and remove(), pop() are in-built methods\n",
    "# program to demonstrate use of del keyword\n",
    "  \n",
    "# assign list\n",
    "numbers = [1, 2, 3, 2, 3, 4, 5]\n",
    "  \n",
    "# use del\n",
    "del numbers[2]\n",
    "  \n",
    "# display list\n",
    "print(numbers)\n",
    "  \n",
    "# use del\n",
    "del numbers[-1]\n",
    "  \n",
    "# display list\n",
    "print(numbers)\n",
    "  \n",
    "# use del\n",
    "del numbers[0]\n",
    "  \n",
    "# display list\n",
    "print(numbers)"
   ]
  },
  {
   "cell_type": "code",
   "execution_count": 83,
   "id": "5763000f",
   "metadata": {},
   "outputs": [
    {
     "name": "stdout",
     "output_type": "stream",
     "text": [
      "[1, 2, 2, 3, 4, 5]\n",
      "[1, 2, 3, 4, 5]\n",
      "[1, 2, 3, 4]\n"
     ]
    }
   ],
   "source": [
    "# program to demonstrate use of remove() method\n",
    "  \n",
    "# assign list\n",
    "numbers = [1, 2, 3, 2, 3, 4, 5]\n",
    "  \n",
    "# use remove()\n",
    "numbers.remove(3)\n",
    "  \n",
    "# display list\n",
    "print(numbers)\n",
    "  \n",
    "# use remove()\n",
    "numbers.remove(2)\n",
    "  \n",
    "# display list\n",
    "print(numbers)\n",
    "  \n",
    "# use remove()\n",
    "numbers.remove(5)\n",
    "  \n",
    "# display list\n",
    "print(numbers)"
   ]
  },
  {
   "cell_type": "code",
   "execution_count": 84,
   "id": "d53bc4d2",
   "metadata": {},
   "outputs": [
    {
     "name": "stdout",
     "output_type": "stream",
     "text": [
      "[1, 2, 3, 3, 4, 5]\n",
      "[1, 2, 3, 3, 4]\n",
      "[2, 3, 3, 4]\n"
     ]
    }
   ],
   "source": [
    "# program to demonstrate use of pop() method\n",
    "  \n",
    "# assign list\n",
    "numbers = [1, 2, 3, 2, 3, 4, 5]\n",
    "  \n",
    "# use remove()\n",
    "numbers.pop(3)\n",
    "  \n",
    "# display list\n",
    "print(numbers)\n",
    "  \n",
    "# use remove()\n",
    "numbers.pop(-1)\n",
    "  \n",
    "# display list\n",
    "print(numbers)\n",
    "  \n",
    "# use remove()\n",
    "numbers.pop(0)\n",
    "  \n",
    "# display list\n",
    "print(numbers)"
   ]
  },
  {
   "cell_type": "code",
   "execution_count": 85,
   "id": "bb7cb8be",
   "metadata": {},
   "outputs": [
    {
     "name": "stdout",
     "output_type": "stream",
     "text": [
      "[1, 2, 3, 4]\n",
      "4\n",
      "1\n",
      "[4, 3, 2, 1]\n"
     ]
    }
   ],
   "source": [
    "# Python program to demonestrate to\n",
    "# sorting numbers in Ascending Order\n",
    "  \n",
    "numbers = [1, 3, 4, 2]\n",
    "# Sorting list of Integers in ascending\n",
    "numbers.sort()\n",
    "print(numbers)\n",
    "print(max(numbers))\n",
    "print(min(numbers))\n",
    "numbers.reverse()\n",
    "print(numbers)"
   ]
  },
  {
   "cell_type": "code",
   "execution_count": 86,
   "id": "de121c7e",
   "metadata": {},
   "outputs": [
    {
     "name": "stdout",
     "output_type": "stream",
     "text": [
      "('vaibhav', 99, 'saga')\n"
     ]
    }
   ],
   "source": [
    "t=(\"vaibhav\", 99, 'saga')\n",
    "print(t)"
   ]
  },
  {
   "cell_type": "code",
   "execution_count": 87,
   "id": "673b18ef",
   "metadata": {},
   "outputs": [
    {
     "name": "stdout",
     "output_type": "stream",
     "text": [
      "('Geeks', 'for', 'Geeks')\n",
      "for\n",
      "Geeks\n",
      "3\n",
      "('Geeks',)\n"
     ]
    }
   ],
   "source": [
    "#to create tuples we will use ()\n",
    "var = (\"Geeks\", \"for\", \"Geeks\")\n",
    "print(var)\n",
    "print(var[1])\n",
    "print(var[-1])\n",
    "print(len(var))\n",
    "print(var[0:1])"
   ]
  },
  {
   "cell_type": "code",
   "execution_count": 88,
   "id": "2cf76b3b",
   "metadata": {},
   "outputs": [
    {
     "data": {
      "text/plain": [
       "'saga'"
      ]
     },
     "execution_count": 88,
     "metadata": {},
     "output_type": "execute_result"
    }
   ],
   "source": [
    "t=(\"vaibhav\", 99, 'saga')\n",
    "t[2]\n",
    "\n"
   ]
  },
  {
   "cell_type": "code",
   "execution_count": 89,
   "id": "d14bf54f",
   "metadata": {},
   "outputs": [
    {
     "data": {
      "text/plain": [
       "('this', 'is', 'a', 'good', 'boy')"
      ]
     },
     "execution_count": 89,
     "metadata": {},
     "output_type": "execute_result"
    }
   ],
   "source": [
    "tup1=('this', \"is\",\"a\")\n",
    "tup2=(\"good\", \"boy\")\n",
    "\n",
    "tup3=tup1+tup2\n",
    "tup3"
   ]
  },
  {
   "cell_type": "code",
   "execution_count": 90,
   "id": "05280c1f",
   "metadata": {},
   "outputs": [
    {
     "data": {
      "text/plain": [
       "8.2"
      ]
     },
     "execution_count": 90,
     "metadata": {},
     "output_type": "execute_result"
    }
   ],
   "source": [
    "t=(3.2,4,1)\n",
    "sum(t)"
   ]
  },
  {
   "cell_type": "code",
   "execution_count": 91,
   "id": "7f9c54f6",
   "metadata": {},
   "outputs": [
    {
     "name": "stdout",
     "output_type": "stream",
     "text": [
      "14.2\n",
      "(2, 3.2)\n"
     ]
    }
   ],
   "source": [
    "tuple = (2,3.2,4,5)\n",
    "print(sum(tuple))\n",
    "print(tuple[0:2])"
   ]
  },
  {
   "cell_type": "code",
   "execution_count": 92,
   "id": "cbf2548a",
   "metadata": {},
   "outputs": [
    {
     "data": {
      "text/plain": [
       "'s'"
      ]
     },
     "execution_count": 92,
     "metadata": {},
     "output_type": "execute_result"
    }
   ],
   "source": [
    "t = (\"disco\", 12, 4.5)\n",
    "t[0][2]"
   ]
  },
  {
   "cell_type": "code",
   "execution_count": 93,
   "id": "923dd3cc",
   "metadata": {},
   "outputs": [
    {
     "data": {
      "text/plain": [
       "(2, 3.2, 4, 5)"
      ]
     },
     "execution_count": 93,
     "metadata": {},
     "output_type": "execute_result"
    }
   ],
   "source": [
    "t = (1,5,\"Disco\", (\"Python\", \"Java\"))\n",
    "type(t[3])\n",
    "tuple"
   ]
  },
  {
   "cell_type": "code",
   "execution_count": 94,
   "id": "2300f541",
   "metadata": {},
   "outputs": [
    {
     "name": "stdout",
     "output_type": "stream",
     "text": [
      "()\n"
     ]
    }
   ],
   "source": [
    "t = (1, 2, 4, 3)\n",
    "print(t[1:-4])"
   ]
  },
  {
   "cell_type": "code",
   "execution_count": 95,
   "id": "7f5faec8",
   "metadata": {},
   "outputs": [
    {
     "data": {
      "text/plain": [
       "['Chemistry', 'Biology', [1989, 2004], ('Oreily', 'Pearson'), 5, 8]"
      ]
     },
     "execution_count": 95,
     "metadata": {},
     "output_type": "execute_result"
    }
   ],
   "source": [
    "# extend()\n",
    "L = [\"Chemistry\", \"Biology\", [1989,  2004] ,(\"Oreily\" , \"Pearson\")]\n",
    "L.extend([5, 8])\n",
    "L"
   ]
  },
  {
   "cell_type": "code",
   "execution_count": 96,
   "id": "c4e2d4c4",
   "metadata": {},
   "outputs": [
    {
     "data": {
      "text/plain": [
       "['Chemistry', 'Biology', [1989, 2004], ('Oreily', 'Pearson'), [5, 8]]"
      ]
     },
     "execution_count": 96,
     "metadata": {},
     "output_type": "execute_result"
    }
   ],
   "source": [
    "# append()\n",
    "L = [\"Chemistry\", \"Biology\", [1989,  2004], (\"Oreily\" , \"Pearson\")]\n",
    "L.append([5, 8])\n",
    "L"
   ]
  },
  {
   "cell_type": "code",
   "execution_count": 97,
   "id": "26c49352",
   "metadata": {},
   "outputs": [
    {
     "name": "stdout",
     "output_type": "stream",
     "text": [
      "('Monty Python', 'British', 1969, 'Python')\n"
     ]
    }
   ],
   "source": [
    "# Write your code here\n",
    "tuple1 = ('Monty Python','British',1969)\n",
    "tuple2 = tuple1 + (\"Python\",)\n",
    "# Make sure to name the final tuple 'tuple_2'\n",
    "print(tuple2)"
   ]
  },
  {
   "cell_type": "code",
   "execution_count": null,
   "id": "948b132b",
   "metadata": {},
   "outputs": [],
   "source": [
    "# Create a tuple\n",
    "my_tuple = (6, 21, 8, 1, 9, 3)\n",
    "\n",
    "# Print the original tuple\n",
    "print(\"Original Tuple:\", my_tuple)\n",
    "\n",
    "# Tuples are immutable (cannot be changed), so you can't directly modify them to remove spaces\n",
    "# If you need a string representation without spaces, you can create a new string by joining the elements\n",
    "joined_string = \"\".join(str(x) for x in my_tuple)\n",
    "\n",
    "# Print the string without spaces\n",
    "print(\"String without spaces:\", joined_string)"
   ]
  },
  {
   "cell_type": "code",
   "execution_count": null,
   "id": "26b88630",
   "metadata": {},
   "outputs": [],
   "source": [
    "# Python program to remove spaces \n",
    "# between elements of tuple \n",
    "\n",
    "# Creating and printing tuple...\n",
    "tuple = (6, 21, 8, 1, 9, 3)\n",
    "print(\"Initial Tuple : \" + str(tuple))\n",
    "\n",
    "# Removing spaces between elements of tuple \n",
    "spaceRemtuple = str(tuple).replace(' ', '')\n",
    "\n",
    "# printing space eliminated tuple \n",
    "print(\"Spaced Removed tuple : \" + str(spaceRemtuple))"
   ]
  },
  {
   "cell_type": "code",
   "execution_count": null,
   "id": "40062f58",
   "metadata": {},
   "outputs": [],
   "source": [
    "tuple1 = ('Monty Python','British',1969)\n",
    "tuple2 = tuple1 + (\"Python\",)\n",
    "# Make sure to name the final tuple 'tuple_2'\n",
    "spaceRemtuple2 = str(tuple2).replace(' ', '')\n",
    "print(\"Spaced Removed tuple2 : \" + str(spaceRemtuple2))"
   ]
  },
  {
   "cell_type": "code",
   "execution_count": 99,
   "id": "61ca2f1e",
   "metadata": {},
   "outputs": [
    {
     "name": "stdout",
     "output_type": "stream",
     "text": [
      "[]\n"
     ]
    }
   ],
   "source": [
    "word = ['1','2','3','4']\n",
    "word[ : ] = [ ] \n",
    "print(word)"
   ]
  },
  {
   "cell_type": "code",
   "execution_count": 100,
   "id": "268dc8b6",
   "metadata": {},
   "outputs": [
    {
     "name": "stdout",
     "output_type": "stream",
     "text": [
      "['five', 'four', 'one', 'six', 'three', 'two']\n",
      "['one', 'two', 'three', 'four', 'five', 'six']\n"
     ]
    }
   ],
   "source": [
    "L = ['one','two','three', 'four', 'five', 'six']\n",
    "print(sorted(L))\n",
    "print (L)"
   ]
  },
  {
   "cell_type": "code",
   "execution_count": 101,
   "id": "db86e735",
   "metadata": {},
   "outputs": [
    {
     "name": "stdout",
     "output_type": "stream",
     "text": [
      "{'b', 'a', 'c'}\n",
      "{'d', 'b', 'a', 'c'}\n"
     ]
    }
   ],
   "source": [
    "# typecasting list to set\n",
    "myset = set([\"a\", \"b\", \"c\"])\n",
    "print(myset)\n",
    " \n",
    "# Adding element to the set\n",
    "myset.add(\"d\")\n",
    "print(myset)"
   ]
  },
  {
   "cell_type": "code",
   "execution_count": 102,
   "id": "fe7b0624",
   "metadata": {},
   "outputs": [
    {
     "name": "stdout",
     "output_type": "stream",
     "text": [
      "Normal Set\n",
      "{'b', 'a', 'c'}\n",
      "\n",
      "Frozen Set\n",
      "frozenset({'g', 'f', 'e'})\n"
     ]
    }
   ],
   "source": [
    "# Python program to demonstrate differences\n",
    "# between normal and frozen set\n",
    " \n",
    "# Same as {\"a\", \"b\",\"c\"}\n",
    "normal_set = set([\"a\", \"b\",\"c\"])\n",
    " \n",
    "print(\"Normal Set\")\n",
    "print(normal_set)\n",
    " \n",
    "# A frozen set\n",
    "frozen_set = frozenset([\"e\", \"f\", \"g\"])\n",
    " \n",
    "print(\"\\nFrozen Set\")\n",
    "print(frozen_set)\n",
    " \n",
    "# Uncommenting below line would cause error as\n",
    "# we are trying to add element to a frozen set\n",
    "# frozen_set.add(\"h\")"
   ]
  },
  {
   "cell_type": "code",
   "execution_count": 103,
   "id": "94390f58",
   "metadata": {},
   "outputs": [
    {
     "name": "stdout",
     "output_type": "stream",
     "text": [
      "People: {'Archi', 'Jay', 'Idrish'}\n",
      "\n",
      "Set after adding element: {1, 2, 3, 4, 5, 'Jay', 'Daxit', 'Idrish', 'Archi'}\n"
     ]
    }
   ],
   "source": [
    "#adding element in set\n",
    "# A Python program to\n",
    "# demonstrate adding elements\n",
    "# in a set\n",
    " \n",
    "# Creating a Set\n",
    "people = {\"Jay\", \"Idrish\", \"Archi\"}\n",
    " \n",
    "print(\"People:\", end = \" \")\n",
    "print(people)\n",
    " \n",
    "# This will add Daxit\n",
    "# in the set\n",
    "people.add(\"Daxit\")\n",
    " \n",
    "# Adding elements to the\n",
    "# set using iterator\n",
    "for i in range(1, 6):\n",
    "    people.add(i)\n",
    " \n",
    "print(\"\\nSet after adding element:\", end = \" \")\n",
    "print(people)"
   ]
  },
  {
   "cell_type": "code",
   "execution_count": 104,
   "id": "d2945140",
   "metadata": {},
   "outputs": [
    {
     "name": "stdout",
     "output_type": "stream",
     "text": [
      "Union using union() function\n",
      "{'Jay', 'Karan', 'Archil', 'Arjun', 'Idrish'}\n",
      "\n",
      "Union using '|' operator\n",
      "{'Jay', 'Deepanshu', 'Archil', 'Raju', 'Idrish'}\n"
     ]
    }
   ],
   "source": [
    "#union operation \n",
    "# Python Program to\n",
    "# demonstrate union of\n",
    "# two sets\n",
    " \n",
    "people = {\"Jay\", \"Idrish\", \"Archil\"}\n",
    "vampires = {\"Karan\", \"Arjun\"}\n",
    "dracula = {\"Deepanshu\", \"Raju\"}\n",
    " \n",
    "# Union using union()\n",
    "# function\n",
    "population = people.union(vampires)\n",
    " \n",
    "print(\"Union using union() function\")\n",
    "print(population)\n",
    " \n",
    "# Union using \"|\"\n",
    "# operator\n",
    "population = people|dracula\n",
    " \n",
    "print(\"\\nUnion using '|' operator\")\n",
    "print(population)"
   ]
  },
  {
   "cell_type": "code",
   "execution_count": 105,
   "id": "39193a87",
   "metadata": {},
   "outputs": [
    {
     "name": "stdout",
     "output_type": "stream",
     "text": [
      "Intersection using intersection() function\n",
      "{3, 4}\n",
      "\n",
      "Intersection using '&' operator\n",
      "{3, 4}\n"
     ]
    }
   ],
   "source": [
    "# Python program to\n",
    "# demonstrate intersection\n",
    "# of two sets\n",
    " \n",
    "set1 = set()\n",
    "set2 = set()\n",
    " \n",
    "for i in range(5):\n",
    "    set1.add(i)\n",
    " \n",
    "for i in range(3,9):\n",
    "    set2.add(i)\n",
    " \n",
    "# Intersection using\n",
    "# intersection() function\n",
    "set3 = set1.intersection(set2)\n",
    " \n",
    "print(\"Intersection using intersection() function\")\n",
    "print(set3)\n",
    " \n",
    "# Intersection using\n",
    "# \"&\" operator\n",
    "set3 = set1 & set2\n",
    " \n",
    "print(\"\\nIntersection using '&' operator\")\n",
    "print(set3)"
   ]
  },
  {
   "cell_type": "code",
   "execution_count": 106,
   "id": "de61581a",
   "metadata": {},
   "outputs": [
    {
     "name": "stdout",
     "output_type": "stream",
     "text": [
      " Difference of two sets using difference() function\n",
      "{0, 1, 2}\n",
      "\n",
      "Difference of two sets using '-' operator\n",
      "{0, 1, 2}\n"
     ]
    }
   ],
   "source": [
    "#find difference in set\n",
    "# Python program to\n",
    "# demonstrate difference\n",
    "# of two sets\n",
    " \n",
    "set1 = set()\n",
    "set2 = set()\n",
    " \n",
    "for i in range(5):\n",
    "    set1.add(i)\n",
    " \n",
    "for i in range(3,9):\n",
    "    set2.add(i)\n",
    " \n",
    "# Difference of two sets\n",
    "# using difference() function\n",
    "set3 = set1.difference(set2)\n",
    " \n",
    "print(\" Difference of two sets using difference() function\")\n",
    "print(set3)\n",
    " \n",
    "# Difference of two sets\n",
    "# using '-' operator\n",
    "set3 = set1 - set2\n",
    " \n",
    "print(\"\\nDifference of two sets using '-' operator\")\n",
    "print(set3)"
   ]
  },
  {
   "cell_type": "code",
   "execution_count": 107,
   "id": "3a64419a",
   "metadata": {},
   "outputs": [
    {
     "name": "stdout",
     "output_type": "stream",
     "text": [
      " Difference of two sets using difference() function\n",
      "{0, 1, 2}\n",
      "\n",
      "Difference of two sets using '-' operator\n",
      "{0, 1, 2}\n"
     ]
    }
   ],
   "source": [
    "#clearing set use clear()\n",
    "# Python program to\n",
    "# demonstrate difference\n",
    "# of two sets\n",
    " \n",
    "set1 = set()\n",
    "set2 = set()\n",
    " \n",
    "for i in range(5):\n",
    "    set1.add(i)\n",
    " \n",
    "for i in range(3,9):\n",
    "    set2.add(i)\n",
    " \n",
    "# Difference of two sets\n",
    "# using difference() function\n",
    "set3 = set1.difference(set2)\n",
    " \n",
    "print(\" Difference of two sets using difference() function\")\n",
    "print(set3)\n",
    " \n",
    "# Difference of two sets\n",
    "# using '-' operator\n",
    "set3 = set1 - set2\n",
    " \n",
    "print(\"\\nDifference of two sets using '-' operator\")\n",
    "print(set3)"
   ]
  },
  {
   "cell_type": "code",
   "execution_count": 108,
   "id": "28db57ad",
   "metadata": {},
   "outputs": [
    {
     "name": "stdout",
     "output_type": "stream",
     "text": [
      "disjoint sets: False\n",
      "isSubset: False\n",
      "False\n",
      "proper set: False\n",
      "s1 is superset of s2: True\n",
      "True\n",
      "s1 is proper superset of s2: True\n"
     ]
    }
   ],
   "source": [
    "s1 = {2, 4, 6, 8}\n",
    "s2 = {4, 8}\n",
    "\n",
    "print('disjoint sets:', s1.isdisjoint(s2))\n",
    "\n",
    "print('isSubset:', s1 <= s2)\n",
    "print(s1.issubset(s2))\n",
    "\n",
    "print('proper set:', s1 < s2)\n",
    "\n",
    "print('s1 is superset of s2:', s1 >= s2)\n",
    "print(s1.issuperset(s2))\n",
    "\n",
    "print('s1 is proper superset of s2:', s1 > s2)\n"
   ]
  },
  {
   "cell_type": "code",
   "execution_count": 109,
   "id": "f6e57dfb",
   "metadata": {},
   "outputs": [
    {
     "name": "stdout",
     "output_type": "stream",
     "text": [
      "union  {2, 3, 4, 6, 8, 9}\n",
      "{2, 3, 4, 6, 8, 9}\n",
      "intersecton {6}\n",
      "{6}\n",
      "present in s1, but not present in s2 {8, 2, 4}\n",
      "{8, 2, 4}\n",
      "symmetric differences, not present in both {2, 3, 4, 8, 9}\n"
     ]
    }
   ],
   "source": [
    "s1 = {2, 4, 6, 8}\n",
    "\n",
    "s2 = {3, 6, 9}\n",
    "\n",
    "print('union ', s1 | s2)\n",
    "print(s1.union(s2))\n",
    "\n",
    "print('intersecton', s1 & s2)\n",
    "print(s1.intersection(s2))\n",
    "\n",
    "print('present in s1, but not present in s2', s1 - s2)\n",
    "print(s1.difference(s2))\n",
    "\n",
    "print('symmetric differences, not present in both', s1 ^ s2)\n"
   ]
  },
  {
   "cell_type": "code",
   "execution_count": 110,
   "id": "83bfccd9",
   "metadata": {},
   "outputs": [
    {
     "name": "stdout",
     "output_type": "stream",
     "text": [
      "{1, 3, 5, 7}\n",
      "{1, 3, 5, 7}\n"
     ]
    }
   ],
   "source": [
    "A = {5,1,3,4,4,5,6,7}\n",
    "B = {3,3,5,5, 1 ,7 ,2}\n",
    "\n",
    "print(A & B)\n",
    "print(A.intersection(B))"
   ]
  },
  {
   "cell_type": "code",
   "execution_count": 111,
   "id": "74a1185a",
   "metadata": {},
   "outputs": [
    {
     "name": "stdout",
     "output_type": "stream",
     "text": [
      "[1, 3, 5]\n"
     ]
    }
   ],
   "source": [
    "A = {5,1,3,4,4,5,6,7}\n",
    "B = {3,3,5,5, 1 ,7 ,2}\n",
    "\n",
    "A.remove(7)\n",
    "s=list(A.intersection(B))  #convert set into list\n",
    "print(s)"
   ]
  },
  {
   "cell_type": "code",
   "execution_count": 112,
   "id": "db4bf713",
   "metadata": {},
   "outputs": [
    {
     "name": "stdout",
     "output_type": "stream",
     "text": [
      "4\n"
     ]
    }
   ],
   "source": [
    "nums = set([1,1,2,3,3,3,4])\n",
    "print(len(nums))"
   ]
  },
  {
   "cell_type": "code",
   "execution_count": 113,
   "id": "adfd9935",
   "metadata": {},
   "outputs": [
    {
     "name": "stdout",
     "output_type": "stream",
     "text": [
      "Count of 2: 3\n"
     ]
    }
   ],
   "source": [
    "# create a list\n",
    "numbers = [2, 3, 5, 2, 11, 2, 7]\n",
    "\n",
    "# check the count of 2\n",
    "count = numbers.count(2)\n",
    "\n",
    "\n",
    "print('Count of 2:', count)\n",
    "\n",
    "# Output: Count of 2: 3"
   ]
  },
  {
   "cell_type": "code",
   "execution_count": 114,
   "id": "fae89570",
   "metadata": {},
   "outputs": [
    {
     "name": "stdout",
     "output_type": "stream",
     "text": [
      "Removed Element: 5\n",
      "Updated List: [2, 3, 7]\n"
     ]
    }
   ],
   "source": [
    "# create a list of prime numbers\n",
    "prime_numbers = [2, 3, 5, 7]\n",
    "\n",
    "# remove the element at index 2\n",
    "removed_element = prime_numbers.pop(2)\n",
    "\n",
    "print('Removed Element:', removed_element)\n",
    "print('Updated List:', prime_numbers)\n",
    "\n",
    "# Output: \n",
    "# Removed Element: 5\n",
    "# Updated List: [2, 3, 7]"
   ]
  },
  {
   "cell_type": "code",
   "execution_count": 115,
   "id": "838464a0",
   "metadata": {},
   "outputs": [
    {
     "name": "stdout",
     "output_type": "stream",
     "text": [
      "['Python', 'R']\n"
     ]
    }
   ],
   "source": [
    "d = {'Python':40, 'R':45}\n",
    "print(list(d.keys()))"
   ]
  },
  {
   "cell_type": "code",
   "execution_count": 116,
   "id": "f5981f56",
   "metadata": {},
   "outputs": [
    {
     "data": {
      "text/plain": [
       "129"
      ]
     },
     "execution_count": 116,
     "metadata": {},
     "output_type": "execute_result"
    }
   ],
   "source": [
    "# List of order ID’s which are processed \n",
    "processed_orders = [1152, 1154, 1155, 1156, 1157, 1160, 1161, 1162, 1166, 1169, 1170, 1172, 1176, 1050, 1178, 1051, 1052, 1054, 1058, 1060, 1061, 1062, 1065, 1066, 1067, 1068, 1069, 1076, 1077, 1080, 1081, 1083, 1091, 1085, 1088, 1089, 1131, 1092, 1094, 1095, 1099, 1102, 1103, 1104, 1106, 1107, 1108, 1109, 1111, 1117, 1119, 1121, 1150, 1128, 1129, 1136, 1137, 1139, 1140, 1141, 1144, 1148, 1124]\n",
    "\n",
    "# List of order ID’s which are returned\n",
    "returned_orders = [1153, 1158, 1159, 1163, 1164, 1165, 1167, 1168, 1171, 1173, 1174, 1175, 1177, 1053, 1055, 1056, 1057, 1059, 1063, 1064, 1070, 1071, 1072, 1073, 1074, 1075, 1078, 1079, 1082, 1084, 1086, 1087, 1090, 1093, 1096, 1097, 1098, 1100, 1101, 1105, 1110, 1112, 1113, 1114, 1115, 1116, 1118, 1120, 1122, 1123, 1125, 1126, 1127, 1130, 1132, 1133, 1134, 1135, 1138, 1142, 1143, 1145, 1146, 1147, 1149, 1151]\n",
    "\n",
    "# Consider the information available in the above two lists and answer the question given below\n",
    "len(processed_orders) + len(returned_orders)"
   ]
  },
  {
   "cell_type": "code",
   "execution_count": 117,
   "id": "da93f23a",
   "metadata": {},
   "outputs": [
    {
     "data": {
      "text/plain": [
       "[1050, 1051, 1052, 1053]"
      ]
     },
     "execution_count": 117,
     "metadata": {},
     "output_type": "execute_result"
    }
   ],
   "source": [
    "# List of order ID’s which are processed \n",
    "processed_orders = [1152, 1154, 1155, 1156, 1157, 1160, 1161, 1162, 1166, 1169, 1170, 1172, 1176, 1050, 1178, 1051, 1052, 1054, 1058, 1060, 1061, 1062, 1065, 1066, 1067, 1068, 1069, 1076, 1077, 1080, 1081, 1083, 1091, 1085, 1088, 1089, 1131, 1092, 1094, 1095, 1099, 1102, 1103, 1104, 1106, 1107, 1108, 1109, 1111, 1117, 1119, 1121, 1150, 1128, 1129, 1136, 1137, 1139, 1140, 1141, 1144, 1148, 1124]\n",
    "\n",
    "# List of order ID’s which are returned\n",
    "returned_orders = [1153, 1158, 1159, 1163, 1164, 1165, 1167, 1168, 1171, 1173, 1174, 1175, 1177, 1053, 1055, 1056, 1057, 1059, 1063, 1064, 1070, 1071, 1072, 1073, 1074, 1075, 1078, 1079, 1082, 1084, 1086, 1087, 1090, 1093, 1096, 1097, 1098, 1100, 1101, 1105, 1110, 1112, 1113, 1114, 1115, 1116, 1118, 1120, 1122, 1123, 1125, 1126, 1127, 1130, 1132, 1133, 1134, 1135, 1138, 1142, 1143, 1145, 1146, 1147, 1149, 1151]\n",
    "\n",
    "# Consider the information available in the above two lists and answer the question given below\n",
    "orders = processed_orders + returned_orders\n",
    "orders.sort()\n",
    "orders[0:4]\n"
   ]
  },
  {
   "cell_type": "code",
   "execution_count": 118,
   "id": "c3e23f48",
   "metadata": {},
   "outputs": [
    {
     "name": "stdout",
     "output_type": "stream",
     "text": [
      "False\n"
     ]
    }
   ],
   "source": [
    "processed_orders = [1152, 1154, 1155, 1156, 1157, 1160, 1161, 1162, 1166, 1169, 1170, 1172, 1176, 1050, 1178, 1051, 1052, 1054, 1058, 1060, 1061, 1062, 1065, 1066, 1067, 1068, 1069, 1076, 1077, 1080, 1081, 1083, 1091, 1085, 1088, 1089, 1131, 1092, 1094, 1095, 1099, 1102, 1103, 1104, 1106, 1107, 1108, 1109, 1111, 1117, 1119, 1121, 1150, 1128, 1129, 1136, 1137, 1139, 1140, 1141, 1144, 1148, 1124]\n",
    "\n",
    "# List of order ID’s which are returned\n",
    "returned_orders = [1153, 1158, 1159, 1163, 1164, 1165, 1167, 1168, 1171, 1173, 1174, 1175, 1177, 1053, 1055, 1056, 1057, 1059, 1063, 1064, 1070, 1071, 1072, 1073, 1074, 1075, 1078, 1079, 1082, 1084, 1086, 1087, 1090, 1093, 1096, 1097, 1098, 1100, 1101, 1105, 1110, 1112, 1113, 1114, 1115, 1116, 1118, 1120, 1122, 1123, 1125, 1126, 1127, 1130, 1132, 1133, 1134, 1135, 1138, 1142, 1143, 1145, 1146, 1147, 1149, 1151]\n",
    "\n",
    "# Consider the information available in the above two lists and answer the question given below\n",
    "print('1099' in returned_orders)"
   ]
  },
  {
   "cell_type": "code",
   "execution_count": 119,
   "id": "714ff9d9",
   "metadata": {},
   "outputs": [
    {
     "name": "stdout",
     "output_type": "stream",
     "text": [
      "\n",
      "Dictionary with the use of Integer Keys: \n",
      "{1: 'Geeks', 2: 'For', 3: 'Geeks'}\n",
      "\n",
      "Dictionary with the use of Mixed Keys: \n",
      "{'Name': 'Geeks', 1: [1, 2, 3, 4]}\n"
     ]
    }
   ],
   "source": [
    "# Creating a Dictionary\n",
    "# with Integer Keys\n",
    "Dict = {1: 'Geeks', 2: 'For', 3: 'Geeks'}\n",
    "print(\"\\nDictionary with the use of Integer Keys: \")\n",
    "print(Dict)\n",
    "  \n",
    "# Creating a Dictionary\n",
    "# with Mixed keys\n",
    "Dict = {'Name': 'Geeks', 1: [1, 2, 3, 4]}\n",
    "print(\"\\nDictionary with the use of Mixed Keys: \")\n",
    "print(Dict)"
   ]
  },
  {
   "cell_type": "code",
   "execution_count": 120,
   "id": "12f0499c",
   "metadata": {},
   "outputs": [
    {
     "name": "stdout",
     "output_type": "stream",
     "text": [
      "\n",
      "Dictionary with the use of dict(): \n",
      "{1: 'Geeks', 2: 'For', 3: 'Geeks'}\n",
      "\n",
      "Dictionary with each item as a pair: \n",
      "{1: 'Geeks', 2: 'For'}\n"
     ]
    }
   ],
   "source": [
    "# Creating a Dictionary\n",
    "# with dict() method\n",
    "Dict = dict({1: 'Geeks', 2: 'For', 3: 'Geeks'})\n",
    "print(\"\\nDictionary with the use of dict(): \")\n",
    "print(Dict)\n",
    "  \n",
    "# Creating a Dictionary\n",
    "# with each item as a Pair\n",
    "Dict1 = dict([(1, 'Geeks'), (2, 'For')])\n",
    "print(\"\\nDictionary with each item as a pair: \")\n",
    "print(Dict1)"
   ]
  },
  {
   "cell_type": "code",
   "execution_count": 121,
   "id": "d19bb888",
   "metadata": {},
   "outputs": [
    {
     "name": "stdout",
     "output_type": "stream",
     "text": [
      "{'Harry': 'Burger', 'Rohan': 'Fish', 'SkillF': 'Roti', 'Shubham': {'B': 'maggie', 'L': 'roti', 'D': 'Chicken'}, 'Ankit': 'Junk Food', 420: 'Kebabs'}\n",
      "{'B': 'maggie', 'L': 'roti', 'D': 'Chicken'}\n",
      "dict_keys(['Harry', 'Rohan', 'SkillF', 'Shubham', 'Ankit', 'Leena'])\n",
      "dict_items([('Harry', 'Burger'), ('Rohan', 'Fish'), ('SkillF', 'Roti'), ('Shubham', {'B': 'maggie', 'L': 'roti', 'D': 'Chicken'}), ('Ankit', 'Junk Food'), ('Leena', 'Toffee')])\n"
     ]
    }
   ],
   "source": [
    "# Dictionary is nothing but key value pairs\n",
    "d1 = {}\n",
    "# print(type(d1))\n",
    "d2 = {\"Harry\":\"Burger\",\n",
    "      \"Rohan\":\"Fish\",\n",
    "      \"SkillF\":\"Roti\",\n",
    "      \"Shubham\":{\"B\":\"maggie\", \"L\":\"roti\", \"D\":\"Chicken\"}}\n",
    "d2[\"Ankit\"] = \"Junk Food\"\n",
    "d2[420] = \"Kebabs\"\n",
    "print(d2)\n",
    "del d2[420]\n",
    "print(d2[\"Shubham\"])\n",
    "d3 = d2.copy()\n",
    "#del d3[\"Harry\"]\n",
    "d2.update({\"Leena\":\"Toffee\"})\n",
    "print(d2.keys())\n",
    "print(d2.items())"
   ]
  },
  {
   "cell_type": "code",
   "execution_count": 122,
   "id": "06e05217",
   "metadata": {},
   "outputs": [
    {
     "name": "stdout",
     "output_type": "stream",
     "text": [
      "{1: 'Geeks'}\n",
      "Geeks\n",
      "For\n"
     ]
    }
   ],
   "source": [
    "# access the element\n",
    "# Creating a Dictionary\n",
    "Dict = {'Dict1': {1: 'Geeks'},\n",
    "        'Dict2': {'Name': 'For'}}\n",
    "  \n",
    "# Accessing element using key\n",
    "print(Dict['Dict1'])\n",
    "print(Dict['Dict1'][1])\n",
    "print(Dict['Dict2']['Name'])"
   ]
  },
  {
   "cell_type": "code",
   "execution_count": 123,
   "id": "b4d828f8",
   "metadata": {},
   "outputs": [
    {
     "name": "stdout",
     "output_type": "stream",
     "text": [
      "{1: 'Python', 2: 'Java', 3: 'Ruby', 4: 'Scala'}\n",
      "{}\n",
      "Python\n",
      "dict_items([(1, 'Python'), (2, 'Java'), (3, 'Ruby'), (4, 'Scala')])\n",
      "dict_keys([1, 2, 3, 4])\n",
      "{1: 'Python', 2: 'Java', 3: 'Ruby'}\n",
      "{1: 'Python', 2: 'Java'}\n",
      "{1: 'Python', 2: 'Java', 3: 'Scala'}\n",
      "dict_values(['Python', 'Java', 'Scala'])\n"
     ]
    }
   ],
   "source": [
    "# demo for all dictionary methods\n",
    "dict1 = {1: \"Python\", 2: \"Java\", 3: \"Ruby\", 4: \"Scala\"}\n",
    "  \n",
    "# copy() method\n",
    "dict2 = dict1.copy()\n",
    "print(dict2)\n",
    "  \n",
    "# clear() method\n",
    "dict1.clear()\n",
    "print(dict1)\n",
    "  \n",
    "# get() method\n",
    "print(dict2.get(1))\n",
    "  \n",
    "# items() method\n",
    "print(dict2.items())\n",
    "  \n",
    "# keys() method\n",
    "print(dict2.keys())\n",
    "  \n",
    "# pop() method\n",
    "dict2.pop(4)\n",
    "print(dict2)\n",
    "  \n",
    "# popitem() method\n",
    "dict2.popitem()\n",
    "print(dict2)\n",
    "  \n",
    "# update() method\n",
    "dict2.update({3: \"Scala\"})\n",
    "print(dict2)\n",
    "  \n",
    "# values() method\n",
    "print(dict2.values())"
   ]
  },
  {
   "cell_type": "code",
   "execution_count": 124,
   "id": "580532f3",
   "metadata": {},
   "outputs": [
    {
     "name": "stdout",
     "output_type": "stream",
     "text": [
      "you can enter\n",
      "move on\n"
     ]
    }
   ],
   "source": [
    "# If statement example\n",
    "\n",
    "age = 19\n",
    "#age = 18\n",
    "\n",
    "#expression that can be true or false\n",
    "if age > 18:\n",
    "    \n",
    "    #within an indent, we have the expression that is run if the condition is true\n",
    "    print(\"you can enter\" )\n",
    "\n",
    "#The statements after the if statement will run regardless if the condition is true or false \n",
    "print(\"move on\")"
   ]
  },
  {
   "cell_type": "code",
   "execution_count": 125,
   "id": "46dee5d4",
   "metadata": {},
   "outputs": [
    {
     "name": "stdout",
     "output_type": "stream",
     "text": [
      "Gee\n",
      "ek\n",
      "!seGrf\n"
     ]
    }
   ],
   "source": [
    "#slicing \n",
    "# declaring the string\n",
    "str =\"Geeks for Geeks !\"\n",
    " \n",
    "# slicing using indexing sequence\n",
    "print(str[: 3])\n",
    "print(str[1 : 5 : 2])\n",
    "print(str[-1 : -12 : -2])"
   ]
  },
  {
   "cell_type": "code",
   "execution_count": 126,
   "id": "8e0afd04",
   "metadata": {},
   "outputs": [
    {
     "name": "stdout",
     "output_type": "stream",
     "text": [
      "[70, 30, 20, 90]\n"
     ]
    }
   ],
   "source": [
    "#slicing in list\n",
    "Lst = [50, 70, 30, 20, 90, 10, 50]\n",
    " \n",
    "# Display list\n",
    "print(Lst[1:5])"
   ]
  },
  {
   "cell_type": "code",
   "execution_count": 127,
   "id": "74921e28",
   "metadata": {},
   "outputs": [
    {
     "name": "stdout",
     "output_type": "stream",
     "text": [
      "(3, 45, 4)\n"
     ]
    }
   ],
   "source": [
    "#slicing in tuple\n",
    "tup = (22, 3, 45, 4, 2.4, 2, 56, 890, 1)\n",
    "print(tup[1:4])"
   ]
  },
  {
   "cell_type": "code",
   "execution_count": 128,
   "id": "76de5ca1",
   "metadata": {},
   "outputs": [
    {
     "name": "stdout",
     "output_type": "stream",
     "text": [
      "[1, 2, 3]\n"
     ]
    }
   ],
   "source": [
    "# Using list comprehension to iterate through loop\n",
    "List = [character for character in [1, 2, 3]]\n",
    " \n",
    "# Displaying list\n",
    "print(List)"
   ]
  },
  {
   "cell_type": "code",
   "execution_count": 129,
   "id": "a0aea379",
   "metadata": {},
   "outputs": [
    {
     "name": "stdout",
     "output_type": "stream",
     "text": [
      "[0, 2, 4, 6, 8, 10]\n"
     ]
    }
   ],
   "source": [
    "list = [i for i in range(11) if i % 2 == 0]\n",
    "print(list)"
   ]
  },
  {
   "cell_type": "code",
   "execution_count": 130,
   "id": "1bde8e25",
   "metadata": {},
   "outputs": [
    {
     "name": "stdout",
     "output_type": "stream",
     "text": [
      "[[0, 1, 2], [0, 1, 2], [0, 1, 2]]\n"
     ]
    }
   ],
   "source": [
    "matrix = [[j for j in range(3)] for i in range(3)]\n",
    "   \n",
    "print(matrix)"
   ]
  },
  {
   "cell_type": "code",
   "execution_count": 131,
   "id": "865d6d24",
   "metadata": {},
   "outputs": [
    {
     "name": "stdout",
     "output_type": "stream",
     "text": [
      "['G', 'e', 'e', 'k', 's', ' ', '4', ' ', 'G', 'e', 'e', 'k', 's', '!']\n"
     ]
    }
   ],
   "source": [
    "# Empty list\n",
    "List = []\n",
    " \n",
    "# Traditional approach of iterating\n",
    "for character in 'Geeks 4 Geeks!':\n",
    "    List.append(character)\n",
    " \n",
    "# Display list\n",
    "print(List)"
   ]
  },
  {
   "cell_type": "code",
   "execution_count": 132,
   "id": "e4249436",
   "metadata": {},
   "outputs": [
    {
     "name": "stdout",
     "output_type": "stream",
     "text": [
      "{'a': 1, 'b': 2, 'c': 3, 'd': 4, 'e': 5}\n"
     ]
    }
   ],
   "source": [
    "# Python code to demonstrate dictionary\n",
    "# comprehension\n",
    " \n",
    "# Lists to represent keys and values\n",
    "keys = ['a','b','c','d','e']\n",
    "values = [1,2,3,4,5] \n",
    " \n",
    "# but this line shows dict comprehension here \n",
    "myDict = { k:v for (k,v) in zip(keys, values)} \n",
    " \n",
    "# We can use below too\n",
    "# myDict = dict(zip(keys, values)) \n",
    " \n",
    "print (myDict)"
   ]
  },
  {
   "cell_type": "code",
   "execution_count": 133,
   "id": "63cfe640",
   "metadata": {},
   "outputs": [
    {
     "name": "stdout",
     "output_type": "stream",
     "text": [
      "AA\n",
      "BA\n",
      "CA\n"
     ]
    }
   ],
   "source": [
    "for x in ['A','B','C']:\n",
    "\n",
    "  print(x+'A')"
   ]
  },
  {
   "cell_type": "code",
   "execution_count": 134,
   "id": "a223eb40",
   "metadata": {},
   "outputs": [
    {
     "name": "stdout",
     "output_type": "stream",
     "text": [
      "0 A\n",
      "1 B\n",
      "2 C\n"
     ]
    }
   ],
   "source": [
    "for i,x in enumerate(['A','B','C']):\n",
    "    print(i,x)"
   ]
  },
  {
   "cell_type": "code",
   "execution_count": 135,
   "id": "600818ab",
   "metadata": {},
   "outputs": [
    {
     "name": "stdout",
     "output_type": "stream",
     "text": [
      "10 is even number\n"
     ]
    }
   ],
   "source": [
    "x = 10\n",
    "\n",
    "if x % 2 == 0:\n",
    "    print(x, \"is even number\")\n",
    "else:\n",
    "    print(x, \"is odd number\")"
   ]
  },
  {
   "cell_type": "code",
   "execution_count": 138,
   "id": "74dcbb8e",
   "metadata": {},
   "outputs": [
    {
     "name": "stdout",
     "output_type": "stream",
     "text": [
      "35\n",
      "not allow\n"
     ]
    }
   ],
   "source": [
    "x = int(input())\n",
    "\n",
    "if x >= 60 or x <= 18 :\n",
    "    print(\"allow\")\n",
    "else:\n",
    "    print(\"not allow\")"
   ]
  },
  {
   "cell_type": "code",
   "execution_count": 139,
   "id": "4668e056",
   "metadata": {},
   "outputs": [
    {
     "name": "stdout",
     "output_type": "stream",
     "text": [
      "5500\n",
      "discopunt of 2000\n"
     ]
    }
   ],
   "source": [
    "shop = int(input())\n",
    "\n",
    "if shop >=5000 :\n",
    "   print(\"discopunt of 2000\")\n",
    "elif shop >= 2500 :\n",
    "    print(\"discount of 1000\")\n",
    "elif shop >= 1500 :\n",
    "    print(\"dicount of 500\")\n",
    "else :\n",
    "  print(\"nothing\")"
   ]
  },
  {
   "cell_type": "code",
   "execution_count": 140,
   "id": "e25cfa96",
   "metadata": {},
   "outputs": [
    {
     "name": "stdout",
     "output_type": "stream",
     "text": [
      "Enter year to check India made it to Finals in 20th century : 2011\n",
      "India made it to Finals\n"
     ]
    }
   ],
   "source": [
    "world_cups = {2019 : ['England', 'New-Zeland'], 2015:[\"Australia\", \"New Zeland\"], 2011 : [\"India\", \"Sri Lanka\"], 2007: [\"Australia\", \"Sri Lanka\"], 2003: [\"Australia\", \"India\"]}\n",
    "\n",
    "year = int(input(\"Enter year to check India made it to Finals in 20th century : \"))\n",
    "\n",
    "if year in world_cups :\n",
    " if \"India\" in world_cups[year] :\n",
    "     print(\"India made it to Finals\")\n",
    " else:\n",
    "     print(\"India could not make it to Finals\")\n",
    "        \n",
    "else:\n",
    "    print(\"World cup wasnt played in\", year)"
   ]
  },
  {
   "cell_type": "code",
   "execution_count": 142,
   "id": "cf98dcaa",
   "metadata": {},
   "outputs": [
    {
     "name": "stdout",
     "output_type": "stream",
     "text": [
      "YES\n"
     ]
    }
   ],
   "source": [
    "X = 12\n",
    "\n",
    "if (X>10 & X<15):\n",
    " print('YES')\n",
    "else:\n",
    " print('No')"
   ]
  },
  {
   "cell_type": "code",
   "execution_count": 141,
   "id": "70d5b15a",
   "metadata": {},
   "outputs": [
    {
     "name": "stdout",
     "output_type": "stream",
     "text": [
      "a\n"
     ]
    }
   ],
   "source": [
    "a=10\n",
    "b=16\n",
    "c=20\n",
    "if (a <= 10):\n",
    "    print(\"a\")\n",
    "elif (b <= 16):\n",
    "    print(\"b\")\n",
    "else:\n",
    "     print(\"c\")"
   ]
  },
  {
   "cell_type": "code",
   "execution_count": 143,
   "id": "da48526a",
   "metadata": {},
   "outputs": [
    {
     "name": "stdout",
     "output_type": "stream",
     "text": [
      "89\n",
      "B\n"
     ]
    }
   ],
   "source": [
    "#Given the code below, the output obtained in several runs is 'C' 'A' 'D' 'B'.\n",
    "score = int(input())\n",
    "if score >= 90:\n",
    "   print('A')\n",
    "elif score >=80:\n",
    "   print('B')\n",
    "elif score >= 70:\n",
    "   print('C')\n",
    "elif score >= 60:\n",
    "   print('D')\n",
    "else:\n",
    "   print('F')"
   ]
  },
  {
   "cell_type": "code",
   "execution_count": 144,
   "id": "61eee89b",
   "metadata": {},
   "outputs": [
    {
     "name": "stdout",
     "output_type": "stream",
     "text": [
      "B\n"
     ]
    }
   ],
   "source": [
    "if (10 < 0) and (0 < -10):\n",
    "    print(\"A\")\n",
    "elif (10 > 0) or False:\n",
    "    print(\"B\")\n",
    "else:\n",
    "    print(\"C\")"
   ]
  },
  {
   "cell_type": "code",
   "execution_count": 145,
   "id": "0c262a19",
   "metadata": {},
   "outputs": [
    {
     "name": "stdout",
     "output_type": "stream",
     "text": [
      "B\n"
     ]
    }
   ],
   "source": [
    "if True or True:\n",
    "    if False and True or False:\n",
    "        print('A')\n",
    "    elif False and False or True and True:\n",
    "        print('B')\n",
    "    else:\n",
    "        print('C')\n",
    "else:\n",
    "    print('D') \n",
    "    #T or T will be a T. The code will return the value that satisfies these statements. A will be returned for an F, as (F and T) = F, (F or F) = F. B will be returned for a T, as (F and F) = F, (T and T) = T, (F or T) = T."
   ]
  },
  {
   "cell_type": "code",
   "execution_count": null,
   "id": "d958c6a3",
   "metadata": {},
   "outputs": [],
   "source": [
    "string = int(intput(\"enter the string:\"))\n",
    "\n",
    "vowel = \"aeiou\"\n",
    "\n",
    "if string[0].lower() in vowel :\n",
    "    print(\"YES\")\n",
    "else:\n",
    "    print(\"NO\")\n",
    "#Use capital YES or NO"
   ]
  },
  {
   "cell_type": "code",
   "execution_count": 148,
   "id": "3d741dc3",
   "metadata": {},
   "outputs": [
    {
     "name": "stdout",
     "output_type": "stream",
     "text": [
      "YES\n"
     ]
    }
   ],
   "source": [
    "#Write a code to check if the string in input_str starts with a vowel or not. Print capital YES or NO.\n",
    "#For example, if input_str = 'analytics' then, your output should print 'YES'.\n",
    "\n",
    "input_str = 'Know Program'\n",
    "\n",
    "if input_str[0].lower() in ['aeiou']:\n",
    "    print('NO')\n",
    "else:\n",
    "    print('YES')\n",
    "    "
   ]
  },
  {
   "cell_type": "code",
   "execution_count": null,
   "id": "daccb24c",
   "metadata": {},
   "outputs": [],
   "source": [
    "#Complete this piece of code for calculating the element-wise difference between two lists and storing them in L3.\n",
    "\n",
    "#[Assume that the lists are of the same length.]\n",
    "\n",
    "L1 = [10,20,30,24,18]\n",
    "L2 = [8,14,15,20,10]\n",
    "L3=[]\n",
    "for  i in L1:\n",
    "    L3\n",
    "L3\n",
    "\n",
    "range(len(L2)), append(L2[i] -L1[i])\n",
    "\n",
    "#✓ Correct\n",
    "#Feedback:\n",
    "#The elements in the list 3 would be the same as the other two lists; so, you need to iterate the loop such that\n",
    "#every element-wise subtraction is calculated and appended to the list 3. Append is a method defined on lists; \n",
    "#so, in order to append an element, you use list.methodname()."
   ]
  },
  {
   "cell_type": "code",
   "execution_count": 161,
   "id": "fbd144b0",
   "metadata": {
    "collapsed": true
   },
   "outputs": [
    {
     "data": {
      "text/plain": [
       "[-100,\n",
       " -98,\n",
       " -96,\n",
       " -94,\n",
       " -92,\n",
       " -90,\n",
       " -88,\n",
       " -86,\n",
       " -84,\n",
       " -82,\n",
       " -80,\n",
       " -78,\n",
       " -76,\n",
       " -74,\n",
       " -72,\n",
       " -70,\n",
       " -68,\n",
       " -66,\n",
       " -64,\n",
       " -62,\n",
       " -60,\n",
       " -58,\n",
       " -56,\n",
       " -54,\n",
       " -52,\n",
       " -50,\n",
       " -48,\n",
       " -46,\n",
       " -44,\n",
       " -42,\n",
       " -40,\n",
       " -38,\n",
       " -36,\n",
       " -34,\n",
       " -32,\n",
       " -30,\n",
       " -28,\n",
       " -26,\n",
       " -24,\n",
       " -22,\n",
       " -20,\n",
       " -18,\n",
       " -16,\n",
       " -14,\n",
       " -12,\n",
       " -10,\n",
       " -8,\n",
       " -6,\n",
       " -4,\n",
       " -2]"
      ]
     },
     "execution_count": 161,
     "metadata": {},
     "output_type": "execute_result"
    }
   ],
   "source": [
    "list = []\n",
    "for i in range(-100,0):\n",
    "    if(i%2==0):\n",
    "        list.append(i)\n",
    "list"
   ]
  },
  {
   "cell_type": "code",
   "execution_count": 253,
   "id": "9d142766",
   "metadata": {},
   "outputs": [],
   "source": [
    "list(range(-100,-1,2))"
   ]
  },
  {
   "cell_type": "code",
   "execution_count": 163,
   "id": "de1fb7b5",
   "metadata": {
    "collapsed": true
   },
   "outputs": [
    {
     "data": {
      "text/plain": [
       "[-100,\n",
       " -98,\n",
       " -96,\n",
       " -94,\n",
       " -92,\n",
       " -90,\n",
       " -88,\n",
       " -86,\n",
       " -84,\n",
       " -82,\n",
       " -80,\n",
       " -78,\n",
       " -76,\n",
       " -74,\n",
       " -72,\n",
       " -70,\n",
       " -68,\n",
       " -66,\n",
       " -64,\n",
       " -62,\n",
       " -60,\n",
       " -58,\n",
       " -56,\n",
       " -54,\n",
       " -52,\n",
       " -50,\n",
       " -48,\n",
       " -46,\n",
       " -44,\n",
       " -42,\n",
       " -40,\n",
       " -38,\n",
       " -36,\n",
       " -34,\n",
       " -32,\n",
       " -30,\n",
       " -28,\n",
       " -26,\n",
       " -24,\n",
       " -22,\n",
       " -20,\n",
       " -18,\n",
       " -16,\n",
       " -14,\n",
       " -12,\n",
       " -10,\n",
       " -8,\n",
       " -6,\n",
       " -4,\n",
       " -2]"
      ]
     },
     "execution_count": 163,
     "metadata": {},
     "output_type": "execute_result"
    }
   ],
   "source": [
    "sorted(set(range(-2,-101,-2)))"
   ]
  },
  {
   "cell_type": "code",
   "execution_count": null,
   "id": "c10a7669",
   "metadata": {},
   "outputs": [],
   "source": [
    "list(range(0,-101,2))"
   ]
  },
  {
   "cell_type": "code",
   "execution_count": 164,
   "id": "3dc47e4b",
   "metadata": {},
   "outputs": [
    {
     "name": "stdout",
     "output_type": "stream",
     "text": [
      "1\n",
      "2\n",
      "3\n"
     ]
    }
   ],
   "source": [
    "l = [1,2,3]\n",
    "t = len(l)\n",
    "for n in range(len(l)):\n",
    "    print(l[n])"
   ]
  },
  {
   "cell_type": "code",
   "execution_count": 165,
   "id": "301d9c24",
   "metadata": {},
   "outputs": [
    {
     "name": "stdout",
     "output_type": "stream",
     "text": [
      "0\n",
      "1\n",
      "2\n"
     ]
    }
   ],
   "source": [
    "d = {0: 'Fish', 1: 'Bird', 2: 'Mammal'}\n",
    "for i in d:\n",
    "    print(i)"
   ]
  },
  {
   "cell_type": "code",
   "execution_count": 166,
   "id": "a761ecd6",
   "metadata": {},
   "outputs": [
    {
     "name": "stdout",
     "output_type": "stream",
     "text": [
      "['Verma', 'Raj', 'Gupta', 'Sandeep']\n"
     ]
    }
   ],
   "source": [
    "#(You are given a list of string elements and asked to return a list which contains each element\n",
    " #of the string in title case or in other words first character of the string would be in upper case \n",
    " #and remaining all characters in lower case)\n",
    "smalls = [\"VERMA\",\"raj\",\"Gupta\",\"SaNdeeP\"]\n",
    "newList = []\n",
    "for small in smalls:\n",
    "    newList.append(small.capitalize())\n",
    "\n",
    "print(newList)"
   ]
  },
  {
   "cell_type": "code",
   "execution_count": 167,
   "id": "a61b2e56",
   "metadata": {},
   "outputs": [
    {
     "data": {
      "text/plain": [
       "[2, 6, 15, 4, 8]"
      ]
     },
     "execution_count": 167,
     "metadata": {},
     "output_type": "execute_result"
    }
   ],
   "source": [
    "L1 = [10,20,30,24,18]\n",
    "L2 = [8,14,15,20,10]\n",
    "L3=[]\n",
    "for  i in range(len(L1)):\n",
    "    L3.append(L1[i]-L2[i])\n",
    "L3"
   ]
  },
  {
   "cell_type": "code",
   "execution_count": 168,
   "id": "efc5e6f5",
   "metadata": {},
   "outputs": [
    {
     "data": {
      "text/plain": [
       "[2, 6, 15, 4, 8]"
      ]
     },
     "execution_count": 168,
     "metadata": {},
     "output_type": "execute_result"
    }
   ],
   "source": [
    "# using list comprehension\n",
    "L1 = [10,20,30,24,18]\n",
    "L2 = [8,14,15,20,10]\n",
    "L3 = [L1[i]-L2[i] for i  in range(0,len(L1))]\n",
    "L3"
   ]
  },
  {
   "cell_type": "code",
   "execution_count": 169,
   "id": "80a30eb0",
   "metadata": {},
   "outputs": [
    {
     "name": "stdout",
     "output_type": "stream",
     "text": [
      "2\n",
      "[1, 4]\n"
     ]
    }
   ],
   "source": [
    "n = int(input())\n",
    "\n",
    "squares_list = [n**2 for n in range(1,n+1)]\n",
    "\n",
    "print(squares_list)"
   ]
  },
  {
   "cell_type": "code",
   "execution_count": 170,
   "id": "853acb12",
   "metadata": {},
   "outputs": [
    {
     "data": {
      "text/plain": [
       "[1, 4]"
      ]
     },
     "execution_count": 170,
     "metadata": {},
     "output_type": "execute_result"
    }
   ],
   "source": [
    "range(1, n+1)    # get the range from 1 to n, refresh how range works\n",
    "range(1, 5)\n",
    "\n",
    "squares = [n*n for n in range(1, n+1)]\n",
    "squares\n"
   ]
  },
  {
   "cell_type": "code",
   "execution_count": 171,
   "id": "8c16db47",
   "metadata": {},
   "outputs": [
    {
     "data": {
      "text/plain": [
       "{2: 4,\n",
       " 4: 16,\n",
       " 6: 36,\n",
       " 8: 64,\n",
       " 10: 100,\n",
       " 12: 144,\n",
       " 14: 196,\n",
       " 16: 256,\n",
       " 18: 324,\n",
       " 20: 400}"
      ]
     },
     "execution_count": 171,
     "metadata": {},
     "output_type": "execute_result"
    }
   ],
   "source": [
    "# Creating a dictionary consisting of even natural numbers as key and square of each element as value \n",
    "ordinary_dict ={}\n",
    "\n",
    "for i in range(2,21):\n",
    "    if i%2==0:\n",
    "        ordinary_dict[i]= i**2\n",
    "ordinary_dict"
   ]
  },
  {
   "cell_type": "code",
   "execution_count": 172,
   "id": "a2fc4d11",
   "metadata": {},
   "outputs": [
    {
     "data": {
      "text/plain": [
       "{2: 4,\n",
       " 4: 16,\n",
       " 6: 36,\n",
       " 8: 64,\n",
       " 10: 100,\n",
       " 12: 144,\n",
       " 14: 196,\n",
       " 16: 256,\n",
       " 18: 324,\n",
       " 20: 400}"
      ]
     },
     "execution_count": 172,
     "metadata": {},
     "output_type": "execute_result"
    }
   ],
   "source": [
    "updated_dict = {i:i**2 for i in range(2,21 ) if i%2 ==0}\n",
    "updated_dict"
   ]
  },
  {
   "cell_type": "code",
   "execution_count": null,
   "id": "298b279f",
   "metadata": {},
   "outputs": [],
   "source": [
    "input_list = list(range(1,100))\n",
    "output_dict = {}\n",
    "for val in input_list:\n",
    "    if val % 3 == 0:\n",
    "        output_dict[val] = val**3\n",
    "output_dict\n",
    "#output_dict= {val:val**3 for val in input_list if val%3==0}\n",
    "\n",
    "#✓ Correct\n",
    "#Feedback:\n",
    "# A dictionary comprehension should be inside curly brackets, and the expression inside the brackets first starts with the operation/output that you desire, and then loops and conditionals occur in the same order of the regular code."
   ]
  },
  {
   "cell_type": "code",
   "execution_count": 175,
   "id": "b72d4b19",
   "metadata": {},
   "outputs": [
    {
     "name": "stdout",
     "output_type": "stream",
     "text": [
      "['ad', 'ae', 'af', 'bd', 'be', 'bf', 'cd', 'ce', 'cf']\n"
     ]
    }
   ],
   "source": [
    "print([i+j for i in \"abc\" for j in \"def\"]) "
   ]
  },
  {
   "cell_type": "code",
   "execution_count": 176,
   "id": "cfe0cace",
   "metadata": {},
   "outputs": [
    {
     "name": "stdout",
     "output_type": "stream",
     "text": [
      "{'A': 'aaa', 'C': 'ccc', 'B': 'bbb', 'D': 'ddd'}\n"
     ]
    }
   ],
   "source": [
    "d = {x.upper(): x*3 for x in 'acbd'}\n",
    "print(d)"
   ]
  },
  {
   "cell_type": "code",
   "execution_count": 177,
   "id": "36db4f1d",
   "metadata": {},
   "outputs": [
    {
     "name": "stdout",
     "output_type": "stream",
     "text": [
      "2\n",
      "78.5\n"
     ]
    }
   ],
   "source": [
    "#creating a function to calculate area of circle\n",
    "def calculate_area(radius = input()):\n",
    "    area = 3.14 * radius**2\n",
    "    return area\n",
    "\n",
    "#calling the user-defined function\n",
    "circle_area = calculate_area(5)\n",
    "print(circle_area)\n"
   ]
  },
  {
   "cell_type": "code",
   "execution_count": 178,
   "id": "0b7d06b3",
   "metadata": {},
   "outputs": [
    {
     "data": {
      "text/plain": [
       "[2, 6, 15, 4, 8]"
      ]
     },
     "execution_count": 178,
     "metadata": {},
     "output_type": "execute_result"
    }
   ],
   "source": [
    "def list_diff( list1,list2):\n",
    "    list3=[]\n",
    "    for  i in range(0,len(list1)):\n",
    "        list3.append(list1[i]-list2[i])\n",
    "    return list3\n",
    "\n",
    "L1 = [10,20,30,24,18]\n",
    "L2 = [8,14,15,20,10]\n",
    "list_diff(L1,L2)"
   ]
  },
  {
   "cell_type": "code",
   "execution_count": 179,
   "id": "7491131d",
   "metadata": {},
   "outputs": [
    {
     "data": {
      "text/plain": [
       "23"
      ]
     },
     "execution_count": 179,
     "metadata": {},
     "output_type": "execute_result"
    }
   ],
   "source": [
    "def func(x,y =1):\n",
    "    z = x*y + x + y\n",
    "    return z\n",
    "\n",
    "func(2,func(3))"
   ]
  },
  {
   "cell_type": "code",
   "execution_count": 180,
   "id": "f82ac0be",
   "metadata": {},
   "outputs": [
    {
     "name": "stdout",
     "output_type": "stream",
     "text": [
      "Hello\n",
      "WorldWorldWorldWorldWorld\n"
     ]
    }
   ],
   "source": [
    "def say(message, times = 1):\n",
    "    print(message * times)\n",
    "\n",
    "say('Hello')\n",
    "say('World', 5)"
   ]
  },
  {
   "cell_type": "code",
   "execution_count": 181,
   "id": "a3f34c25",
   "metadata": {},
   "outputs": [
    {
     "data": {
      "text/plain": [
       "9996"
      ]
     },
     "execution_count": 181,
     "metadata": {},
     "output_type": "execute_result"
    }
   ],
   "source": [
    "min = (lambda x, y: x if x < y else y)\n",
    "min(101*99, 102*98)"
   ]
  },
  {
   "cell_type": "code",
   "execution_count": null,
   "id": "f10f6901",
   "metadata": {},
   "outputs": [],
   "source": [
    "def func(x,y):\n",
    "    z = x*y + x + y\n",
    "    return z\n",
    "\n",
    "func(2,func(3))"
   ]
  },
  {
   "cell_type": "code",
   "execution_count": 185,
   "id": "5828d021",
   "metadata": {},
   "outputs": [
    {
     "data": {
      "text/plain": [
       "35"
      ]
     },
     "execution_count": 185,
     "metadata": {},
     "output_type": "execute_result"
    }
   ],
   "source": [
    "def func(x=1 ,y=2):\n",
    "    z = x*y + x + y\n",
    "    return z\n",
    "\n",
    "func(2,func(3))"
   ]
  },
  {
   "cell_type": "code",
   "execution_count": 186,
   "id": "f85897c1",
   "metadata": {},
   "outputs": [
    {
     "data": {
      "text/plain": [
       "[-2, 33, 46, 78, 1]"
      ]
     },
     "execution_count": 186,
     "metadata": {},
     "output_type": "execute_result"
    }
   ],
   "source": [
    "L1 =  [2,7,8,10,3]\n",
    "\n",
    "def func(y):\n",
    "    return y**2- 2*y - 2\n",
    "\n",
    "ans_list = [func(x) for x in L1]\n",
    "ans_list"
   ]
  },
  {
   "cell_type": "code",
   "execution_count": null,
   "id": "0c8a60a1",
   "metadata": {},
   "outputs": [],
   "source": [
    "def multi(x):\n",
    "    return x*2\n",
    "list_numbers = [1,2,3,4]\n",
    "sample_map = map(multi, list_numbers)\n",
    "print(list(sample_map))"
   ]
  },
  {
   "cell_type": "code",
   "execution_count": 188,
   "id": "de4628e4",
   "metadata": {},
   "outputs": [
    {
     "data": {
      "text/plain": [
       "'harshitaman'"
      ]
     },
     "execution_count": 188,
     "metadata": {},
     "output_type": "execute_result"
    }
   ],
   "source": [
    "from functools import reduce\n",
    "list_1 = ['harshit','aman']\n",
    "reduce(lambda x,y: x + y,list_1)"
   ]
  },
  {
   "cell_type": "code",
   "execution_count": 189,
   "id": "c514a688",
   "metadata": {},
   "outputs": [
    {
     "name": "stdout",
     "output_type": "stream",
     "text": [
      "Enter something : simbaa\n",
      "Input is of sufficient length\n",
      "Enter something : dog\n",
      "Input is of sufficient length\n",
      "Enter something : to\n",
      "Too small\n",
      "Enter something : quit\n"
     ]
    }
   ],
   "source": [
    "while True:\n",
    "    s = input('Enter something : ')\n",
    "    if s == 'quit':\n",
    "        break\n",
    "    if len(s) < 3:\n",
    "        print('Too small')\n",
    "        continue\n",
    "    print('Input is of sufficient length')"
   ]
  },
  {
   "cell_type": "code",
   "execution_count": 190,
   "id": "71ff8799",
   "metadata": {},
   "outputs": [
    {
     "name": "stdout",
     "output_type": "stream",
     "text": [
      "3\n"
     ]
    }
   ],
   "source": [
    "def maximum(x, y):\n",
    "    if x > y:\n",
    "        return x\n",
    "    elif x == y:\n",
    "        return 'The numbers are equal'\n",
    "    else:\n",
    "        return y\n",
    "\n",
    "print(maximum(2, 3))\n",
    "\n",
    "#output=3"
   ]
  },
  {
   "cell_type": "code",
   "execution_count": null,
   "id": "9c56cc70",
   "metadata": {},
   "outputs": [],
   "source": [
    "              CLASS and OBJECT"
   ]
  },
  {
   "cell_type": "code",
   "execution_count": 191,
   "id": "766d19fb",
   "metadata": {},
   "outputs": [
    {
     "name": "stdout",
     "output_type": "stream",
     "text": [
      "Book author: Great Expectations\n",
      "Book title: Charles Dickens \n",
      "\n",
      "Book author: War and Peace\n",
      "Book title: Leo Tolstoy \n",
      "\n",
      "Book author: Middlemarch\n",
      "Book title: George Eliot \n",
      "\n",
      "BookStore.noOfBooks: 3\n"
     ]
    }
   ],
   "source": [
    "class BookStore:\n",
    "    noOfBooks = 0\n",
    " \n",
    "    def __init__(self, author, title):\n",
    "        self.title = title\n",
    "        self.author = author\n",
    "        BookStore.noOfBooks += 1\n",
    " \n",
    "    def bookInfo(self):\n",
    "        print(\"Book author:\", self.author,)\n",
    "        print(\"Book title:\", self.title,\"\\n\")\n",
    "        \n",
    " \n",
    "# Create a virtual book store\n",
    "b1 = BookStore(\"Great Expectations\", \"Charles Dickens\")\n",
    "b2 = BookStore(\"War and Peace\", \"Leo Tolstoy\")\n",
    "b3 = BookStore(\"Middlemarch\", \"George Eliot\")\n",
    " \n",
    "# call member functions for each object\n",
    "b1.bookInfo()\n",
    "b2.bookInfo()\n",
    "b3.bookInfo()\n",
    "\n",
    "print(\"BookStore.noOfBooks:\", BookStore.noOfBooks)"
   ]
  },
  {
   "cell_type": "code",
   "execution_count": 192,
   "id": "80657e84",
   "metadata": {},
   "outputs": [
    {
     "name": "stdout",
     "output_type": "stream",
     "text": [
      "Rodger is a mammal\n",
      "Tommy is also a mammal\n",
      "My name is Rodger\n",
      "My name is Tommy\n"
     ]
    }
   ],
   "source": [
    "class Dog:\n",
    "\n",
    "    # class attribute\n",
    "    attr1 = \"mammal\"\n",
    "    # Instance attribute\n",
    "    def __init__(self, name):\n",
    "        self.name = name\n",
    "# Driver code\n",
    "# Object instantiation\n",
    "Rodger = Dog(\"Rodger\")\n",
    "Tommy = Dog(\"Tommy\")\n",
    "\n",
    "# Accessing class attributes\n",
    "print(\"Rodger is a {}\".format(Rodger.__class__.attr1))\n",
    "print(\"Tommy is also a {}\".format(Tommy.__class__.attr1))\n",
    "\n",
    "# Accessing instance attributes\n",
    "print(\"My name is {}\".format(Rodger.name))\n",
    "print(\"My name is {}\".format(Tommy.name))"
   ]
  },
  {
   "cell_type": "code",
   "execution_count": 193,
   "id": "94bfe0fc",
   "metadata": {},
   "outputs": [
    {
     "data": {
      "text/plain": [
       "'EMZ'"
      ]
     },
     "execution_count": 193,
     "metadata": {},
     "output_type": "execute_result"
    }
   ],
   "source": [
    "class Employee :\n",
    "    company_code = \"EMZ\"\n",
    "    def __init__(self,age, name,eid):\n",
    "            self.age = age\n",
    "            self.name = name\n",
    "            self.eid = eid\n",
    "E1 = Employee(24, 'Ravi', 101)\n",
    "E1.company_code\n",
    " "
   ]
  },
  {
   "cell_type": "code",
   "execution_count": 194,
   "id": "537fe0a0",
   "metadata": {},
   "outputs": [
    {
     "name": "stdout",
     "output_type": "stream",
     "text": [
      "Rodger is a mammal\n",
      "Tommy is also a mammal\n",
      "My name is Rodger\n",
      "My name is Tommy\n"
     ]
    }
   ],
   "source": [
    "#with method\n",
    "class Dog:\n",
    "\n",
    "    # class attribute\n",
    "    attr1 = \"mammal\"\n",
    "\n",
    "    # Instance attribute\n",
    "    def __init__(self, name):\n",
    "        self.name = name\n",
    "\n",
    "\n",
    "# Driver code\n",
    "# Object instantiation\n",
    "Rodger = Dog(\"Rodger\")\n",
    "Tommy = Dog(\"Tommy\")\n",
    "\n",
    "# Accessing class attributes\n",
    "print(\"Rodger is a {}\".format(Rodger.__class__.attr1))\n",
    "print(\"Tommy is also a {}\".format(Tommy.__class__.attr1))\n",
    "\n",
    "# Accessing instance attributes\n",
    "print(\"My name is {}\".format(Rodger.name))\n",
    "print(\"My name is {}\".format(Tommy.name))"
   ]
  },
  {
   "cell_type": "code",
   "execution_count": 195,
   "id": "be5ba3d6",
   "metadata": {},
   "outputs": [
    {
     "name": "stdout",
     "output_type": "stream",
     "text": [
      "Calling protected member of base class:  2\n",
      "Calling modified protected member outside class:  3\n",
      "Accessing protected member of obj1:  3\n",
      "Accessing protected member of obj2:  2\n"
     ]
    }
   ],
   "source": [
    "#encapsulation\n",
    "# demonstrate protected members\n",
    "\n",
    "# Creating a base class\n",
    "\n",
    "\n",
    "class Base:\n",
    "    def __init__(self):\n",
    "\n",
    "        # Protected member\n",
    "        self._a = 2\n",
    "\n",
    "# Creating a derived class\n",
    "\n",
    "\n",
    "class Derived(Base):\n",
    "    def __init__(self):\n",
    "\n",
    "        # Calling constructor of\n",
    "        # Base class\n",
    "        Base.__init__(self)\n",
    "        print(\"Calling protected member of base class: \",\n",
    "              self._a)\n",
    "\n",
    "        # Modify the protected variable:\n",
    "        self._a = 3\n",
    "        print(\"Calling modified protected member outside class: \",\n",
    "              self._a)\n",
    "\n",
    "\n",
    "obj1 = Derived()\n",
    "\n",
    "obj2 = Base()\n",
    "\n",
    "# Calling protected member\n",
    "# Can be accessed but should not be done due to convention\n",
    "print(\"Accessing protected member of obj1: \", obj1._a)\n",
    "\n",
    "# Accessing the protected variable outside\n",
    "print(\"Accessing protected member of obj2: \", obj2._a)"
   ]
  },
  {
   "cell_type": "code",
   "execution_count": 196,
   "id": "64bdc872",
   "metadata": {},
   "outputs": [
    {
     "name": "stdout",
     "output_type": "stream",
     "text": [
      "1\n",
      "2\n",
      "2\n"
     ]
    }
   ],
   "source": [
    "# Write Python code here\n",
    "class sampleclass:\n",
    "    count = 0\t # class attribute\n",
    "\n",
    "    def increase(self):\n",
    "        sampleclass.count += 1\n",
    "\n",
    "\n",
    "# Calling increase() on an object\n",
    "s1 = sampleclass()\n",
    "s1.increase()\n",
    "print(s1.count)\n",
    "\n",
    "# Calling increase on one more\n",
    "# object\n",
    "s2 = sampleclass()\n",
    "s2.increase()\n",
    "print(s2.count)\n",
    "\n",
    "print(sampleclass.count)\n"
   ]
  },
  {
   "cell_type": "code",
   "execution_count": 197,
   "id": "0daa5c1b",
   "metadata": {},
   "outputs": [
    {
     "name": "stdout",
     "output_type": "stream",
     "text": [
      "Dictionary form : {'name': 'xyz', 'salary': 4000}\n",
      "['__class__', '__delattr__', '__dict__', '__dir__', '__doc__', '__eq__', '__format__', '__ge__', '__getattribute__', '__gt__', '__hash__', '__init__', '__init_subclass__', '__le__', '__lt__', '__module__', '__ne__', '__new__', '__reduce__', '__reduce_ex__', '__repr__', '__setattr__', '__sizeof__', '__str__', '__subclasshook__', '__weakref__', 'name', 'salary', 'show']\n"
     ]
    }
   ],
   "source": [
    "#To list the attributes of an instance/object, we have two functions:-\n",
    "#1. vars()– This function displays the attribute of an instance in the form of an dictionary.\n",
    "#2. dir()– This function displays more attributes than vars function,as it is not limited to instance.\n",
    "#It displays the class attributes as well. It also displays the attributes of its ancestor classes.\n",
    "# Python program to demonstrate\n",
    "# instance attributes.\n",
    "\n",
    "\n",
    "class emp:\n",
    "    def __init__(self):\n",
    "        self.name = 'xyz'\n",
    "        self.salary = 4000\n",
    "\n",
    "    def show(self):\n",
    "        print(self.name)\n",
    "        print(self.salary)\n",
    "\n",
    "\n",
    "e1 = emp()\n",
    "print(\"Dictionary form :\", vars(e1))\n",
    "print(dir(e1))"
   ]
  },
  {
   "cell_type": "code",
   "execution_count": 198,
   "id": "6e1ea3d7",
   "metadata": {},
   "outputs": [
    {
     "name": "stdout",
     "output_type": "stream",
     "text": [
      "Make of my car is: Toyota\n",
      "My car does not have a color attribute.\n",
      "Color of my car is: red\n"
     ]
    },
    {
     "ename": "AttributeError",
     "evalue": "'Car' object has no attribute 'year'",
     "output_type": "error",
     "traceback": [
      "\u001b[1;31m---------------------------------------------------------------------------\u001b[0m",
      "\u001b[1;31mAttributeError\u001b[0m                            Traceback (most recent call last)",
      "\u001b[1;32m~\\AppData\\Local\\Temp\\ipykernel_9116\\1923309453.py\u001b[0m in \u001b[0;36m<module>\u001b[1;34m\u001b[0m\n\u001b[0;32m     26\u001b[0m \u001b[1;31m# using delattr() to delete an attribute\u001b[0m\u001b[1;33m\u001b[0m\u001b[1;33m\u001b[0m\u001b[0m\n\u001b[0;32m     27\u001b[0m \u001b[0mdelattr\u001b[0m\u001b[1;33m(\u001b[0m\u001b[0mmy_car\u001b[0m\u001b[1;33m,\u001b[0m \u001b[1;34m\"year\"\u001b[0m\u001b[1;33m)\u001b[0m\u001b[1;33m\u001b[0m\u001b[1;33m\u001b[0m\u001b[0m\n\u001b[1;32m---> 28\u001b[1;33m \u001b[0mprint\u001b[0m\u001b[1;33m(\u001b[0m\u001b[1;34m\"Year of my car is:\"\u001b[0m\u001b[1;33m,\u001b[0m \u001b[0mmy_car\u001b[0m\u001b[1;33m.\u001b[0m\u001b[0myear\u001b[0m\u001b[1;33m)\u001b[0m\u001b[1;33m\u001b[0m\u001b[1;33m\u001b[0m\u001b[0m\n\u001b[0m",
      "\u001b[1;31mAttributeError\u001b[0m: 'Car' object has no attribute 'year'"
     ]
    }
   ],
   "source": [
    "#class member access\n",
    "# Python code for accessing attributes of class\n",
    "class Car:\n",
    "    def __init__(self, make, model, year):\n",
    "        self.make = make\n",
    "        self.model = model\n",
    "        self.year = year\n",
    "\n",
    "# creating an object of Car class\n",
    "my_car = Car(\"Toyota\", \"Camry\", 2018)\n",
    "\n",
    "# using getattr() to access an attribute\n",
    "make_attr = getattr(my_car, \"make\")\n",
    "print(\"Make of my car is:\", make_attr)\n",
    "\n",
    "# using hasattr() to check if an attribute exists\n",
    "if hasattr(my_car, \"color\"):\n",
    "    print(\"My car has a color attribute.\")\n",
    "else:\n",
    "    print(\"My car does not have a color attribute.\")\n",
    "\n",
    "# using setattr() to set a new attribute\n",
    "setattr(my_car, \"color\", \"red\")\n",
    "print(\"Color of my car is:\", my_car.color)\n",
    "\n",
    "# using delattr() to delete an attribute\n",
    "delattr(my_car, \"year\")\n",
    "print(\"Year of my car is:\", my_car.year)"
   ]
  },
  {
   "cell_type": "code",
   "execution_count": 199,
   "id": "fa8a5ab7",
   "metadata": {},
   "outputs": [
    {
     "name": "stdout",
     "output_type": "stream",
     "text": [
      "Help on function my_function in module __main__:\n",
      "\n",
      "my_function(string1)\n",
      "    Return the string.\n",
      "    Hi George, Im a simple Decorator.\n",
      "\n"
     ]
    }
   ],
   "source": [
    "#decorator\n",
    "def decorated_docstring(function):\n",
    "    function.__doc__ += '\\n Hi George, I''m a simple Decorator.'\n",
    "    return function\n",
    "\n",
    "\n",
    "def my_function(string1):\n",
    "    \"\"\"Return the string.\"\"\"\n",
    "    return string1\n",
    "\n",
    "\n",
    "def main():\n",
    "    myFunc = decorated_docstring(my_function)\n",
    "    myFunc('Hai')\n",
    "    help(myFunc)\n",
    "\n",
    "\n",
    "if __name__ == \"__main__\":\n",
    "    main()"
   ]
  },
  {
   "cell_type": "code",
   "execution_count": 200,
   "id": "e0105a6b",
   "metadata": {},
   "outputs": [
    {
     "name": "stdout",
     "output_type": "stream",
     "text": [
      "egroeG iH\n"
     ]
    }
   ],
   "source": [
    "def reverse_decorator(function):\n",
    "\n",
    "    def reverse_wrapper():\n",
    "        make_reverse = \"\".join(reversed(function()))\n",
    "        return make_reverse\n",
    "\n",
    "    return reverse_wrapper\n",
    "\n",
    "\n",
    "@reverse_decorator\n",
    "def say_hi():\n",
    "    return 'Hi George'\n",
    "\n",
    "\n",
    "def main():\n",
    "    print(say_hi())\n",
    "\n",
    "if __name__ == \"__main__\":\n",
    "    main()\n"
   ]
  },
  {
   "cell_type": "code",
   "execution_count": null,
   "id": "be739a16",
   "metadata": {},
   "outputs": [],
   "source": [
    "# Python program to demonstrate\n",
    "# use of class method and static method.\n",
    "from datetime import date\n",
    "\n",
    "\n",
    "class Person:\n",
    "\n",
    "\n",
    "def __init__(self, name, age):\n",
    "\n",
    "\n",
    "self.name = name\n",
    "self.age = age\n",
    "\n",
    "# a class method to create a Person object by birth year.\n",
    "\n",
    "\n",
    "@classmethod\n",
    "def fromBirthYear(cls, name, year):\n",
    "\n",
    "\n",
    "return cls(name, date.today().year - year)\n",
    "\n",
    "# a static method to check if a Person is adult or not.\n",
    "\n",
    "\n",
    "@staticmethod\n",
    "def isAdult(age):\n",
    "\n",
    "\n",
    "return age > 18\n",
    "\n",
    "person1 = Person('mayank', 21)\n",
    "person2 = Person.fromBirthYear('mayank', 1996)\n",
    "\n",
    "print(person1.age)\n",
    "print(person2.age)\n",
    "\n",
    "# print the result\n",
    "print(Person.isAdult(22))\n",
    "\n",
    "output\n",
    "21\n",
    "25\n",
    "True"
   ]
  },
  {
   "cell_type": "code",
   "execution_count": 202,
   "id": "54f9c4f4",
   "metadata": {},
   "outputs": [
    {
     "name": "stdout",
     "output_type": "stream",
     "text": [
      "Geek1 False\n",
      "Geek2 True\n"
     ]
    }
   ],
   "source": [
    "# A Python program to demonstrate inheritance\n",
    "# Base or Super class. Note object in bracket.\n",
    "# (Generally, object is made ancestor of all classes)\n",
    "# In Python 3.x \"class Person\" is\n",
    "# equivalent to \"class Person(object)\"\n",
    "\n",
    "class Person(object):\n",
    "\n",
    "    # Constructor\n",
    "    def __init__(self, name):\n",
    "\n",
    "        self.name = name\n",
    "\n",
    "    # To get name\n",
    "    def getName(self):\n",
    "        return self.name\n",
    "\n",
    "    # To check if this person is an employee\n",
    "    def isEmployee(self):\n",
    "        return False\n",
    "\n",
    "    # Inherited or Subclass (Note Person in bracket)\n",
    "class Employee(Person):\n",
    "\n",
    "    # Here we return true\n",
    "    def isEmployee(self):\n",
    "\n",
    "        return True\n",
    "# Driver code\n",
    "emp = Person(\"Geek1\")  # An Object of Person\n",
    "print(emp.getName(), emp.isEmployee())\n",
    "\n",
    "emp = Employee(\"Geek2\")  # An Object of Employee\n",
    "print(emp.getName(), emp.isEmployee())"
   ]
  },
  {
   "cell_type": "code",
   "execution_count": null,
   "id": "00920b20",
   "metadata": {},
   "outputs": [],
   "source": [
    "# Python code to demonstrate how parent constructors\n",
    "# are called.\n",
    "\n",
    "# parent class\n",
    "\n",
    "\n",
    "class Person(object):\n",
    "\n",
    "    # __init__ is known as the constructor \n",
    "    def __init__(self, name, idnumber):\n",
    "        self.name = name\n",
    "        self.idnumber = idnumber\n",
    "\n",
    "    def display(self):\n",
    "        print(self.name)\n",
    "        print(self.idnumber)\n",
    "\n",
    "# child class\n",
    "\n",
    "\n",
    "class Employee(Person):\n",
    "    def __init__(self, name, idnumber, salary, post):\n",
    "        self.salary = salary\n",
    "        self.post = post\n",
    "\n",
    "\n",
    "# invoking the __init__ of the parent class\n",
    "Person.__init__(self, name, idnumber)\n",
    "\n",
    "\n",
    "# creation of an object variable or an instance\n",
    "a = Employee('Rahul', 886012, 200000, \"Intern\")\n",
    "\n",
    "# calling a function of the class Person using its instance\n",
    "a.display()\n",
    "\n",
    "output\n",
    "Rahul\n",
    "886021"
   ]
  },
  {
   "cell_type": "code",
   "execution_count": 204,
   "id": "126e9259",
   "metadata": {},
   "outputs": [
    {
     "name": "stdout",
     "output_type": "stream",
     "text": [
      "23\n"
     ]
    }
   ],
   "source": [
    "# Python program to demonstrate error if we\n",
    "# forget to invoke __init__() of the parent.\n",
    "\n",
    "\n",
    "class A:\n",
    "    def __init__(self, n='Rahul'):\n",
    "        self.name = n\n",
    "\n",
    "\n",
    "class B(A):\n",
    "    def __init__(self, roll):\n",
    "        self.roll = roll\n",
    "\n",
    "\n",
    "object = A(23)  #if we use A in place of B it get error\n",
    "print(object.name)"
   ]
  },
  {
   "cell_type": "code",
   "execution_count": null,
   "id": "535b8a28",
   "metadata": {},
   "outputs": [],
   "source": [
    "#type of inheritance\n",
    "# Python example to show the working of multiple\n",
    "# inheritance\n",
    "\n",
    "\n",
    "class Base1(object):\n",
    "    def __init__(self):\n",
    "        self.str1 = \"Geek1\"\n",
    "\n",
    "\n",
    "print(\"Base1\")\n",
    "\n",
    "\n",
    "class Base2(object):\n",
    "    def __init__(self):\n",
    "        self.str2 = \"Geek2\"\n",
    "\n",
    "\n",
    "print(\"Base2\")\n",
    "\n",
    "\n",
    "class Derived(Base1, Base2):\n",
    "    def __init__(self):\n",
    "\n",
    "        # Calling constructors of Base1\n",
    "        # and Base2 classes\n",
    "        Base1.__init__(self)\n",
    "        Base2.__init__(self)\n",
    "\n",
    "\n",
    "print(\"Derived\")\n",
    "\n",
    "\n",
    "def printStrs(self):\n",
    "    print(self.str1, self.str2)\n",
    "\n",
    "    ob = Derived()\n",
    "    ob.printStrs()\n",
    "    \n",
    "    \n",
    "#Output: \n",
    "#Base1\n",
    "#Base2\n",
    "#Derived\n",
    "#Geek1 Geek2"
   ]
  },
  {
   "cell_type": "code",
   "execution_count": null,
   "id": "22c1be92",
   "metadata": {},
   "outputs": [],
   "source": [
    "#multiple inheritance\n",
    "# A Python program to demonstrate inheritance\n",
    "\n",
    "# Base or Super class. Note object in bracket.\n",
    "# (Generally, object is made ancestor of all classes)\n",
    "# In Python 3.x \"class Person\" is\n",
    "# equivalent to \"class Person(object)\"\n",
    "\n",
    "\n",
    "class Base(object):\n",
    "\n",
    "    # Constructor\n",
    "    def __init__(self, name):\n",
    "        self.name = name\n",
    "\n",
    "# To get name\n",
    "    def getName(self):\n",
    "        return self.name\n",
    "\n",
    "\n",
    "# Inherited or Sub class (Note Person in bracket)\n",
    "class Child(Base):\n",
    "\n",
    "    # Constructor\n",
    "    def __init__(self, name, age):\n",
    "\n",
    "        Base.__init__(self, name)\n",
    "        self.age = age\n",
    "\n",
    "# To get name\n",
    "    def getAge(self):\n",
    "        return self.age\n",
    "\n",
    "# Inherited or Sub class (Note Person in bracket)\n",
    "\n",
    "\n",
    "class GrandChild(Child):\n",
    "\n",
    "    # Constructor\n",
    "    def __init__(self, name, age, address):\n",
    "        Child.__init__(self, name, age)\n",
    "        self.address = address\n",
    "\n",
    "# To get address\n",
    "    def getAddress(self):\n",
    "        return self.address\n",
    "\n",
    "\n",
    "# Driver code\n",
    "g = GrandChild(\"Geek1\", 23, \"Noida\")\n",
    "print(g.getName(), g.getAge(), g.getAddress())\n",
    "\n",
    "\n",
    "#Output: \n",
    "#Geek1 23 Noida"
   ]
  },
  {
   "cell_type": "code",
   "execution_count": null,
   "id": "70f69dcf",
   "metadata": {},
   "outputs": [],
   "source": [
    "# Python program to demonstrate private members\n",
    "# of the parent class\n",
    "\n",
    "\n",
    "class C(object):\n",
    "\n",
    "    def __init__(self):\n",
    "\n",
    "        self.c = 21\n",
    "\n",
    "# d is private instance variable\n",
    "        self.__d = 42\n",
    "\n",
    "\n",
    "class D(C):\n",
    "\n",
    "    def __init__(self):\n",
    "\n",
    "        self.e = 84\n",
    "\n",
    "\n",
    "C.__init__(self)\n",
    "object1 = D()\n",
    "\n",
    "# produces an error as d is private instance variable\n",
    "print(object1.d)"
   ]
  },
  {
   "cell_type": "code",
   "execution_count": 208,
   "id": "feed3ce2",
   "metadata": {},
   "outputs": [
    {
     "name": "stdout",
     "output_type": "stream",
     "text": [
      "This function is in parent class.\n",
      "This function is in child class.\n"
     ]
    }
   ],
   "source": [
    "#single inheritance \n",
    "# Python program to demonstrate\n",
    "# single inheritance\n",
    "\n",
    "\n",
    "# Base class\n",
    "class Parent:\n",
    "    def func1(self):\n",
    "        print(\"This function is in parent class.\")\n",
    "\n",
    "# Derived class\n",
    "\n",
    "\n",
    "class Child(Parent):\n",
    "    def func2(self):\n",
    "        print(\"This function is in child class.\")\n",
    "\n",
    "\n",
    "# Driver's code\n",
    "object = Child()\n",
    "object.func1()\n",
    "object.func2()"
   ]
  },
  {
   "cell_type": "code",
   "execution_count": 209,
   "id": "e7283649",
   "metadata": {},
   "outputs": [
    {
     "name": "stdout",
     "output_type": "stream",
     "text": [
      "Father : RAM\n",
      "Mother : SITA\n"
     ]
    }
   ],
   "source": [
    "# Python program to demonstrate\n",
    "# multiple inheritance\n",
    "\n",
    "\n",
    "# Base class1\n",
    "class Mother:\n",
    "    mothername = \"\"\n",
    "\n",
    "    def mother(self):\n",
    "        print(self.mothername)\n",
    "\n",
    "# Base class2\n",
    "\n",
    "\n",
    "class Father:\n",
    "    fathername = \"\"\n",
    "\n",
    "    def father(self):\n",
    "        print(self.fathername)\n",
    "\n",
    "# Derived class\n",
    "\n",
    "\n",
    "class Son(Mother, Father):\n",
    "    def parents(self):\n",
    "        print(\"Father :\", self.fathername)\n",
    "        print(\"Mother :\", self.mothername)\n",
    "\n",
    "\n",
    "# Driver's code\n",
    "s1 = Son()\n",
    "s1.fathername = \"RAM\"\n",
    "s1.mothername = \"SITA\"\n",
    "s1.parents()"
   ]
  },
  {
   "cell_type": "code",
   "execution_count": 210,
   "id": "fef113d8",
   "metadata": {},
   "outputs": [
    {
     "name": "stdout",
     "output_type": "stream",
     "text": [
      "Lal mani\n",
      "Grandfather name : Lal mani\n",
      "Father name : Rampal\n",
      "Son name : Prince\n"
     ]
    }
   ],
   "source": [
    "# Python program to demonstrate\n",
    "# multilevel inheritance\n",
    "\n",
    "# Base class\n",
    "\n",
    "\n",
    "class Grandfather:\n",
    "\n",
    "    def __init__(self, grandfathername):\n",
    "        self.grandfathername = grandfathername\n",
    "\n",
    "# Intermediate class\n",
    "\n",
    "\n",
    "class Father(Grandfather):\n",
    "    def __init__(self, fathername, grandfathername):\n",
    "        self.fathername = fathername\n",
    "\n",
    "# invoking constructor of Grandfather class\n",
    "        Grandfather.__init__(self, grandfathername)\n",
    "\n",
    "# Derived class\n",
    "\n",
    "\n",
    "class Son(Father):\n",
    "    def __init__(self, sonname, fathername, grandfathername):\n",
    "        self.sonname = sonname\n",
    "\n",
    "# invoking constructor of Father class\n",
    "        Father.__init__(self, fathername, grandfathername)\n",
    "\n",
    "    def print_name(self):\n",
    "        print('Grandfather name :', self.grandfathername)\n",
    "        print(\"Father name :\", self.fathername)\n",
    "        print(\"Son name :\", self.sonname)\n",
    "\n",
    "\n",
    "# Driver code\n",
    "s1 = Son('Prince', 'Rampal', 'Lal mani')\n",
    "print(s1.grandfathername)\n",
    "s1.print_name()"
   ]
  },
  {
   "cell_type": "code",
   "execution_count": 257,
   "id": "1d0f7122",
   "metadata": {},
   "outputs": [
    {
     "name": "stdout",
     "output_type": "stream",
     "text": [
      "This function is in parent class.\n",
      "This function is in child 1.\n",
      "This function is in parent class.\n",
      "This function is in child 2.\n"
     ]
    }
   ],
   "source": [
    "# Python program to demonstrate\n",
    "# Hierarchical inheritance\n",
    "\n",
    "\n",
    "# Base class\n",
    "class Parent:\n",
    "    def func1(self):\n",
    "        print(\"This function is in parent class.\")\n",
    "\n",
    "# Derived class1\n",
    "\n",
    "\n",
    "class Child1(Parent):\n",
    "    def func2(self):\n",
    "        print(\"This function is in child 1.\")\n",
    "\n",
    "# Derivied class2\n",
    "\n",
    "\n",
    "class Child2(Parent):\n",
    "    def func3(self):\n",
    "        print(\"This function is in child 2.\")\n",
    "\n",
    "\n",
    "# Driver's code\n",
    "object1 = Child1()\n",
    "object2 = Child2()\n",
    "object1.func1()\n",
    "object1.func2()\n",
    "object2.func1()\n",
    "object2.func3()\n",
    "\n",
    "#Output:\n",
    "#This function is in parent class.\n",
    "#This function is in child 1.\n",
    "#This function is in parent class.\n",
    "#This function is in child 2."
   ]
  },
  {
   "cell_type": "code",
   "execution_count": 258,
   "id": "63628a2a",
   "metadata": {},
   "outputs": [
    {
     "name": "stdout",
     "output_type": "stream",
     "text": [
      "This function is in school.\n",
      "This function is in student 1. \n"
     ]
    }
   ],
   "source": [
    "# Python program to demonstrate\n",
    "# hybrid inheritance\n",
    "\n",
    "\n",
    "class School:\n",
    "    def func1(self):\n",
    "        print(\"This function is in school.\")\n",
    "\n",
    "\n",
    "class Student1(School):\n",
    "    def func2(self):\n",
    "        print(\"This function is in student 1. \")\n",
    "\n",
    "\n",
    "class Student2(School):\n",
    "    def func3(self):\n",
    "        print(\"This function is in student 2.\")\n",
    "\n",
    "\n",
    "class Student3(Student1, School):\n",
    "    def func4(self):\n",
    "        print(\"This function is in student 3.\")\n",
    "\n",
    "\n",
    "# Driver's code\n",
    "object = Student3()\n",
    "object.func1()\n",
    "object.func2()\n",
    "\n",
    "\n",
    "\n",
    "#Output:\n",
    "#This function is in school.\n",
    "#This function is in student 1."
   ]
  },
  {
   "cell_type": "code",
   "execution_count": 213,
   "id": "b8bea355",
   "metadata": {},
   "outputs": [
    {
     "name": "stdout",
     "output_type": "stream",
     "text": [
      "5\n",
      "3\n"
     ]
    }
   ],
   "source": [
    "# Python program to demonstrate in-built poly-\n",
    "# morphic functions\n",
    "\n",
    "# len() being used for a string\n",
    "print(len(\"geeks\"))\n",
    "\n",
    "# len() being used for a list\n",
    "print(len([10, 20, 30]))"
   ]
  },
  {
   "cell_type": "code",
   "execution_count": 214,
   "id": "51ea3afd",
   "metadata": {},
   "outputs": [
    {
     "name": "stdout",
     "output_type": "stream",
     "text": [
      "5\n",
      "9\n"
     ]
    }
   ],
   "source": [
    "# code\n",
    "# A simple Python function to demonstrate\n",
    "# Polymorphism\n",
    "\n",
    "\n",
    "def add(x, y, z=0):\n",
    "    return x + y+z\n",
    "\n",
    "\n",
    "# Driver code\n",
    "print(add(2, 3))\n",
    "print(add(2, 3, 4))"
   ]
  },
  {
   "cell_type": "code",
   "execution_count": 259,
   "id": "c0ccdfbb",
   "metadata": {},
   "outputs": [
    {
     "name": "stdout",
     "output_type": "stream",
     "text": [
      "New Delhi is the capital of India.\n",
      "Hindi is the most widely spoken language of India.\n",
      "India is a developing country.\n",
      "Washington, D.C. is the capital of USA.\n",
      "English is the primary language of USA.\n",
      "USA is a developed country.\n"
     ]
    }
   ],
   "source": [
    "#Polymorphism with class methods : \n",
    "#The below code shows how Python can use two different class types,\n",
    "#in the same way. We create a for loop that iterates through a tuple of objects. \n",
    "#Then call the methods without being concerned about which class type each object is.\n",
    "#We assume that these methods actually exist in each class.\n",
    "\n",
    "\n",
    "class India():\n",
    "\tdef capital(self):\n",
    "\t\tprint(\"New Delhi is the capital of India.\")\n",
    "\n",
    "\tdef language(self):\n",
    "\t\tprint(\"Hindi is the most widely spoken language of India.\")\n",
    "\n",
    "\tdef type(self):\n",
    "\t\tprint(\"India is a developing country.\")\n",
    "\n",
    "class USA():\n",
    "\tdef capital(self):\n",
    "\t\tprint(\"Washington, D.C. is the capital of USA.\")\n",
    "\n",
    "\tdef language(self):\n",
    "\t\tprint(\"English is the primary language of USA.\")\n",
    "\n",
    "\tdef type(self):\n",
    "\t\tprint(\"USA is a developed country.\")\n",
    "\n",
    "obj_ind = India()\n",
    "obj_usa = USA()\n",
    "for country in (obj_ind, obj_usa):\n",
    "\tcountry.capital()\n",
    "\tcountry.language()\n",
    "\tcountry.type()"
   ]
  },
  {
   "cell_type": "code",
   "execution_count": 260,
   "id": "0786f2e8",
   "metadata": {},
   "outputs": [
    {
     "name": "stdout",
     "output_type": "stream",
     "text": [
      "There are many types of birds.\n",
      "Most of the birds can fly but some cannot.\n",
      "There are many types of birds.\n",
      "Sparrows can fly.\n",
      "There are many types of birds.\n",
      "Ostriches cannot fly.\n"
     ]
    }
   ],
   "source": [
    "#Polymorphism with Inheritance : \n",
    "#In Python, Polymorphism lets us define methods in the child class that have the same name as \n",
    "#the methods in the parent class. In inheritance, the child class inherits the methods from the parent class.\n",
    "#However, it is possible to modify a method in a child class that it has inherited from the parent class.\n",
    "#This is particularly useful in cases where the method inherited from the parent class doesn’t quite fit the child class.\n",
    "#In such cases, we re-implement the method in the child class. This process of re-implementing a \n",
    "#method in the child class is known as Method Overriding. \n",
    "\n",
    "\n",
    "class Bird:\n",
    "    def intro(self):\n",
    "        print(\"There are many types of birds.\")\n",
    "\n",
    "    def flight(self):\n",
    "        print(\"Most of the birds can fly but some cannot.\")\n",
    "\n",
    "\n",
    "class sparrow(Bird):\n",
    "    def flight(self):\n",
    "        print(\"Sparrows can fly.\")\n",
    "\n",
    "\n",
    "class ostrich(Bird):\n",
    "    def flight(self):\n",
    "        print(\"Ostriches cannot fly.\")\n",
    "\n",
    "\n",
    "obj_bird = Bird()\n",
    "obj_spr = sparrow()\n",
    "obj_ost = ostrich()\n",
    "\n",
    "obj_bird.intro()\n",
    "obj_bird.flight()\n",
    "\n",
    "obj_spr.intro()\n",
    "obj_spr.flight()\n",
    "\n",
    "obj_ost.intro()\n",
    "obj_ost.flight()"
   ]
  },
  {
   "cell_type": "code",
   "execution_count": 261,
   "id": "837d2d92",
   "metadata": {},
   "outputs": [
    {
     "name": "stdout",
     "output_type": "stream",
     "text": [
      "New Delhi is the capital of India.\n",
      "Hindi is the most widely spoken language of India.\n",
      "India is a developing country.\n",
      "Washington, D.C. is the capital of USA.\n",
      "English is the primary language of USA.\n",
      "USA is a developed country.\n"
     ]
    }
   ],
   "source": [
    "#Polymorphism with a Function and objects : \n",
    "#It is also possible to create a function that can take any object, allowing for polymorphism.\n",
    "#In this example, let’s create a function called “func()” which will take an object which we will name “obj”.\n",
    "#Though we are using the name ‘obj’, any instantiated object will be able to be called into this function.\n",
    "#Next, let’s give the function something to do that uses the ‘obj’ object we passed to it. In this case,\n",
    "#let’s call the three methods, viz., capital(), language() and type(), each of which is defined in the \n",
    "#two classes ‘India’ and ‘USA’. Next, let’s create instantiations of both the ‘India’ and ‘USA’ classes\n",
    "#if we don’t have them already. With those, we can call their action using the same func() function: \n",
    "\n",
    "    \n",
    "class India():\n",
    "    def capital(self):\n",
    "        print(\"New Delhi is the capital of India.\")\n",
    "\n",
    "    def language(self):\n",
    "        print(\"Hindi is the most widely spoken language of India.\")\n",
    "\n",
    "    def type(self):\n",
    "        print(\"India is a developing country.\")\n",
    "\n",
    "\n",
    "class USA():\n",
    "    def capital(self):\n",
    "        print(\"Washington, D.C. is the capital of USA.\")\n",
    "\n",
    "    def language(self):\n",
    "        print(\"English is the primary language of USA.\")\n",
    "\n",
    "    def type(self):\n",
    "        print(\"USA is a developed country.\")\n",
    "\n",
    "\n",
    "def func(obj):\n",
    "    obj.capital()\n",
    "    obj.language()\n",
    "    obj.type()\n",
    "\n",
    "\n",
    "obj_ind = India()\n",
    "obj_usa = USA()\n",
    "\n",
    "func(obj_ind)\n",
    "func(obj_usa)"
   ]
  },
  {
   "cell_type": "code",
   "execution_count": 218,
   "id": "2e526601",
   "metadata": {},
   "outputs": [
    {
     "ename": "SyntaxError",
     "evalue": "invalid syntax (2422885571.py, line 2)",
     "output_type": "error",
     "traceback": [
      "\u001b[1;36m  File \u001b[1;32m\"C:\\Users\\91955\\AppData\\Local\\Temp\\ipykernel_9116\\2422885571.py\"\u001b[1;36m, line \u001b[1;32m2\u001b[0m\n\u001b[1;33m    An abstract class can be considered as a blueprint for other classes. It allows you to create a set of\u001b[0m\n\u001b[1;37m       ^\u001b[0m\n\u001b[1;31mSyntaxError\u001b[0m\u001b[1;31m:\u001b[0m invalid syntax\n"
     ]
    }
   ],
   "source": [
    "# abstruct class \n",
    "An abstract class can be considered as a blueprint for other classes. It allows you to create a set of\n",
    "methods that must be created within any child classes built from the abstract class. A class which contains one or \n",
    "more abstract methods is called an abstract class. An abstract method is a method that has a declaration but\n",
    "does not have an implementation. While we are designing large functional units we use an abstract class.\n",
    "When we want to provide a common interface for different implementations of a component, we use an abstract class. \n",
    " \n",
    "Why use Abstract Base Classes : \n",
    "By defining an abstract base class, you can define a common Application Program Interface(API) for a set of subclasses.\n",
    "This capability is especially useful in situations where a third-party is going to provide implementations,\n",
    "such as with plugins, but can also help you when working in a large team or with a large code-base where\n",
    "keeping all classes in your mind is difficult or not possible. \n",
    " \n",
    "How Abstract Base classes work : \n",
    "By default, Python does not provide abstract classes. Python comes with a module that provides the\n",
    "base for defining Abstract Base classes(ABC) and that module name is ABC. ABC works by decorating methods \n",
    "of the base class as abstract and then registering concrete classes as implementations of the abstract base. \n",
    "A method becomes abstract when decorated with the keyword @abstractmethod.\n",
    "\n",
    "\n",
    "# Python program showing\n",
    "# abstract base class work\n",
    "\n",
    "from abc import ABC, abstractmethod\n",
    "\n",
    "\n",
    "class Polygon(ABC):\n",
    "\n",
    "    @abstractmethod\n",
    "    def noofsides(self):\n",
    "        pass\n",
    "\n",
    "\n",
    "class Triangle(Polygon):\n",
    "\n",
    "    # overriding abstract method\n",
    "    def noofsides(self):\n",
    "        print(\"I have 3 sides\")\n",
    "\n",
    "\n",
    "class Pentagon(Polygon):\n",
    "\n",
    "    # overriding abstract method\n",
    "    def noofsides(self):\n",
    "        print(\"I have 5 sides\")\n",
    "\n",
    "\n",
    "class Hexagon(Polygon):\n",
    "\n",
    "    # overriding abstract method\n",
    "    def noofsides(self):\n",
    "        print(\"I have 6 sides\")\n",
    "\n",
    "\n",
    "class Quadrilateral(Polygon):\n",
    "\n",
    "    # overriding abstract method\n",
    "    def noofsides(self):\n",
    "        print(\"I have 4 sides\")\n",
    "\n",
    "\n",
    "# Driver code\n",
    "R = Triangle()\n",
    "R.noofsides()\n",
    "\n",
    "K = Quadrilateral()\n",
    "K.noofsides()\n",
    "\n",
    "R = Pentagon()\n",
    "R.noofsides()\n",
    "\n",
    "K = Hexagon()\n",
    "K.noofsides()\n",
    "\n",
    "\n",
    "Output\n",
    "I have 3 sides\n",
    "I have 4 sides\n",
    "I have 5 sides\n",
    "I have 6 sides"
   ]
  },
  {
   "cell_type": "code",
   "execution_count": null,
   "id": "9ab07b0c",
   "metadata": {},
   "outputs": [],
   "source": [
    "class Student:\n",
    "    def __init__(self):\n",
    "        self.age = 10\n",
    "        self.name = \"Name\"\n",
    "#Which of the following would create an instance to this class?\n",
    "    \n",
    "    student2 = Student()\n",
    "#Since the init method doesn’t have any argument other than self, it won’t accept any argument while creating an\n",
    "#instance to the class."
   ]
  },
  {
   "cell_type": "code",
   "execution_count": 264,
   "id": "b2385b04",
   "metadata": {},
   "outputs": [
    {
     "name": "stdout",
     "output_type": "stream",
     "text": [
      "Object `error` not found.\n"
     ]
    }
   ],
   "source": [
    "class Student:\n",
    "    standard = 'IV'\n",
    "    def __init__(self,age,name,Cid):\n",
    "        self.age = age\n",
    "        self.name = name\n",
    "        self.id = Cid\n",
    "Which of the declarations below will throw an error?\n",
    "\n",
    "student1 = Student(12,\"Raj\",24)\n",
    "student1 = Student(12,\"Sam\",10)\n",
    "student1 = Student(\"Shiv\",4, 3)\n",
    "#Above three are not give any error."
   ]
  },
  {
   "cell_type": "code",
   "execution_count": null,
   "id": "eb3c07ac",
   "metadata": {},
   "outputs": [],
   "source": [
    "class Student:\n",
    "    standard = 'IV'\n",
    "    def __init__(self,age,name,Cid):\n",
    "        self.age = age\n",
    "        self.name = name\n",
    "        self.id = Cid\n",
    "\n",
    "student1 = Student(12,\"Raj\",24)\n",
    "student1.standard = 'V'  or student1.standard = 'V'\n",
    "print(student1.standard)"
   ]
  },
  {
   "cell_type": "code",
   "execution_count": null,
   "id": "6b3718b2",
   "metadata": {},
   "outputs": [],
   "source": [
    "     Update the age by 1.\n",
    "class Employee :\n",
    "    company_code = \"EMZ\"\n",
    "    def __init__(self,age, name,eid):\n",
    "        self.age = age\n",
    "        self.name= name\n",
    "        self.eid = eid\n",
    "    def update(self):\n",
    "        self.age = self.age+1\n",
    "        return self.age \n",
    "E1 = Employee(24, 'Ravi', 101)\n",
    "E1.update()   "
   ]
  },
  {
   "cell_type": "code",
   "execution_count": 224,
   "id": "21e810dd",
   "metadata": {},
   "outputs": [
    {
     "data": {
      "text/plain": [
       "36"
      ]
     },
     "execution_count": 224,
     "metadata": {},
     "output_type": "execute_result"
    }
   ],
   "source": [
    "class A :\n",
    "    x = 10\n",
    "    def __init__(self, y,z):\n",
    "        self.y = y\n",
    "        self.z = z\n",
    "           \n",
    "    def update_y(self):\n",
    "        self.y = self.y * self.x\n",
    "        self.z = self.z * self.x\n",
    "        \n",
    "A1 = A(3,4)\n",
    "A2 = A(5,6)\n",
    "\n",
    "A1.update_y()\n",
    "A1.y + A2.z"
   ]
  },
  {
   "cell_type": "code",
   "execution_count": 225,
   "id": "70f96c7c",
   "metadata": {},
   "outputs": [
    {
     "data": {
      "text/plain": [
       "33"
      ]
     },
     "execution_count": 225,
     "metadata": {},
     "output_type": "execute_result"
    }
   ],
   "source": [
    "class A :\n",
    "    x = 10\n",
    "    def __init__(self, y,z):\n",
    "        self.y = y\n",
    "        self.z = z\n",
    "           \n",
    "    def update_y(self):\n",
    "        self.y = self.y * self.z\n",
    "\n",
    "        \n",
    "        \n",
    "A1 = A(3,4)\n",
    "A2 = A(5,6)\n",
    "\n",
    "A.x = 30\n",
    "A1.y + A2.x"
   ]
  },
  {
   "cell_type": "code",
   "execution_count": 226,
   "id": "a5280aef",
   "metadata": {},
   "outputs": [
    {
     "name": "stdout",
     "output_type": "stream",
     "text": [
      "1 2\n"
     ]
    }
   ],
   "source": [
    "class A:\n",
    "    def __init__(self, x=1):\n",
    "        self.x = x\n",
    "class B(A):\n",
    "    def __init__(self,y =2):\n",
    "        super().__init__()\n",
    "        self.y = y\n",
    "\n",
    "def main():\n",
    "    b = B()\n",
    "    print(b.x,b.y)\n",
    "main()"
   ]
  },
  {
   "cell_type": "code",
   "execution_count": 227,
   "id": "d9bc2cbb",
   "metadata": {},
   "outputs": [
    {
     "name": "stdout",
     "output_type": "stream",
     "text": [
      "<__main__.Robot object at 0x0000017D57C12850> <class '__main__.Robot'>\n",
      "<__main__.PhysicianRobot object at 0x0000017D57BF94F0> <class '__main__.PhysicianRobot'>\n",
      "Hi, I am James\n"
     ]
    }
   ],
   "source": [
    "          # Inheritence\n",
    "class Robot:\n",
    "    def __init__(self, name):\n",
    "        self.name = name\n",
    "    def say_hi(self):\n",
    "        print(\"Hi, I am \" + self.name)\n",
    "class PhysicianRobot(Robot):\n",
    "    pass\n",
    "x = Robot(\"Marvin\")\n",
    "y = PhysicianRobot(\"James\")\n",
    "print(x, type(x))\n",
    "print(y, type(y))\n",
    "y.say_hi()"
   ]
  },
  {
   "cell_type": "code",
   "execution_count": 228,
   "id": "e04216c1",
   "metadata": {},
   "outputs": [
    {
     "name": "stdout",
     "output_type": "stream",
     "text": [
      "True True\n",
      "False\n",
      "True\n",
      "False True\n"
     ]
    }
   ],
   "source": [
    "# Type and inheritence\n",
    "x = Robot(\"Marvin\")\n",
    "y = PhysicianRobot(\"James\")\n",
    "print(isinstance(x, Robot), isinstance(y, Robot))\n",
    "print(isinstance(x, PhysicianRobot))\n",
    "print(isinstance(y, PhysicianRobot))\n",
    "print(type(y) == Robot, type(y) == PhysicianRobot)"
   ]
  },
  {
   "cell_type": "code",
   "execution_count": 229,
   "id": "a711cdc2",
   "metadata": {},
   "outputs": [
    {
     "name": "stdout",
     "output_type": "stream",
     "text": [
      "Everything will be okay! \n",
      "James takes care of you!\n"
     ]
    }
   ],
   "source": [
    "class Robot:\n",
    "    def __init__(self, name):\n",
    "        self.name = name\n",
    "    def say_hi(self):\n",
    "        print(\"Hi, I am \" + self.name)\n",
    "class PhysicianRobot(Robot):\n",
    "    def say_hi(self):\n",
    "        print(\"Everything will be okay! \") \n",
    "        print(self.name + \" takes care of you!\")\n",
    "y = PhysicianRobot(\"James\")\n",
    "y.say_hi()"
   ]
  },
  {
   "cell_type": "code",
   "execution_count": 230,
   "id": "9add3700",
   "metadata": {},
   "outputs": [
    {
     "name": "stdout",
     "output_type": "stream",
     "text": [
      "Everything will be okay! \n",
      "Doc James takes care of you!\n",
      "... and now the 'traditional' robot way of saying hi :-)\n",
      "Hi, I am Doc James\n"
     ]
    }
   ],
   "source": [
    "y = PhysicianRobot(\"Doc James\")\n",
    "y.say_hi()\n",
    "print(\"... and now the 'traditional' robot way of saying hi :-)\")\n",
    "Robot.say_hi(y)"
   ]
  },
  {
   "cell_type": "code",
   "execution_count": 231,
   "id": "5391a16b",
   "metadata": {},
   "outputs": [
    {
     "name": "stdout",
     "output_type": "stream",
     "text": [
      "Hi, I am Dr. Frankenstein\n",
      "and I am a physician!\n"
     ]
    }
   ],
   "source": [
    "class PhysicianRobot(Robot):\n",
    "    def say_hi(self):\n",
    "        Robot.say_hi(self)\n",
    "        print(\"and I am a physician!\")\n",
    "doc = PhysicianRobot(\"Dr. Frankenstein\")      \n",
    "doc.say_hi()"
   ]
  },
  {
   "cell_type": "code",
   "execution_count": 232,
   "id": "1dabcbdd",
   "metadata": {},
   "outputs": [
    {
     "name": "stdout",
     "output_type": "stream",
     "text": [
      "Welcome to GFG\n"
     ]
    }
   ],
   "source": [
    "# A simple Python function\n",
    "def fun():\n",
    "    print(\"Welcome to GFG\")\n",
    " \n",
    " \n",
    "# Driver code to call a function\n",
    "fun()"
   ]
  },
  {
   "cell_type": "code",
   "execution_count": 233,
   "id": "98fd0264",
   "metadata": {},
   "outputs": [
    {
     "name": "stdout",
     "output_type": "stream",
     "text": [
      "45\n",
      "46\n"
     ]
    }
   ],
   "source": [
    "def f(x):\n",
    "    return x + 42\n",
    "print(f(3))\n",
    "# f will be overwritten (or redefined) in the following:\n",
    "def f(x):\n",
    "    return x + 43\n",
    "print(f(3))"
   ]
  },
  {
   "cell_type": "code",
   "execution_count": null,
   "id": "0ed18783",
   "metadata": {},
   "outputs": [],
   "source": [
    "#calling with parameters\n",
    "# some more functions\n",
    "def is_prime(n):\n",
    "    n = int(input(\"n is: \"))\n",
    "    if n in [2, 3]:\n",
    "        return True\n",
    "    if (n == 1) or (n % 2 == 0):\n",
    "        return False\n",
    "    r = int(input(\"r is:\"))\n",
    "    while r * r <= n:\n",
    "        if n % r == 0:\n",
    "            return False\n",
    "        r += 2\n",
    "    return True\n",
    "print(is_prime(78), is_prime(79))"
   ]
  },
  {
   "cell_type": "code",
   "execution_count": 235,
   "id": "a7838623",
   "metadata": {},
   "outputs": [
    {
     "name": "stdout",
     "output_type": "stream",
     "text": [
      "before calling fun()\n",
      "fun() called\n",
      "after calling fun()\n"
     ]
    }
   ],
   "source": [
    "def fun():\n",
    "    print(\"fun() called\")  # it will be printed when fun is called\n",
    "\n",
    "\n",
    "print(\"before calling fun()\")\n",
    "\n",
    "fun()  # fun() is called\n",
    "\n",
    "print(\"after calling fun()\")"
   ]
  },
  {
   "cell_type": "code",
   "execution_count": 236,
   "id": "2a3fba95",
   "metadata": {},
   "outputs": [
    {
     "name": "stdout",
     "output_type": "stream",
     "text": [
      "before calling fun()\n",
      "fun() called\n",
      "fun() called\n",
      "after calling fun()\n"
     ]
    }
   ],
   "source": [
    "def fun():\n",
    "    print(\"fun() called\")  # it will be printed when fun is called\n",
    "\n",
    "\n",
    "print(\"before calling fun()\")\n",
    "\n",
    "fun()  # fun() is called\n",
    "fun()  # fun()  is called\n",
    "\n",
    "print(\"after calling fun()\")"
   ]
  },
  {
   "cell_type": "code",
   "execution_count": 237,
   "id": "90330b55",
   "metadata": {},
   "outputs": [
    {
     "name": "stdout",
     "output_type": "stream",
     "text": [
      "x:  10\n",
      "y:  50\n"
     ]
    }
   ],
   "source": [
    "# Python program to demonstrate\n",
    "# default arguments\n",
    " \n",
    " \n",
    "def myFun(x, y=50):\n",
    "    print(\"x: \", x)\n",
    "    print(\"y: \", y)\n",
    " \n",
    " \n",
    "# Driver code (We call myFun() with only\n",
    "# argument)\n",
    "myFun(10)"
   ]
  },
  {
   "cell_type": "code",
   "execution_count": 238,
   "id": "d38d2aba",
   "metadata": {},
   "outputs": [
    {
     "name": "stdout",
     "output_type": "stream",
     "text": [
      "50 10\n"
     ]
    }
   ],
   "source": [
    "# Python program to demonstrate\n",
    "# default arguments\n",
    " \n",
    " \n",
    "def myFun(x, y=50):\n",
    "    print(y,x)\n",
    "    \n",
    " \n",
    " \n",
    "# Driver code (We call myFun() with only\n",
    "# argument)\n",
    "myFun(10)"
   ]
  },
  {
   "cell_type": "code",
   "execution_count": 239,
   "id": "f7c81b73",
   "metadata": {},
   "outputs": [
    {
     "name": "stdout",
     "output_type": "stream",
     "text": [
      "Geeks Practice\n",
      "Geeks Practice\n"
     ]
    }
   ],
   "source": [
    "# Python program to demonstrate Keyword Arguments\n",
    "def student(firstname, lastname):\n",
    "    print(firstname, lastname)\n",
    " \n",
    " \n",
    "# Keyword arguments\n",
    "student(firstname='Geeks', lastname='Practice')\n",
    "student(lastname='Practice', firstname='Geeks')\n"
   ]
  },
  {
   "cell_type": "code",
   "execution_count": 240,
   "id": "3ab7214f",
   "metadata": {},
   "outputs": [
    {
     "name": "stdout",
     "output_type": "stream",
     "text": [
      "Hello\n",
      "Welcome\n",
      "to\n",
      "GeeksforGeeks\n"
     ]
    }
   ],
   "source": [
    "# Python program to illustrate\n",
    "# *args for variable number of arguments\n",
    " \n",
    " \n",
    "def myFun(*argv):\n",
    "    for n in argv:\n",
    "        print(n)\n",
    " \n",
    " \n",
    "myFun('Hello', 'Welcome', 'to', 'GeeksforGeeks')"
   ]
  },
  {
   "cell_type": "code",
   "execution_count": 241,
   "id": "9bafe32c",
   "metadata": {},
   "outputs": [
    {
     "name": "stdout",
     "output_type": "stream",
     "text": [
      "India became independence on:\n",
      "15-08-1947\n"
     ]
    }
   ],
   "source": [
    "def printDate(d, m, y):\n",
    "    print(d, m, y, sep='-')\n",
    "\n",
    "\n",
    "print(\"India became independence on:\")\n",
    "\n",
    "printDate(\"15\", '08', '1947') # calling function"
   ]
  },
  {
   "cell_type": "code",
   "execution_count": 242,
   "id": "2a74ac40",
   "metadata": {},
   "outputs": [
    {
     "name": "stdout",
     "output_type": "stream",
     "text": [
      "India became independence on:\n",
      "15-08-1947\n"
     ]
    }
   ],
   "source": [
    "def getDate(d, m, y):\n",
    "    return d + '-' + m + '-' + y\n",
    "\n",
    "\n",
    "print(\"India became independence on:\")\n",
    "\n",
    "d = getDate('15', '08', '1947')     # calling fun to return data\n",
    "\n",
    "print(d)"
   ]
  },
  {
   "cell_type": "code",
   "execution_count": 243,
   "id": "ea57ad9a",
   "metadata": {},
   "outputs": [
    {
     "name": "stdout",
     "output_type": "stream",
     "text": [
      "Hi\n",
      "welcome to GeeksforGeeks\n",
      "Hope you are enjoying\n",
      "please visit again\n",
      "Bye\n"
     ]
    }
   ],
   "source": [
    "def greet_msg():\n",
    "    print(\"Hi\")\n",
    "    print(\"welcome to GeeksforGeeks\")\n",
    "\n",
    "\n",
    "def exit_msg():\n",
    "    print(\"please visit again\")\n",
    "    print(\"Bye\")\n",
    "\n",
    "\n",
    "greet_msg()         # calling fun()\n",
    "\n",
    "print(\"Hope you are enjoying\")\n",
    "\n",
    "exit_msg()          # calling fun()"
   ]
  },
  {
   "cell_type": "code",
   "execution_count": 244,
   "id": "6a7ed4e7",
   "metadata": {},
   "outputs": [
    {
     "name": "stdout",
     "output_type": "stream",
     "text": [
      "Function to check if the number is even or odd\n"
     ]
    }
   ],
   "source": [
    "#docstring\n",
    "# A simple Python function to check\n",
    "# whether x is even or odd\n",
    " \n",
    " \n",
    "def evenOdd(x):\n",
    "    \"\"\"Function to check if the number is even or odd\"\"\"\n",
    "     \n",
    "    if (x % 2 == 0):\n",
    "        print(\"even\")\n",
    "    else:\n",
    "        print(\"odd\")\n",
    " \n",
    " \n",
    "# Driver code to call the function\n",
    "print(evenOdd.__doc__)"
   ]
  },
  {
   "cell_type": "code",
   "execution_count": 245,
   "id": "350dc2b7",
   "metadata": {},
   "outputs": [
    {
     "name": "stdout",
     "output_type": "stream",
     "text": [
      "4\n",
      "16\n",
      "This function returns the square\n",
      "    value of the entered number\n"
     ]
    }
   ],
   "source": [
    "def square_value(num):\n",
    "     \"\"\"This function returns the square\n",
    "    value of the entered number\"\"\"\n",
    "     return num**2\n",
    " \n",
    "print(square_value(2))\n",
    "print(square_value(-4))\n",
    "print(square_value.__doc__)"
   ]
  },
  {
   "cell_type": "code",
   "execution_count": 246,
   "id": "a1aac6d9",
   "metadata": {},
   "outputs": [
    {
     "name": "stdout",
     "output_type": "stream",
     "text": [
      "4\n",
      "16\n"
     ]
    }
   ],
   "source": [
    "def square_value(num):\n",
    "    \"\"\"This function returns the square\n",
    "    value of the entered number\"\"\"\n",
    "    return num**2\n",
    " \n",
    " \n",
    "print(square_value(2))\n",
    "print(square_value(-4))"
   ]
  },
  {
   "cell_type": "code",
   "execution_count": 247,
   "id": "c2157795",
   "metadata": {},
   "outputs": [
    {
     "name": "stdout",
     "output_type": "stream",
     "text": [
      "even\n",
      "odd\n"
     ]
    }
   ],
   "source": [
    "# A simple Python function to check\n",
    "# whether x is even or odd\n",
    " \n",
    " \n",
    "def evenOdd(x):\n",
    "    if (x % 2 == 0):\n",
    "        print(\"even\")\n",
    "    else:\n",
    "        print(\"odd\")\n",
    " \n",
    " \n",
    "# Driver code to call the function\n",
    "evenOdd(2)\n",
    "evenOdd(3)"
   ]
  },
  {
   "cell_type": "code",
   "execution_count": 248,
   "id": "aca1ce7a",
   "metadata": {},
   "outputs": [
    {
     "name": "stdout",
     "output_type": "stream",
     "text": [
      "45 4 50\n"
     ]
    }
   ],
   "source": [
    "def f(*x):   # *operator\n",
    "    if len(x) == 1:\n",
    "        return x[0] + 42\n",
    "    elif len(x) == 2:\n",
    "        return x[0] - x[1] + 5\n",
    "    else:\n",
    "        return 2 * x[0] + x[1] + 42\n",
    "print(f(3), f(1, 2), f(3, 2, 1))"
   ]
  },
  {
   "cell_type": "code",
   "execution_count": 249,
   "id": "cee8fa7a",
   "metadata": {},
   "outputs": [
    {
     "name": "stdout",
     "output_type": "stream",
     "text": [
      "[20, 11, 12, 13, 14, 15]\n"
     ]
    }
   ],
   "source": [
    "#pass by value or reference\n",
    "# Here x is a new reference to same list lst\n",
    "def myFun(x):\n",
    "    x[0] = 20\n",
    " \n",
    " \n",
    "# Driver Code (Note that lst is modified\n",
    "# after function call.\n",
    "lst = [10, 11, 12, 13, 14, 15]\n",
    "myFun(lst)\n",
    "print(lst)"
   ]
  },
  {
   "cell_type": "code",
   "execution_count": null,
   "id": "377c2031",
   "metadata": {},
   "outputs": [],
   "source": [
    "\"\"\" \n",
    "The class Calendar implements a calendar.   \n",
    "\"\"\"\n",
    "class Calendar(object):\n",
    "    months = (31,28,31,30,31,30,31,31,30,31,30,31)\n",
    "    date_style = \"British\"\n",
    "    @staticmethod\n",
    "    def leapyear(year):\n",
    "        \"\"\" \n",
    "        The method leapyear returns True if the parameter year\n",
    "        is a leap year, False otherwise\n",
    "        \"\"\"\n",
    "        if not year % 4 == 0:\n",
    "            return False\n",
    "        elif not year % 100 == 0:\n",
    "            return True\n",
    "        elif not year % 400 == 0:\n",
    "            return False\n",
    "        else:\n",
    "            return True\n",
    "    def __init__(self, d, m, y):\n",
    "        \"\"\"\n",
    "        d, m, y have to be integer values and year has to be \n",
    "        a four digit year number\n",
    "        \"\"\"\n",
    "        self.set_Calendar(d,m,y)\n",
    "    def set_Calendar(self, d, m, y):\n",
    "        \"\"\"\n",
    "        d, m, y have to be integer values and year has to be \n",
    "        a four digit year number\n",
    "        \"\"\"\n",
    "        if type(d) == int and type(m) == int and type(y) == int:\n",
    "            self.__days = d\n",
    "            self.__months = m\n",
    "            self.__years = y\n",
    "        else:\n",
    "            raise TypeError(\"d, m, y have to be integers!\")\n",
    "    def __str__(self):\n",
    "        if Calendar.date_style == \"British\":\n",
    "            return \"{0:02d}/{1:02d}/{2:4d}\".format(self.__days,\n",
    "                                                   self.__months,\n",
    "                                                   self.__years)\n",
    "        else: \n",
    "            # assuming American style\n",
    "            return \"{0:02d}/{1:02d}/{2:4d}\".format(self.__months,\n",
    "                                                   self.__days,\n",
    "                                                   self.__years)\n",
    "    def advance(self):\n",
    "        \"\"\"\n",
    "        This method advances to the next date.\n",
    "        \"\"\"\n",
    "        max_days = Calendar.months[self.__months-1]\n",
    "        if self.__months == 2 and Calendar.leapyear(self.__years):\n",
    "            max_days += 1\n",
    "        if self.__days == max_days:\n",
    "            self.__days= 1\n",
    "            if self.__months == 12:\n",
    "                self.__months = 1\n",
    "                self.__years += 1\n",
    "            else:\n",
    "                self.__months += 1\n",
    "        else:\n",
    "            self.__days += 1\n",
    "if __name__ == \"__main__\":\n",
    "    x = Calendar(31,12,2012)\n",
    "    print(x, end=\" \")\n",
    "    x.advance()\n",
    "    print(\"after applying advance: \", x)\n",
    "    print(\"2012 was a leapyear:\")\n",
    "    x = Calendar(28,2,2012)\n",
    "    print(x, end=\" \")\n",
    "    x.advance()\n",
    "    print(\"after applying advance: \", x)\n",
    "    x = Calendar(28,2,2013)\n",
    "    print(x, end=\" \")\n",
    "    x.advance()\n",
    "    print(\"after applying advance: \", x)\n",
    "    print(\"1900 no leapyear: number divisible by 100 but not by 400: \")\n",
    "    x = Calendar(28,2,1900)\n",
    "    print(x, end=\" \")\n",
    "    x.advance()\n",
    "    print(\"after applying advance: \", x)\n",
    "    print(\"2000 was a leapyear, because number divisibe by 400: \")\n",
    "    x = Calendar(28,2,2000)\n",
    "    print(x, end=\" \")\n",
    "    x.advance()\n",
    "    print(\"after applying advance: \", x)\n",
    "    print(\"Switching to American date style: \")\n",
    "    Calendar.date_style = \"American\"\n",
    "    print(\"after applying advance: \", x)  "
   ]
  },
  {
   "cell_type": "code",
   "execution_count": null,
   "id": "1b77cbf8",
   "metadata": {},
   "outputs": [],
   "source": [
    "\"\"\" \n",
    "Module, which implements the class CalendarClock.\n",
    "\"\"\"\n",
    "from clock import Clock\n",
    "from calendar import Calendar\n",
    "class CalendarClock(Clock, Calendar):\n",
    "    \"\"\" \n",
    "        The class CalendarClock implements a clock with integrated \n",
    "        calendar. It's a case of multiple inheritance, as it inherits \n",
    "        both from Clock and Calendar      \n",
    "    \"\"\"\n",
    "    def __init__(self, day, month, year, hour, minute, second):\n",
    "        Clock.__init__(self,hour, minute, second)\n",
    "        Calendar.__init__(self, day, month, year)\n",
    "    def tick(self):\n",
    "        \"\"\"\n",
    "        advance the clock by one second\n",
    "        \"\"\"\n",
    "        previous_hour = self._hours\n",
    "        Clock.tick(self)\n",
    "        if (self._hours < previous_hour): \n",
    "            self.advance()\n",
    "    def __str__(self):\n",
    "        return Calendar.__str__(self) + \", \" + Clock.__str__(self)\n",
    "if __name__ == \"__main__\":\n",
    "    x = CalendarClock(31, 12, 2013, 23, 59, 59)\n",
    "    print(\"One tick from \",x, end=\" \")\n",
    "    x.tick()\n",
    "    print(\"to \", x)\n",
    "    x = CalendarClock(28, 2, 1900, 23, 59, 59)\n",
    "    print(\"One tick from \",x, end=\" \")\n",
    "    x.tick()\n",
    "    print(\"to \", x)\n",
    "    x = CalendarClock(28, 2, 2000, 23, 59, 59)\n",
    "    print(\"One tick from \",x, end=\" \")\n",
    "    x.tick()\n",
    "    print(\"to \", x)\n",
    "    x = CalendarClock(7, 2, 2013, 13, 55, 40)\n",
    "    print(\"One tick from \",x, end=\" \")\n",
    "    x.tick()\n",
    "    print(\"to \", x)"
   ]
  },
  {
   "cell_type": "code",
   "execution_count": null,
   "id": "abb7d48a",
   "metadata": {},
   "outputs": [],
   "source": [
    "def words_with_specific_characters(word_list, characters):\n",
    "    # Convert characters string to a set for faster lookup\n",
    "    characters_set = set(characters)\n",
    "    \n",
    "    # Iterate through each word in the word list\n",
    "    for word in word_list:\n",
    "        # Check if all characters in 'characters' are present in the word\n",
    "        if all(char in word for char in characters_set):\n",
    "            yield word\n",
    "\n",
    "# Get input from the user\n",
    "word_list = input(\"Enter a list of words separated by spaces: \").split()\n",
    "characters = input(\"Enter specific characters to search for: \")\n",
    "\n",
    "# Generate words containing specific characters\n",
    "result = list(words_with_specific_characters(word_list, characters))\n",
    "\n",
    "# Print the result\n",
    "if result:\n",
    "    print(\"Words containing the specific characters:\", \", \".join(result))\n",
    "else:\n",
    "    print(\"No words found containing the specific characters.\")"
   ]
  },
  {
   "cell_type": "code",
   "execution_count": null,
   "id": "2dd60e95",
   "metadata": {},
   "outputs": [],
   "source": []
  }
 ],
 "metadata": {
  "kernelspec": {
   "display_name": "Python 3 (ipykernel)",
   "language": "python",
   "name": "python3"
  },
  "language_info": {
   "codemirror_mode": {
    "name": "ipython",
    "version": 3
   },
   "file_extension": ".py",
   "mimetype": "text/x-python",
   "name": "python",
   "nbconvert_exporter": "python",
   "pygments_lexer": "ipython3",
   "version": "3.9.13"
  }
 },
 "nbformat": 4,
 "nbformat_minor": 5
}
