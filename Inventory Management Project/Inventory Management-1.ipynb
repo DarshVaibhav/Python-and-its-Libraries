{
 "cells": [
  {
   "cell_type": "markdown",
   "id": "1d7a665b",
   "metadata": {},
   "source": [
    "# inventory mangement sytem with file(using json)"
   ]
  },
  {
   "cell_type": "code",
   "execution_count": 1,
   "id": "bcd5b4e4",
   "metadata": {},
   "outputs": [],
   "source": [
    "record = {1001 : {'Name': \"5 star\",  \"Price\": 10,   \"Qn\" : 200},\n",
    "         1002  : {'Name': \"bar one\", \"Price\": 30,   \"Qn\" : 100},\n",
    "         1003  : {'Name': \"candy\",   \"Price\": 2,    \"Qn\" : 1000},\n",
    "         1004  : {'Name': \"cake\",    \"Price\": 300,  \"Qn\" : 50},\n",
    "         1005  : {'Name': \"chips\",   \"Price\": 20,   \"Qn\" : 150},\n",
    "         1006  : {'Name': \"coke\",    \"Price\": 40,   \"Qn\" : 100}}"
   ]
  },
  {
   "cell_type": "code",
   "execution_count": 2,
   "id": "4735e5d3",
   "metadata": {},
   "outputs": [
    {
     "name": "stdout",
     "output_type": "stream",
     "text": [
      "cake\n"
     ]
    }
   ],
   "source": [
    "print(record[1004]['Name'])"
   ]
  },
  {
   "cell_type": "code",
   "execution_count": 3,
   "id": "37edda96",
   "metadata": {},
   "outputs": [
    {
     "name": "stdout",
     "output_type": "stream",
     "text": [
      "chips\n"
     ]
    }
   ],
   "source": [
    "print(record[1005]['Name'])"
   ]
  },
  {
   "cell_type": "code",
   "execution_count": 4,
   "id": "34c27142",
   "metadata": {},
   "outputs": [
    {
     "data": {
      "text/plain": [
       "{1001: {'Name': '5 star', 'Price': 10, 'Qn': 200},\n",
       " 1002: {'Name': 'bar one', 'Price': 30, 'Qn': 100},\n",
       " 1003: {'Name': 'candy', 'Price': 2, 'Qn': 1000},\n",
       " 1004: {'Name': 'cake', 'Price': 300, 'Qn': 50},\n",
       " 1005: {'Name': 'chips', 'Price': 20, 'Qn': 150},\n",
       " 1006: {'Name': 'coke', 'Price': 40, 'Qn': 100}}"
      ]
     },
     "execution_count": 4,
     "metadata": {},
     "output_type": "execute_result"
    }
   ],
   "source": [
    "record"
   ]
  },
  {
   "cell_type": "markdown",
   "id": "0dadfc2e",
   "metadata": {},
   "source": [
    "# generating bill "
   ]
  },
  {
   "cell_type": "code",
   "execution_count": 5,
   "id": "e6caa7cd",
   "metadata": {},
   "outputs": [
    {
     "name": "stdout",
     "output_type": "stream",
     "text": [
      "--------------------MENU---------------------\n",
      "1001 5 star 10 5 star\n",
      "1002 bar one 30 bar one\n",
      "1003 candy 2 candy\n",
      "1004 cake 300 cake\n",
      "1005 chips 20 chips\n",
      "1006 coke 40 coke\n",
      "---------------------------------------------\n",
      "\n",
      "Enter product ID : 1005\n",
      "Enter Quantiry   : 5\n",
      "---------------------------------------------\n",
      "\n",
      "Name      :  chips\n",
      "Price (Rs):  20\n",
      "Quantity  :  5\n",
      "---------------------------------------------\n",
      "Billing   :  100 Rs\n",
      "---------------------------------------------\n"
     ]
    }
   ],
   "source": [
    "print(\"--------------------MENU---------------------\")\n",
    "for key in record.keys():\n",
    "    print(key, record[key]['Name'], record[key]['Price'], record[key]['Name'])\n",
    "print(\"---------------------------------------------\")\n",
    "print('')\n",
    "\n",
    "ui_pr = int(input(\"Enter product ID : \"))\n",
    "ui_qn = int(input(\"Enter Quantiry   : \"))\n",
    "\n",
    "print(\"---------------------------------------------\")\n",
    "print('')\n",
    "\n",
    "print(\"Name      : \", record[ui_pr][\"Name\"])\n",
    "print(\"Price (Rs): \", record[ui_pr][\"Price\"])\n",
    "print(\"Quantity  : \", ui_qn)\n",
    "print(\"---------------------------------------------\")\n",
    "print(\"Billing   : \", ui_qn * record[ui_pr][\"Price\"], \"Rs\")\n",
    "print(\"---------------------------------------------\")"
   ]
  },
  {
   "cell_type": "code",
   "execution_count": null,
   "id": "0596d729",
   "metadata": {},
   "outputs": [],
   "source": [
    "my code\n",
    "#print(\"-------------------menu----------------------\")\n",
    "#for key in record.keys():\n",
    "#    print(key ,record[key]['Name'], record[key]['Price'], record[key]['Qn'])\n",
    "#    print(\"-----------------------------------------\")\n",
    "#    print('')\n",
    "#    \n",
    "#    ui_pr = int(input(\"enter product id       :\"))\n",
    "#    ui_qn = int(input(\"enter product qunatity :\"))\n",
    "#    \n",
    "#    print(\"-----------------------------------------\")\n",
    "#    print('')\n",
    "#    print(\"             Bill                        \")\n",
    "#    print(\"Price    :\" , record[ui_pr]['Price'])\n",
    "#    print(\"Quantity :\" , ui_qn)\n",
    "#    print(\"-----------------------------------------\")\n",
    "#    print(\"Billing amount :\", record[ui_pr]['Price'] * ui_qn)\n",
    "#    print(\"-----------------------------------------\")"
   ]
  },
  {
   "cell_type": "markdown",
   "id": "83aa88d2",
   "metadata": {},
   "source": [
    "# updating inventory"
   ]
  },
  {
   "cell_type": "code",
   "execution_count": 6,
   "id": "1565877e",
   "metadata": {},
   "outputs": [
    {
     "name": "stdout",
     "output_type": "stream",
     "text": [
      "--------------------MENU---------------------\n",
      "1001 5 star 10 5 star\n",
      "1002 bar one 30 bar one\n",
      "1003 candy 2 candy\n",
      "1004 cake 300 cake\n",
      "1005 chips 20 chips\n",
      "1006 coke 40 coke\n",
      "---------------------------------------------\n",
      "\n",
      "Enter product ID : 1006\n",
      "Enter Quantiry   : 5\n",
      "---------------------------------------------\n",
      "\n",
      "Name      :  coke\n",
      "Price (Rs):  40\n",
      "Quantity  :  5\n",
      "---------------------------------------------\n",
      "Billing   :  200 Rs\n",
      "---------------------------------------------\n",
      "\n",
      "---------------------------------------------\n",
      "  Thanks for your order, Inventory Updated!  \n",
      "---------------------------------------------\n"
     ]
    }
   ],
   "source": [
    "print(\"--------------------MENU---------------------\")\n",
    "for key in record.keys():\n",
    "    print(key, record[key]['Name'], record[key]['Price'], record[key]['Name'])\n",
    "print(\"---------------------------------------------\")\n",
    "print('')\n",
    "\n",
    "ui_pr = int(input(\"Enter product ID : \"))\n",
    "ui_qn = int(input(\"Enter Quantiry   : \"))\n",
    "\n",
    "print(\"---------------------------------------------\")\n",
    "print('')\n",
    "\n",
    "print(\"Name      : \", record[ui_pr][\"Name\"])\n",
    "print(\"Price (Rs): \", record[ui_pr][\"Price\"])\n",
    "print(\"Quantity  : \", ui_qn)\n",
    "print(\"---------------------------------------------\")\n",
    "print(\"Billing   : \", ui_qn * record[ui_pr][\"Price\"], \"Rs\")\n",
    "print(\"---------------------------------------------\")\n",
    "\n",
    "record[ui_pr]['Qn'] = record[ui_pr]['Qn'] - ui_qn\n",
    "\n",
    "print('')\n",
    "print(\"---------------------------------------------\")\n",
    "print(\"  Thanks for your order, Inventory Updated!  \")\n",
    "print(\"---------------------------------------------\")"
   ]
  },
  {
   "cell_type": "markdown",
   "id": "09e8ddd8",
   "metadata": {},
   "source": [
    "# Saving record"
   ]
  },
  {
   "cell_type": "code",
   "execution_count": 8,
   "id": "30c17510",
   "metadata": {},
   "outputs": [
    {
     "name": "stdout",
     "output_type": "stream",
     "text": [
      "--------------------MENU---------------------\n",
      "1001 5 star 10 5 star\n",
      "1002 bar one 30 bar one\n",
      "1003 candy 2 candy\n",
      "1004 cake 300 cake\n",
      "1005 chips 20 chips\n",
      "1006 coke 40 coke\n",
      "---------------------------------------------\n",
      "\n",
      "Enter product ID : 1005\n",
      "Enter Quantiry   : 5\n",
      "---------------------------------------------\n",
      "\n",
      "Name      :  chips\n",
      "Price (Rs):  20\n",
      "Quantity  :  5\n",
      "---------------------------------------------\n",
      "Billing   :  100 Rs\n",
      "---------------------------------------------\n",
      "\n",
      "---------------------------------------------\n",
      "  Thanks for your order, Inventory Updated!  \n",
      "---------------------------------------------\n"
     ]
    }
   ],
   "source": [
    "import json\n",
    "\n",
    "print(\"--------------------MENU---------------------\")\n",
    "for key in record.keys():\n",
    "    print(key, record[key]['Name'], record[key]['Price'], record[key]['Name'])\n",
    "print(\"---------------------------------------------\")\n",
    "print('')\n",
    "\n",
    "ui_pr = int(input(\"Enter product ID : \"))\n",
    "ui_qn = int(input(\"Enter Quantiry   : \"))\n",
    "\n",
    "print(\"---------------------------------------------\")\n",
    "print('')\n",
    "\n",
    "print(\"Name      : \", record[ui_pr][\"Name\"])\n",
    "print(\"Price (Rs): \", record[ui_pr][\"Price\"])\n",
    "print(\"Quantity  : \", ui_qn)\n",
    "print(\"---------------------------------------------\")\n",
    "print(\"Billing   : \", ui_qn * record[ui_pr][\"Price\"], \"Rs\")\n",
    "print(\"---------------------------------------------\")\n",
    "\n",
    "record[ui_pr]['Qn'] = record[ui_pr]['Qn'] - ui_qn\n",
    "\n",
    "js = json.dumps(record)\n",
    "\n",
    "fd = open('Record.json','w')\n",
    "fd.write(js)\n",
    "fd.close()\n",
    "\n",
    "print('')\n",
    "print(\"---------------------------------------------\")\n",
    "print(\"  Thanks for your order, Inventory Updated!  \")\n",
    "print(\"---------------------------------------------\")"
   ]
  },
  {
   "cell_type": "code",
   "execution_count": 9,
   "id": "df84e154",
   "metadata": {},
   "outputs": [
    {
     "data": {
      "text/plain": [
       "{1001: {'Name': '5 star', 'Price': 10, 'Qn': 200},\n",
       " 1002: {'Name': 'bar one', 'Price': 30, 'Qn': 95},\n",
       " 1003: {'Name': 'candy', 'Price': 2, 'Qn': 1000},\n",
       " 1004: {'Name': 'cake', 'Price': 300, 'Qn': 50},\n",
       " 1005: {'Name': 'chips', 'Price': 20, 'Qn': 145},\n",
       " 1006: {'Name': 'coke', 'Price': 40, 'Qn': 95}}"
      ]
     },
     "execution_count": 9,
     "metadata": {},
     "output_type": "execute_result"
    }
   ],
   "source": [
    "record"
   ]
  },
  {
   "cell_type": "code",
   "execution_count": 10,
   "id": "7f40073e",
   "metadata": {},
   "outputs": [
    {
     "data": {
      "text/plain": [
       "dict"
      ]
     },
     "execution_count": 10,
     "metadata": {},
     "output_type": "execute_result"
    }
   ],
   "source": [
    "type(record)"
   ]
  },
  {
   "cell_type": "code",
   "execution_count": 11,
   "id": "bc7d64d7",
   "metadata": {},
   "outputs": [
    {
     "data": {
      "text/plain": [
       "<module 'json' from 'C:\\\\ProgramData\\\\Anaconda3\\\\lib\\\\json\\\\__init__.py'>"
      ]
     },
     "execution_count": 11,
     "metadata": {},
     "output_type": "execute_result"
    }
   ],
   "source": [
    "json"
   ]
  },
  {
   "cell_type": "code",
   "execution_count": 12,
   "id": "544b3add",
   "metadata": {},
   "outputs": [
    {
     "data": {
      "text/plain": [
       "'{\"1001\": {\"Name\": \"5 star\", \"Price\": 10, \"Qn\": 200}, \"1002\": {\"Name\": \"bar one\", \"Price\": 30, \"Qn\": 95}, \"1003\": {\"Name\": \"candy\", \"Price\": 2, \"Qn\": 1000}, \"1004\": {\"Name\": \"cake\", \"Price\": 300, \"Qn\": 50}, \"1005\": {\"Name\": \"chips\", \"Price\": 20, \"Qn\": 145}, \"1006\": {\"Name\": \"coke\", \"Price\": 40, \"Qn\": 95}}'"
      ]
     },
     "execution_count": 12,
     "metadata": {},
     "output_type": "execute_result"
    }
   ],
   "source": [
    "js\n"
   ]
  },
  {
   "cell_type": "code",
   "execution_count": 13,
   "id": "e742b995",
   "metadata": {},
   "outputs": [
    {
     "data": {
      "text/plain": [
       "str"
      ]
     },
     "execution_count": 13,
     "metadata": {},
     "output_type": "execute_result"
    }
   ],
   "source": [
    "type(js)"
   ]
  },
  {
   "cell_type": "markdown",
   "id": "0f903fb4",
   "metadata": {},
   "source": [
    "# Loading record"
   ]
  },
  {
   "cell_type": "code",
   "execution_count": 14,
   "id": "532d5d87",
   "metadata": {},
   "outputs": [
    {
     "name": "stdout",
     "output_type": "stream",
     "text": [
      "--------------------MENU---------------------\n",
      "1001 5 star 10 200\n",
      "1002 bar one 30 95\n",
      "1003 candy 2 1000\n",
      "1004 cake 300 50\n",
      "1005 chips 20 145\n",
      "1006 coke 40 95\n",
      "---------------------------------------------\n",
      "\n",
      "Enter product ID : 1003\n",
      "Enter Quantiry   : 50\n",
      "---------------------------------------------\n",
      "\n",
      "Name      :  candy\n",
      "Price (Rs):  2\n",
      "Quantity  :  50\n",
      "---------------------------------------------\n",
      "Billing   :  100 Rs\n",
      "---------------------------------------------\n",
      "\n",
      "---------------------------------------------\n",
      "  Thanks for your order, Inventory Updated!  \n",
      "---------------------------------------------\n"
     ]
    }
   ],
   "source": [
    "import json\n",
    "\n",
    "fd = open('Record.json','r')\n",
    "js = fd.read()\n",
    "fd.close()\n",
    "\n",
    "record = json.loads(js)\n",
    "\n",
    "print(\"--------------------MENU---------------------\")\n",
    "for key in record.keys():\n",
    "    print(key, record[key]['Name'], record[key]['Price'], record[key]['Qn'])\n",
    "print(\"---------------------------------------------\")\n",
    "print('')\n",
    "\n",
    "ui_pr = str(input(\"Enter product ID : \"))\n",
    "ui_qn = int(input(\"Enter Quantiry   : \"))\n",
    "\n",
    "print(\"---------------------------------------------\")\n",
    "print('')\n",
    "\n",
    "print(\"Name      : \", record[ui_pr][\"Name\"])\n",
    "print(\"Price (Rs): \", record[ui_pr][\"Price\"])\n",
    "print(\"Quantity  : \", ui_qn)\n",
    "print(\"---------------------------------------------\")\n",
    "print(\"Billing   : \", ui_qn * record[ui_pr][\"Price\"], \"Rs\")\n",
    "print(\"---------------------------------------------\")\n",
    "\n",
    "record[ui_pr]['Qn'] = record[ui_pr]['Qn'] - ui_qn\n",
    "\n",
    "js = json.dumps(record)\n",
    "\n",
    "fd = open('Record.json','w')\n",
    "fd.write(js)\n",
    "fd.close()\n",
    "\n",
    "print('')\n",
    "print(\"---------------------------------------------\")\n",
    "print(\"  Thanks for your order, Inventory Updated!  \")\n",
    "print(\"---------------------------------------------\")"
   ]
  },
  {
   "cell_type": "code",
   "execution_count": 15,
   "id": "ae5bedb2",
   "metadata": {},
   "outputs": [
    {
     "data": {
      "text/plain": [
       "{'1001': {'Name': '5 star', 'Price': 10, 'Qn': 200},\n",
       " '1002': {'Name': 'bar one', 'Price': 30, 'Qn': 95},\n",
       " '1003': {'Name': 'candy', 'Price': 2, 'Qn': 950},\n",
       " '1004': {'Name': 'cake', 'Price': 300, 'Qn': 50},\n",
       " '1005': {'Name': 'chips', 'Price': 20, 'Qn': 145},\n",
       " '1006': {'Name': 'coke', 'Price': 40, 'Qn': 95}}"
      ]
     },
     "execution_count": 15,
     "metadata": {},
     "output_type": "execute_result"
    }
   ],
   "source": [
    "record"
   ]
  },
  {
   "cell_type": "markdown",
   "id": "22bef303",
   "metadata": {},
   "source": [
    "# Adding function"
   ]
  },
  {
   "cell_type": "code",
   "execution_count": 19,
   "id": "f21de94d",
   "metadata": {},
   "outputs": [
    {
     "name": "stdout",
     "output_type": "stream",
     "text": [
      "--------------------MENU---------------------\n",
      "1001 5 star 10 200\n",
      "1002 bar one 30 95\n",
      "1003 candy 2 950\n",
      "1004 cake 300 40\n",
      "1005 chips 20 145\n",
      "1006 coke 40 95\n",
      "---------------------------------------------\n",
      "\n",
      "Enter product ID : 1004\n",
      "Enter Quantiry   : 50\n",
      "---------------------------------------------\n",
      "\n",
      "Sorry, We're not having enough quanity of product in our Inventory.\n",
      "We're only having 40 quantity.\n",
      "---------------------------------------------\n",
      "Press Y/y to purchase: y\n",
      "---------------------------------------------\n",
      "Name      :  cake\n",
      "Price (Rs):  300\n",
      "Quantity  :  40\n",
      "---------------------------------------------\n",
      "Billing   :  12000 Rs\n",
      "---------------------------------------------\n",
      "\n",
      "---------------------------------------------\n",
      "  Thanks for your order, Inventory Updated!  \n",
      "---------------------------------------------\n"
     ]
    }
   ],
   "source": [
    "import json\n",
    "\n",
    "ch = 'Y'\n",
    "fd = open('Record.json','r')\n",
    "js = fd.read()\n",
    "fd.close()\n",
    "\n",
    "record = json.loads(js)\n",
    "\n",
    "print(\"--------------------MENU---------------------\")\n",
    "for key in record.keys():\n",
    "    print(key, record[key]['Name'], record[key]['Price'], record[key]['Qn'])\n",
    "print(\"---------------------------------------------\")\n",
    "print('')\n",
    "\n",
    "ui_pr = str(input(\"Enter product ID : \"))\n",
    "ui_qn = int(input(\"Enter Quantiry   : \"))\n",
    "\n",
    "print(\"---------------------------------------------\")\n",
    "print('')\n",
    "\n",
    "if (record[ui_pr]['Qn'] >= ui_qn):\n",
    "\n",
    "    print(\"Name      : \", record[ui_pr][\"Name\"])\n",
    "    print(\"Price (Rs): \", record[ui_pr][\"Price\"])\n",
    "    print(\"Quantity  : \", ui_qn)\n",
    "    print(\"---------------------------------------------\")\n",
    "    print(\"Billing   : \", ui_qn * record[ui_pr][\"Price\"], \"Rs\")\n",
    "    print(\"---------------------------------------------\")\n",
    "\n",
    "    record[ui_pr]['Qn'] = record[ui_pr]['Qn'] - ui_qn\n",
    "\n",
    "else:\n",
    "    \n",
    "    print(\"Sorry, We're not having enough quanity of product in our Inventory.\")\n",
    "    print(\"We're only having \" + str(record[ui_pr]['Qn']) + \" quantity.\")\n",
    "    print(\"---------------------------------------------\")\n",
    "    \n",
    "    ch == str(input(\"Press Y/y to purchase: \"))\n",
    "    \n",
    "    if(ch == \"Y\" or ch == 'y'):\n",
    "\n",
    "        print(\"---------------------------------------------\")\n",
    "        print(\"Name      : \", record[ui_pr][\"Name\"])\n",
    "        print(\"Price (Rs): \", record[ui_pr][\"Price\"])\n",
    "        print(\"Quantity  : \", record[ui_pr]['Qn'])\n",
    "        print(\"---------------------------------------------\")\n",
    "        print(\"Billing   : \", record[ui_pr]['Qn'] * record[ui_pr][\"Price\"], \"Rs\")\n",
    "        print(\"---------------------------------------------\")\n",
    "\n",
    "        record[ui_pr]['Qn'] = 0\n",
    "        \n",
    "    else:\n",
    "        print(\"Thanks!\")\n",
    "\n",
    "js = json.dumps(record)\n",
    "\n",
    "fd = open('Record.json','w')\n",
    "fd.write(js)\n",
    "fd.close()\n",
    "\n",
    "print('')\n",
    "print(\"---------------------------------------------\")\n",
    "print(\"  Thanks for your order, Inventory Updated!  \")\n",
    "print(\"---------------------------------------------\")"
   ]
  },
  {
   "cell_type": "code",
   "execution_count": 17,
   "id": "f09974c9",
   "metadata": {},
   "outputs": [
    {
     "data": {
      "text/plain": [
       "{'1001': {'Name': '5 star', 'Price': 10, 'Qn': 200},\n",
       " '1002': {'Name': 'bar one', 'Price': 30, 'Qn': 95},\n",
       " '1003': {'Name': 'candy', 'Price': 2, 'Qn': 950},\n",
       " '1004': {'Name': 'cake', 'Price': 300, 'Qn': 40},\n",
       " '1005': {'Name': 'chips', 'Price': 20, 'Qn': 145},\n",
       " '1006': {'Name': 'coke', 'Price': 40, 'Qn': 95}}"
      ]
     },
     "execution_count": 17,
     "metadata": {},
     "output_type": "execute_result"
    }
   ],
   "source": [
    "record"
   ]
  },
  {
   "cell_type": "markdown",
   "id": "463bf776",
   "metadata": {},
   "source": [
    "# generating sales structure"
   ]
  },
  {
   "cell_type": "code",
   "execution_count": 7,
   "id": "adf056b5",
   "metadata": {},
   "outputs": [
    {
     "name": "stdout",
     "output_type": "stream",
     "text": [
      "--------------------MENU---------------------\n",
      "1001 5 star 10 180\n",
      "1002 bar one 30 0\n",
      "1003 candy 2 950\n",
      "1004 cake 300 0\n",
      "1005 chips 20 145\n",
      "1006 coke 40 95\n",
      "---------------------------------------------\n",
      "Enter your name    : dav\n",
      "Enter Mail ID      : dav@gmail.com\n",
      "Enter Phone No     :  532\n",
      "Enter product ID   : 1006\n",
      "Enter Quantity     : 1000\n",
      "---------------------------------------------\n",
      "Sorry, We're not having enough quanity of product in our Inventory.\n",
      "We're only having 95 quantity.\n",
      "---------------------------------------------\n",
      "Press Y to purchase: Y\n",
      "---------------------------------------------\n",
      "Name      :  coke\n",
      "Price (Rs):  40\n",
      "Quantity  :  95\n",
      "---------------------------------------------\n",
      "Billing   :  3800 Rs\n",
      "---------------------------------------------\n",
      "---------------------------------------------\n",
      "  Thanks for your order, Inventory Updated!  \n",
      "---------------------------------------------\n"
     ]
    }
   ],
   "source": [
    "import json\n",
    "import time\n",
    "\n",
    "ch = 'Y'\n",
    "fd = open('Record.json','r')\n",
    "js = fd.read()\n",
    "fd.close()\n",
    "\n",
    "record = json.loads(js)\n",
    "\n",
    "print(\"--------------------MENU---------------------\")\n",
    "for key in record.keys():\n",
    "    print(key, record[key]['Name'], record[key]['Price'], record[key]['Qn'])\n",
    "print(\"---------------------------------------------\")\n",
    "\n",
    "ui_name = str(input(\"Enter your name    : \"))\n",
    "ui_mail = str(input(\"Enter Mail ID      : \"))\n",
    "ui_ph   = str(input(\"Enter Phone No     :  \"))\n",
    "ui_pr   = str(input(\"Enter product ID   : \"))\n",
    "ui_qn   = int(input(\"Enter Quantity     : \"))\n",
    "\n",
    "print(\"---------------------------------------------\")\n",
    "\n",
    "if (record[ui_pr]['Qn'] >= ui_qn):\n",
    "    \n",
    "    record[ui_pr]['Qn'] = record[ui_pr]['Qn'] - ui_qn\n",
    "    print(\"Name      : \", record[ui_pr][\"Name\"])\n",
    "    print(\"Price (Rs): \", record[ui_pr][\"Price\"])\n",
    "    print(\"Quantity  : \", ui_qn)\n",
    "    print(\"---------------------------------------------\")\n",
    "    print(\"Billing   : \", ui_qn * record[ui_pr][\"Price\"], \"Rs\")\n",
    "    print(\"---------------------------------------------\")\n",
    "\n",
    "    sale = '1'+\",\"+ui_name+\",\"+ui_mail+\",\"+ui_ph+\",\"+ui_pr+\",\"+record[ui_pr][\"Name\"]+\",\"+str(ui_qn)+\",\"+str(record[ui_pr][\"Price\"])+\",\"+str(ui_qn * record[ui_pr][\"Price\"])+\",\"+time.ctime()\n",
    "\n",
    "else:\n",
    "    \n",
    "    print(\"Sorry, We're not having enough quanity of product in our Inventory.\")\n",
    "    print(\"We're only having \" + str(record[ui_pr]['Qn']) + \" quantity.\")\n",
    "    print(\"---------------------------------------------\")\n",
    "    ch == str(input(\"Press Y to purchase: \"))\n",
    "    \n",
    "    if(ch == \"Y\" or ch == 'y'):\n",
    "\n",
    "        print(\"---------------------------------------------\")\n",
    "        print(\"Name      : \", record[ui_pr][\"Name\"])\n",
    "        print(\"Price (Rs): \", record[ui_pr][\"Price\"])\n",
    "        print(\"Quantity  : \", record[ui_pr]['Qn'])\n",
    "        print(\"---------------------------------------------\")\n",
    "        print(\"Billing   : \", record[ui_pr]['Qn'] * record[ui_pr][\"Price\"], \"Rs\")\n",
    "        print(\"---------------------------------------------\")\n",
    "\n",
    "        sale = '1'+\",\"+ui_name+\",\"+ui_mail+\",\"+ui_ph+\",\"+ui_pr+\",\"+record[ui_pr][\"Name\"]+\",\"+str(record[ui_pr]['Qn'])+\",\"+str(record[ui_pr][\"Price\"])+\",\"+str(record[ui_pr]['Qn'] * record[ui_pr][\"Price\"])+\",\"+time.ctime()\n",
    "        record[ui_pr]['Qn'] = 0 \n",
    "    else:\n",
    "        print(\"Thanks!\")\n",
    "\n",
    "js = json.dumps(record)\n",
    "\n",
    "fd = open('Record.json','w')\n",
    "fd.write(js)\n",
    "fd.close()\n",
    "\n",
    "print(\"---------------------------------------------\")\n",
    "print(\"  Thanks for your order, Inventory Updated!  \")\n",
    "print(\"---------------------------------------------\")"
   ]
  },
  {
   "cell_type": "markdown",
   "id": "aa530924",
   "metadata": {},
   "source": [
    "# Generating sales files"
   ]
  },
  {
   "cell_type": "code",
   "execution_count": 12,
   "id": "f0cde785",
   "metadata": {},
   "outputs": [
    {
     "name": "stdout",
     "output_type": "stream",
     "text": [
      "--------------------MENU---------------------\n",
      "1001 5 star 10 160\n",
      "1002 bar one 30 0\n",
      "1003 candy 2 950\n",
      "1004 cake 300 0\n",
      "1005 chips 20 145\n",
      "1006 coke 40 0\n",
      "---------------------------------------------\n",
      "Enter your name    : dgdg\n",
      "Enter Mail ID      : ghdg\n",
      "Enter Phone No     :  bjh\n",
      "Enter product ID   : 1001\n",
      "Enter Quantity     : 10\n",
      "---------------------------------------------\n",
      "Name      :  5 star\n",
      "Price (Rs):  10\n",
      "Quantity  :  10\n",
      "---------------------------------------------\n",
      "Billing   :  100 Rs\n",
      "---------------------------------------------\n",
      "---------------------------------------------\n",
      "  Thanks for your order, Inventory Updated!  \n",
      "---------------------------------------------\n"
     ]
    }
   ],
   "source": [
    "import json\n",
    "import time\n",
    "\n",
    "sale = ''\n",
    "ch = 'Y'\n",
    "fd = open('Record.json','r')\n",
    "js = fd.read()\n",
    "fd.close()\n",
    "\n",
    "record = json.loads(js)\n",
    "\n",
    "print(\"--------------------MENU---------------------\")\n",
    "for key in record.keys():\n",
    "    print(key, record[key]['Name'], record[key]['Price'], record[key]['Qn'])\n",
    "print(\"---------------------------------------------\")\n",
    "\n",
    "ui_name = str(input(\"Enter your name    : \"))\n",
    "ui_mail = str(input(\"Enter Mail ID      : \"))\n",
    "ui_ph   = str(input(\"Enter Phone No     :  \"))\n",
    "ui_pr   = str(input(\"Enter product ID   : \"))\n",
    "ui_qn   = int(input(\"Enter Quantity     : \"))\n",
    "\n",
    "print(\"---------------------------------------------\")\n",
    "\n",
    "if (record[ui_pr]['Qn'] >= ui_qn):\n",
    "    \n",
    "    print(\"Name      : \", record[ui_pr][\"Name\"])\n",
    "    print(\"Price (Rs): \", record[ui_pr][\"Price\"])\n",
    "    print(\"Quantity  : \", ui_qn)\n",
    "    print(\"---------------------------------------------\")\n",
    "    print(\"Billing   : \", ui_qn * record[ui_pr][\"Price\"], \"Rs\")\n",
    "    print(\"---------------------------------------------\")\n",
    "\n",
    "    sale = ui_name+\",\"+ui_mail+\",\"+ui_ph+\",\"+ui_pr+\",\"+record[ui_pr][\"Name\"]+\",\"+str(ui_qn)+\",\"+str(record[ui_pr][\"Price\"])+\",\"+str(ui_qn * record[ui_pr][\"Price\"])+\",\"+time.ctime() + \"\\n\"\n",
    "\n",
    "    record[ui_pr]['Qn'] = record[ui_pr]['Qn'] - ui_qn\n",
    "else:\n",
    "    \n",
    "    print(\"Sorry, We're not having enough quanity of product in our Inventory.\")\n",
    "    print(\"We're only having \" + str(record[ui_pr]['Qn']) + \" quantity.\")\n",
    "    print(\"---------------------------------------------\")\n",
    "    ch == str(input(\"Press Y to purchase: \"))\n",
    "    \n",
    "    if(ch == \"Y\" or ch == 'y'):\n",
    "\n",
    "        print(\"---------------------------------------------\")\n",
    "        print(\"Name      : \", record[ui_pr][\"Name\"])\n",
    "        print(\"Price (Rs): \", record[ui_pr][\"Price\"])\n",
    "        print(\"Quantity  : \", record[ui_pr]['Qn'])\n",
    "        print(\"---------------------------------------------\")\n",
    "        print(\"Billing   : \", record[ui_pr]['Qn'] * record[ui_pr][\"Price\"], \"Rs\")\n",
    "        print(\"---------------------------------------------\")\n",
    "\n",
    "        sale = ui_name+\",\"+ui_mail+\",\"+ui_ph+\",\"+ui_pr+\",\"+record[ui_pr][\"Name\"]+\",\"+str(record[ui_pr]['Qn'])+\",\"+str(record[ui_pr][\"Price\"])+\",\"+str(record[ui_pr]['Qn'] * record[ui_pr][\"Price\"])+\",\"+time.ctime() +\"\\n\"\n",
    "        record[ui_pr]['Qn'] = 0 \n",
    "    else:\n",
    "        print(\"Thanks!\")\n",
    "\n",
    "js = json.dumps(record)\n",
    "\n",
    "fd = open('Record.json','w')\n",
    "fd.write(js)\n",
    "fd.close()\n",
    "\n",
    "\n",
    "fd = open('sales.txt','a')\n",
    "fd.write(sale)\n",
    "fd.close()\n",
    "\n",
    "print(\"---------------------------------------------\")\n",
    "print(\"  Thanks for your order, Inventory Updated!  \")\n",
    "print(\"---------------------------------------------\")"
   ]
  },
  {
   "cell_type": "code",
   "execution_count": null,
   "id": "84e36bbd",
   "metadata": {},
   "outputs": [],
   "source": []
  }
 ],
 "metadata": {
  "kernelspec": {
   "display_name": "Python 3 (ipykernel)",
   "language": "python",
   "name": "python3"
  },
  "language_info": {
   "codemirror_mode": {
    "name": "ipython",
    "version": 3
   },
   "file_extension": ".py",
   "mimetype": "text/x-python",
   "name": "python",
   "nbconvert_exporter": "python",
   "pygments_lexer": "ipython3",
   "version": "3.9.13"
  }
 },
 "nbformat": 4,
 "nbformat_minor": 5
}
