{
 "cells": [
  {
   "cell_type": "markdown",
   "id": "c1aafe7c",
   "metadata": {},
   "source": [
    "# Intro to Numpy"
   ]
  },
  {
   "cell_type": "code",
   "execution_count": 1,
   "id": "8bb50c74",
   "metadata": {},
   "outputs": [],
   "source": [
    "import numpy as np"
   ]
  },
  {
   "cell_type": "code",
   "execution_count": 2,
   "id": "ace7fa92",
   "metadata": {},
   "outputs": [],
   "source": [
    "lst = (1,2,3,5,6)"
   ]
  },
  {
   "cell_type": "code",
   "execution_count": 3,
   "id": "7abd771d",
   "metadata": {},
   "outputs": [
    {
     "data": {
      "text/plain": [
       "tuple"
      ]
     },
     "execution_count": 3,
     "metadata": {},
     "output_type": "execute_result"
    }
   ],
   "source": [
    "type(lst)"
   ]
  },
  {
   "cell_type": "code",
   "execution_count": 4,
   "id": "adfcaa13",
   "metadata": {},
   "outputs": [],
   "source": [
    "arr = np.array((1,2,3))"
   ]
  },
  {
   "cell_type": "code",
   "execution_count": 5,
   "id": "68d7f9de",
   "metadata": {},
   "outputs": [
    {
     "data": {
      "text/plain": [
       "array([1, 2, 3])"
      ]
     },
     "execution_count": 5,
     "metadata": {},
     "output_type": "execute_result"
    }
   ],
   "source": [
    "arr"
   ]
  },
  {
   "cell_type": "code",
   "execution_count": 6,
   "id": "0a624130",
   "metadata": {},
   "outputs": [
    {
     "data": {
      "text/plain": [
       "array([3, 2, 1])"
      ]
     },
     "execution_count": 6,
     "metadata": {},
     "output_type": "execute_result"
    }
   ],
   "source": [
    "np.sort(arr)[::-1]     #desending order"
   ]
  },
  {
   "cell_type": "code",
   "execution_count": 7,
   "id": "d7b1e467",
   "metadata": {},
   "outputs": [
    {
     "data": {
      "text/plain": [
       "array([3, 2, 1])"
      ]
     },
     "execution_count": 7,
     "metadata": {},
     "output_type": "execute_result"
    }
   ],
   "source": [
    "np.flipud(arr)        #reverse the array"
   ]
  },
  {
   "cell_type": "code",
   "execution_count": 8,
   "id": "16034f88",
   "metadata": {},
   "outputs": [
    {
     "data": {
      "text/plain": [
       "array([1, 2, 3])"
      ]
     },
     "execution_count": 8,
     "metadata": {},
     "output_type": "execute_result"
    }
   ],
   "source": [
    "arr.transpose()"
   ]
  },
  {
   "cell_type": "code",
   "execution_count": 9,
   "id": "f8ee51d6",
   "metadata": {},
   "outputs": [],
   "source": [
    "arr = np.array(lst)"
   ]
  },
  {
   "cell_type": "code",
   "execution_count": 10,
   "id": "1a83b3dc",
   "metadata": {},
   "outputs": [
    {
     "data": {
      "text/plain": [
       "array([1, 2, 3, 5, 6])"
      ]
     },
     "execution_count": 10,
     "metadata": {},
     "output_type": "execute_result"
    }
   ],
   "source": [
    "arr"
   ]
  },
  {
   "cell_type": "code",
   "execution_count": 11,
   "id": "ee7c42c4",
   "metadata": {},
   "outputs": [
    {
     "data": {
      "text/plain": [
       "numpy.ndarray"
      ]
     },
     "execution_count": 11,
     "metadata": {},
     "output_type": "execute_result"
    }
   ],
   "source": [
    "type(arr)"
   ]
  },
  {
   "cell_type": "code",
   "execution_count": 12,
   "id": "30753917",
   "metadata": {},
   "outputs": [
    {
     "data": {
      "text/plain": [
       "1"
      ]
     },
     "execution_count": 12,
     "metadata": {},
     "output_type": "execute_result"
    }
   ],
   "source": [
    "arr.ndim"
   ]
  },
  {
   "cell_type": "code",
   "execution_count": 13,
   "id": "5b05bc61",
   "metadata": {},
   "outputs": [],
   "source": [
    "lst = [[1,2,3],\n",
    "      [4,5,6],\n",
    "      [7,8,9]]"
   ]
  },
  {
   "cell_type": "code",
   "execution_count": 14,
   "id": "020af1e2",
   "metadata": {},
   "outputs": [],
   "source": [
    "arr = np.array(lst)"
   ]
  },
  {
   "cell_type": "code",
   "execution_count": 15,
   "id": "1c3f7c99",
   "metadata": {},
   "outputs": [
    {
     "data": {
      "text/plain": [
       "array([[1, 2, 3],\n",
       "       [4, 5, 6],\n",
       "       [7, 8, 9]])"
      ]
     },
     "execution_count": 15,
     "metadata": {},
     "output_type": "execute_result"
    }
   ],
   "source": [
    "arr"
   ]
  },
  {
   "cell_type": "code",
   "execution_count": 49,
   "id": "310c5007",
   "metadata": {},
   "outputs": [
    {
     "data": {
      "text/plain": [
       "array([], dtype=int32)"
      ]
     },
     "execution_count": 49,
     "metadata": {},
     "output_type": "execute_result"
    }
   ],
   "source": [
    "arr[1:1]"
   ]
  },
  {
   "cell_type": "code",
   "execution_count": 12,
   "id": "1ff26a86",
   "metadata": {},
   "outputs": [
    {
     "data": {
      "text/plain": [
       "2"
      ]
     },
     "execution_count": 12,
     "metadata": {},
     "output_type": "execute_result"
    }
   ],
   "source": [
    "arr.ndim"
   ]
  },
  {
   "cell_type": "code",
   "execution_count": 13,
   "id": "0f6d4d51",
   "metadata": {},
   "outputs": [
    {
     "data": {
      "text/plain": [
       "(3, 3)"
      ]
     },
     "execution_count": 13,
     "metadata": {},
     "output_type": "execute_result"
    }
   ],
   "source": [
    "arr.shape"
   ]
  },
  {
   "cell_type": "code",
   "execution_count": 14,
   "id": "c3ac208e",
   "metadata": {},
   "outputs": [
    {
     "data": {
      "text/plain": [
       "9"
      ]
     },
     "execution_count": 14,
     "metadata": {},
     "output_type": "execute_result"
    }
   ],
   "source": [
    "arr.size"
   ]
  },
  {
   "cell_type": "code",
   "execution_count": 17,
   "id": "119e112a",
   "metadata": {},
   "outputs": [
    {
     "data": {
      "text/plain": [
       "dtype('int32')"
      ]
     },
     "execution_count": 17,
     "metadata": {},
     "output_type": "execute_result"
    }
   ],
   "source": [
    "arr.dtype"
   ]
  },
  {
   "cell_type": "code",
   "execution_count": 16,
   "id": "9f1c4541",
   "metadata": {},
   "outputs": [],
   "source": [
    "zeros = np.zeros((3,5))"
   ]
  },
  {
   "cell_type": "code",
   "execution_count": 17,
   "id": "3227f673",
   "metadata": {},
   "outputs": [
    {
     "data": {
      "text/plain": [
       "array([[0., 0., 0., 0., 0.],\n",
       "       [0., 0., 0., 0., 0.],\n",
       "       [0., 0., 0., 0., 0.]])"
      ]
     },
     "execution_count": 17,
     "metadata": {},
     "output_type": "execute_result"
    }
   ],
   "source": [
    "zeros"
   ]
  },
  {
   "cell_type": "code",
   "execution_count": 18,
   "id": "4a5f8188",
   "metadata": {},
   "outputs": [],
   "source": [
    "ones = np.ones((6,2))"
   ]
  },
  {
   "cell_type": "code",
   "execution_count": 19,
   "id": "a3047962",
   "metadata": {},
   "outputs": [
    {
     "data": {
      "text/plain": [
       "array([[1., 1.],\n",
       "       [1., 1.],\n",
       "       [1., 1.],\n",
       "       [1., 1.],\n",
       "       [1., 1.],\n",
       "       [1., 1.]])"
      ]
     },
     "execution_count": 19,
     "metadata": {},
     "output_type": "execute_result"
    }
   ],
   "source": [
    "ones"
   ]
  },
  {
   "cell_type": "code",
   "execution_count": 21,
   "id": "1ff5c7fa",
   "metadata": {},
   "outputs": [
    {
     "name": "stdout",
     "output_type": "stream",
     "text": [
      "Matrix b : \n",
      " [0 0]\n",
      "\n",
      "Matrix a : \n",
      " [[0 0]\n",
      " [0 0]]\n",
      "\n",
      "Matrix c : \n",
      " [[0. 0. 0.]\n",
      " [0. 0. 0.]\n",
      " [0. 0. 0.]]\n"
     ]
    }
   ],
   "source": [
    "# numpy.zeros method\n",
    " \n",
    "import numpy as geek\n",
    " \n",
    "b = geek.zeros(2, dtype = int)\n",
    "print(\"Matrix b : \\n\", b)\n",
    " \n",
    "a = geek.zeros([2, 2], dtype = int)\n",
    "print(\"\\nMatrix a : \\n\", a)\n",
    " \n",
    "c = geek.zeros([3, 3])\n",
    "print(\"\\nMatrix c : \\n\", c)\n"
   ]
  },
  {
   "cell_type": "code",
   "execution_count": 22,
   "id": "87946077",
   "metadata": {},
   "outputs": [
    {
     "name": "stdout",
     "output_type": "stream",
     "text": [
      "Matrix b : \n",
      " [1 1]\n",
      "\n",
      "Matrix a : \n",
      " [[1 1]\n",
      " [1 1]]\n",
      "\n",
      "Matrix c : \n",
      " [[1. 1. 1.]\n",
      " [1. 1. 1.]\n",
      " [1. 1. 1.]]\n"
     ]
    }
   ],
   "source": [
    "#The numpy.ones() function returns a new array of given shape and type, with ones.\n",
    "#Syntax: numpy.ones(shape, dtype = None, order = 'C') \n",
    "\n",
    "# Python Program illustrating\n",
    "# numpy.ones method\n",
    " \n",
    "import numpy as geek\n",
    " \n",
    "b = geek.ones(2, dtype = int)\n",
    "print(\"Matrix b : \\n\", b)\n",
    " \n",
    "a = geek.ones([2, 2], dtype = int)\n",
    "print(\"\\nMatrix a : \\n\", a)\n",
    " \n",
    "c = geek.ones([3, 3])\n",
    "print(\"\\nMatrix c : \\n\", c)\n"
   ]
  },
  {
   "cell_type": "markdown",
   "id": "845e5c62",
   "metadata": {},
   "source": [
    "# Generate the random number and reshape"
   ]
  },
  {
   "cell_type": "code",
   "execution_count": 3,
   "id": "eb82afc2",
   "metadata": {},
   "outputs": [
    {
     "name": "stdout",
     "output_type": "stream",
     "text": [
      "Output 1D Array filled with random floats :  [0.39914368 0.46430207 0.75530385]\n"
     ]
    }
   ],
   "source": [
    "# Python program explaining\n",
    "# numpy.random.random() function\n",
    "  \n",
    "# importing numpy\n",
    "import numpy as geek\n",
    "  \n",
    "  \n",
    "# output array\n",
    "out_arr = geek.random.random(3)\n",
    "print (\"Output 1D Array filled with random floats : \", out_arr) \n"
   ]
  },
  {
   "cell_type": "code",
   "execution_count": 24,
   "id": "04169d34",
   "metadata": {},
   "outputs": [
    {
     "name": "stdout",
     "output_type": "stream",
     "text": [
      "A\n",
      " [[0 1]\n",
      " [2 3]] \n",
      "\n",
      "A\n",
      " [4 5 6 7 8 9] \n",
      "\n",
      "A\n",
      " [ 4  7 10 13 16 19] \n",
      "\n"
     ]
    }
   ],
   "source": [
    "#arange([start,] stop[, step,][, dtype])\n",
    "#Array of evenly spaced values.\n",
    "#Length of array being generated  = Ceil((Stop - Start) / Step)\n",
    "# numpy.arange method\n",
    "import numpy as geek\n",
    " \n",
    "print(\"A\\n\", geek.arange(4).reshape(2, 2), \"\\n\")\n",
    "print(\"A\\n\", geek.arange(4, 10), \"\\n\")\n",
    "print(\"A\\n\", geek.arange(4, 20, 3), \"\\n\")\n",
    "# numpy arange method\n",
    " \n",
    "import numpy as geek\n",
    " \n",
    "print(\"A\\n\", geek.arange(4).reshape(2, 2), \"\\n\")\n",
    "print(\"A\\n\", geek.arange(4, 10), \"\\n\")\n",
    "print(\"A\\n\", geek.arange(4, 20, 3), \"\\n\")"
   ]
  },
  {
   "cell_type": "code",
   "execution_count": 25,
   "id": "2b4457ad",
   "metadata": {},
   "outputs": [
    {
     "name": "stdout",
     "output_type": "stream",
     "text": [
      "B\n",
      " (array([2.  , 2.25, 2.5 , 2.75, 3.  ]), 0.25) \n",
      "\n",
      "A\n",
      " [0.         0.22039774 0.42995636 0.6183698  0.77637192 0.8961922\n",
      " 0.9719379  0.99988386 0.9786557  0.90929743]\n"
     ]
    }
   ],
   "source": [
    "#The numpy.linspace() function returns number spaces evenly w.r.t interval\n",
    "\"\"\"\"numpy.linspace(start,\n",
    "               stop,\n",
    "               num = 50,\n",
    "               endpoint = True,\n",
    "               retstep = False,\n",
    "               dtype = None)\"\"\"\n",
    "# numpy.linspace method\n",
    " \n",
    "import numpy as geek\n",
    " \n",
    "# restep set to True\n",
    "print(\"B\\n\", geek.linspace(2.0, 3.0, num=5, retstep=True), \"\\n\")\n",
    " \n",
    "# To evaluate sin() in long range\n",
    "x = geek.linspace(0, 2, 10)\n",
    "print(\"A\\n\", geek.sin(x))"
   ]
  },
  {
   "cell_type": "code",
   "execution_count": 26,
   "id": "cb7ad33c",
   "metadata": {},
   "outputs": [
    {
     "name": "stdout",
     "output_type": "stream",
     "text": [
      "Original array : \n",
      " [0 1 2 3 4 5 6 7]\n",
      "\n",
      "array reshaped with 2 rows and 4 columns : \n",
      " [[0 1 2 3]\n",
      " [4 5 6 7]]\n",
      "\n",
      "array reshaped with 4 rows and 2 columns : \n",
      " [[0 1]\n",
      " [2 3]\n",
      " [4 5]\n",
      " [6 7]]\n",
      "\n",
      "Original array reshaped to 3D : \n",
      " [[[0 1]\n",
      "  [2 3]]\n",
      "\n",
      " [[4 5]\n",
      "  [6 7]]]\n"
     ]
    }
   ],
   "source": [
    "#The numpy.reshape() function shapes an array without changing the data of the array.\n",
    "#numpy.reshape(array, shape, order = 'C')\n",
    "\n",
    "# numpy.reshape() method\n",
    " \n",
    "import numpy as geek\n",
    " \n",
    "# array = geek.arrange(8)\n",
    "# The 'numpy' module has no attribute 'arrange'\n",
    "array1 = geek.arange(8)\n",
    "print(\"Original array : \\n\", array1)\n",
    " \n",
    "# shape array with 2 rows and 4 columns\n",
    "array2 = geek.arange(8).reshape(2, 4)\n",
    "print(\"\\narray reshaped with 2 rows and 4 columns : \\n\",\n",
    "      array2)\n",
    " \n",
    "# shape array with 4 rows and 2 columns\n",
    "array3 = geek.arange(8).reshape(4, 2)\n",
    "print(\"\\narray reshaped with 4 rows and 2 columns : \\n\",\n",
    "      array3)\n",
    " \n",
    "# Constructs 3D array\n",
    "array4 = geek.arange(8).reshape(2, 2, 2)\n",
    "print(\"\\nOriginal array reshaped to 3D : \\n\",\n",
    "      array4)"
   ]
  },
  {
   "cell_type": "code",
   "execution_count": 27,
   "id": "4b0b7118",
   "metadata": {},
   "outputs": [
    {
     "data": {
      "text/plain": [
       "array([[0.29666658, 0.55611   , 0.06041318],\n",
       "       [0.50392494, 0.73516164, 0.18906369],\n",
       "       [0.46582396, 0.61644563, 0.23500887]])"
      ]
     },
     "execution_count": 27,
     "metadata": {},
     "output_type": "execute_result"
    }
   ],
   "source": [
    "np.random.random((3,3))"
   ]
  },
  {
   "cell_type": "code",
   "execution_count": 28,
   "id": "9ea10f31",
   "metadata": {},
   "outputs": [
    {
     "name": "stdout",
     "output_type": "stream",
     "text": [
      "function run\n"
     ]
    }
   ],
   "source": [
    "if np.random.random() > 0.5:\n",
    "    print(\"function run\")\n",
    "else:\n",
    "    print(\"function not run\")"
   ]
  },
  {
   "cell_type": "code",
   "execution_count": 29,
   "id": "ea10eddf",
   "metadata": {},
   "outputs": [
    {
     "data": {
      "text/plain": [
       "array([1, 4, 7])"
      ]
     },
     "execution_count": 29,
     "metadata": {},
     "output_type": "execute_result"
    }
   ],
   "source": [
    "np.arange(1,10,3)"
   ]
  },
  {
   "cell_type": "code",
   "execution_count": 30,
   "id": "76e8b2c5",
   "metadata": {},
   "outputs": [],
   "source": [
    "arr = np.random.random((4,3))"
   ]
  },
  {
   "cell_type": "code",
   "execution_count": 31,
   "id": "0da6b118",
   "metadata": {},
   "outputs": [
    {
     "data": {
      "text/plain": [
       "array([[0.19368387, 0.71482291, 0.1981047 ],\n",
       "       [0.92123595, 0.06680662, 0.41740583],\n",
       "       [0.31917637, 0.20188622, 0.1688977 ],\n",
       "       [0.44079616, 0.4993019 , 0.76639711]])"
      ]
     },
     "execution_count": 31,
     "metadata": {},
     "output_type": "execute_result"
    }
   ],
   "source": [
    "arr"
   ]
  },
  {
   "cell_type": "code",
   "execution_count": 32,
   "id": "d547f332",
   "metadata": {},
   "outputs": [],
   "source": [
    "arr = np.reshape(arr,(3,4))"
   ]
  },
  {
   "cell_type": "code",
   "execution_count": 33,
   "id": "88ca2b9e",
   "metadata": {},
   "outputs": [
    {
     "data": {
      "text/plain": [
       "array([[0.19368387, 0.71482291, 0.1981047 , 0.92123595],\n",
       "       [0.06680662, 0.41740583, 0.31917637, 0.20188622],\n",
       "       [0.1688977 , 0.44079616, 0.4993019 , 0.76639711]])"
      ]
     },
     "execution_count": 33,
     "metadata": {},
     "output_type": "execute_result"
    }
   ],
   "source": [
    "arr"
   ]
  },
  {
   "cell_type": "code",
   "execution_count": 34,
   "id": "ff8849e3",
   "metadata": {},
   "outputs": [
    {
     "data": {
      "text/plain": [
       "array([0.19368387, 0.71482291, 0.1981047 , 0.92123595, 0.06680662,\n",
       "       0.41740583, 0.31917637, 0.20188622, 0.1688977 , 0.44079616,\n",
       "       0.4993019 , 0.76639711])"
      ]
     },
     "execution_count": 34,
     "metadata": {},
     "output_type": "execute_result"
    }
   ],
   "source": [
    "arr.flatten()"
   ]
  },
  {
   "cell_type": "markdown",
   "id": "81680a3c",
   "metadata": {},
   "source": [
    "# Arithmatic operation on Array"
   ]
  },
  {
   "cell_type": "markdown",
   "id": "860f497d",
   "metadata": {},
   "source": [
    "# Addition"
   ]
  },
  {
   "cell_type": "code",
   "execution_count": 1,
   "id": "c0bdb187",
   "metadata": {},
   "outputs": [
    {
     "name": "stdout",
     "output_type": "stream",
     "text": [
      "[  7  77  23 130]\n",
      "[  7  77  23 130]\n",
      "[  8  79  26 134]\n",
      "[  7  77  23 130]\n"
     ]
    }
   ],
   "source": [
    "import numpy as np\n",
    " \n",
    "# Defining both the matrices\n",
    "a = np.array([5, 72, 13, 100])\n",
    "b = np.array([2, 5, 10, 30])\n",
    " \n",
    "# Performing addition using arithmetic operator\n",
    "add_ans = a+b\n",
    "print(add_ans)\n",
    " \n",
    "# Performing addition using numpy function\n",
    "add_ans = np.add(a, b)\n",
    "print(add_ans)\n",
    " \n",
    "# The same functions and operations can be used for multiple matrices\n",
    "c = np.array([1, 2, 3, 4])\n",
    "add_ans = a+b+c\n",
    "print(add_ans)\n",
    " \n",
    "add_ans = np.add(a, b, c)\n",
    "print(add_ans)"
   ]
  },
  {
   "cell_type": "markdown",
   "id": "7901a5aa",
   "metadata": {},
   "source": [
    "# Substraction"
   ]
  },
  {
   "cell_type": "code",
   "execution_count": 2,
   "id": "27c62fc9",
   "metadata": {},
   "outputs": [
    {
     "name": "stdout",
     "output_type": "stream",
     "text": [
      "[ 3 67  3 70]\n",
      "[ 3 67  3 70]\n"
     ]
    }
   ],
   "source": [
    "import numpy as np\n",
    " \n",
    "# Defining both the matrices\n",
    "a = np.array([5, 72, 13, 100])\n",
    "b = np.array([2, 5, 10, 30])\n",
    " \n",
    "# Performing subtraction using arithmetic operator\n",
    "sub_ans = a-b\n",
    "print(sub_ans)\n",
    " \n",
    "# Performing subtraction using numpy function\n",
    "sub_ans = np.subtract(a, b)\n",
    "print(sub_ans)"
   ]
  },
  {
   "cell_type": "markdown",
   "id": "696dde95",
   "metadata": {},
   "source": [
    "# Multiplication"
   ]
  },
  {
   "cell_type": "code",
   "execution_count": 55,
   "id": "8bfff889",
   "metadata": {},
   "outputs": [
    {
     "name": "stdout",
     "output_type": "stream",
     "text": [
      "[[1 5]\n",
      " [2 6]\n",
      " [3 7]\n",
      " [4 8]]\n"
     ]
    }
   ],
   "source": [
    "import numpy as np\n",
    " \n",
    "# Defining both the matrices\n",
    "a = np.array([1,2,3,4])\n",
    "b = np.array([5,6,7,8])\n",
    " \n",
    "c = np.stack([a,b], axis = 1)\n",
    "print(c)\n",
    "# Performing multiplication using arithmetic operator\n",
    "#mul_ans = a*b\n",
    "#print(mul_ans)\n",
    " \n",
    "# Performing multiplication using numpy function\n",
    "#mul_ans = np.multiply(a, b)\n",
    "#mul_ans = a.dot(b)\n",
    "#print(mul_ans)\n",
    "#np.concatenate((a,b.T),axis = 1)"
   ]
  },
  {
   "cell_type": "code",
   "execution_count": 56,
   "id": "ff4090c4",
   "metadata": {},
   "outputs": [
    {
     "name": "stdout",
     "output_type": "stream",
     "text": [
      "[[list([1, 2, 3, 4]) 5 6]\n",
      " [list([5, 6, 7]) 7 8]]\n"
     ]
    },
    {
     "name": "stderr",
     "output_type": "stream",
     "text": [
      "C:\\Users\\91955\\AppData\\Local\\Temp\\ipykernel_23468\\2310689439.py:4: VisibleDeprecationWarning: Creating an ndarray from ragged nested sequences (which is a list-or-tuple of lists-or-tuples-or ndarrays with different lengths or shapes) is deprecated. If you meant to do this, you must specify 'dtype=object' when creating the ndarray.\n",
      "  a = np.array([[1,2,3,4],[5,6,7]])\n"
     ]
    }
   ],
   "source": [
    "import numpy as np\n",
    " \n",
    "# Defining both the matrices\n",
    "a = np.array([[1,2,3,4],[5,6,7]])\n",
    "b = np.array([[5,6],[7,8]])\n",
    " \n",
    "a = np.column_stack([a,b])\n",
    "print(a)"
   ]
  },
  {
   "cell_type": "markdown",
   "id": "3b2b3ca9",
   "metadata": {},
   "source": [
    "# Division"
   ]
  },
  {
   "cell_type": "code",
   "execution_count": 4,
   "id": "8897e853",
   "metadata": {},
   "outputs": [
    {
     "name": "stdout",
     "output_type": "stream",
     "text": [
      "[ 2.5        14.4         1.3         3.33333333]\n",
      "[ 2.5        14.4         1.3         3.33333333]\n"
     ]
    }
   ],
   "source": [
    "import numpy as np\n",
    " \n",
    "# Defining both the matrices\n",
    "a = np.array([5, 72, 13, 100])\n",
    "b = np.array([2, 5, 10, 30])\n",
    " \n",
    "# Performing division using arithmetic operators\n",
    "div_ans = a/b\n",
    "print(div_ans)\n",
    " \n",
    "# Performing division using numpy functions\n",
    "div_ans = np.divide(a, b)\n",
    "print(div_ans)"
   ]
  },
  {
   "cell_type": "code",
   "execution_count": 35,
   "id": "59d46368",
   "metadata": {},
   "outputs": [],
   "source": [
    "arr1 = np.array([1,2,3,4,5])"
   ]
  },
  {
   "cell_type": "code",
   "execution_count": 20,
   "id": "ebb50329",
   "metadata": {},
   "outputs": [
    {
     "data": {
      "text/plain": [
       "array([1, 2, 3, 4, 5])"
      ]
     },
     "execution_count": 20,
     "metadata": {},
     "output_type": "execute_result"
    }
   ],
   "source": [
    "arr1"
   ]
  },
  {
   "cell_type": "code",
   "execution_count": 21,
   "id": "81ccf9d0",
   "metadata": {},
   "outputs": [
    {
     "name": "stdout",
     "output_type": "stream",
     "text": [
      "[2 3 4 5 6]\n",
      "[0 1 2 3 4]\n",
      "[ 5 10 15 20 25]\n",
      "[0.5 1.  1.5 2.  2.5]\n",
      "[ 1  4  9 16 25]\n"
     ]
    }
   ],
   "source": [
    "print(arr1 + 1)\n",
    "print(arr1 -1)\n",
    "print(arr1 * 5)\n",
    "print(arr1 / 2)\n",
    "print(arr1 ** 2)"
   ]
  },
  {
   "cell_type": "code",
   "execution_count": 22,
   "id": "fde4e46a",
   "metadata": {},
   "outputs": [],
   "source": [
    "arr1 += 1"
   ]
  },
  {
   "cell_type": "code",
   "execution_count": 23,
   "id": "496aeec4",
   "metadata": {},
   "outputs": [
    {
     "data": {
      "text/plain": [
       "2"
      ]
     },
     "execution_count": 23,
     "metadata": {},
     "output_type": "execute_result"
    }
   ],
   "source": [
    "arr1.min()"
   ]
  },
  {
   "cell_type": "code",
   "execution_count": 24,
   "id": "11363fd6",
   "metadata": {},
   "outputs": [
    {
     "data": {
      "text/plain": [
       "6"
      ]
     },
     "execution_count": 24,
     "metadata": {},
     "output_type": "execute_result"
    }
   ],
   "source": [
    "arr1.max()"
   ]
  },
  {
   "cell_type": "code",
   "execution_count": 7,
   "id": "c3cd428b",
   "metadata": {},
   "outputs": [
    {
     "name": "stdout",
     "output_type": "stream",
     "text": [
      "maximum elements in the columns of the array is: [11 81 22]\n",
      "maximum elements in the rows of the array is: [11 16 81]\n",
      "minimum elements in the columns of the array is: [4 2 3]\n",
      "minimum elements in the rows of the array is: [2 4 7]\n"
     ]
    }
   ],
   "source": [
    "import numpy\n",
    " \n",
    "# creating a two dimensional\n",
    "# numpy array of integers\n",
    "arr = numpy.array([[11, 2, 3],\n",
    "                     [4, 5, 16],\n",
    "                      [7, 81, 22]])\n",
    " \n",
    "# finding the maximum and\n",
    "# minimum element in the array\n",
    "max_element_column = numpy.max(arr, 0)\n",
    "max_element_row = numpy.max(arr, 1)\n",
    " \n",
    "min_element_column = numpy.amin(arr, 0)\n",
    "min_element_row = numpy.amin(arr, 1)\n",
    " \n",
    "# printing the result\n",
    "print('maximum elements in the columns of the array is:',\n",
    "      max_element_column)\n",
    " \n",
    "print('maximum elements in the rows of the array is:',\n",
    "      max_element_row)\n",
    " \n",
    "print('minimum elements in the columns of the array is:',\n",
    "      min_element_column)\n",
    " \n",
    "print('minimum elements in the rows of the array is:',\n",
    "      min_element_row)"
   ]
  },
  {
   "cell_type": "code",
   "execution_count": 25,
   "id": "cb6bdb88",
   "metadata": {},
   "outputs": [
    {
     "data": {
      "text/plain": [
       "2"
      ]
     },
     "execution_count": 25,
     "metadata": {},
     "output_type": "execute_result"
    }
   ],
   "source": [
    "arr1.min()"
   ]
  },
  {
   "cell_type": "code",
   "execution_count": 26,
   "id": "977b10ac",
   "metadata": {},
   "outputs": [
    {
     "data": {
      "text/plain": [
       "6"
      ]
     },
     "execution_count": 26,
     "metadata": {},
     "output_type": "execute_result"
    }
   ],
   "source": [
    "arr.max(axis = 0)"
   ]
  },
  {
   "cell_type": "code",
   "execution_count": 36,
   "id": "004e50af",
   "metadata": {},
   "outputs": [],
   "source": [
    "arr2 = np.array([[1,2,3],\n",
    "                [4,5,6],\n",
    "                [7,8,9]])\n",
    "arr3 = np.array([[9,8,7],\n",
    "                [6,5,4],\n",
    "                [3,2,1]])"
   ]
  },
  {
   "cell_type": "code",
   "execution_count": 37,
   "id": "6aacaa48",
   "metadata": {},
   "outputs": [
    {
     "data": {
      "text/plain": [
       "array([[10, 10, 10],\n",
       "       [10, 10, 10],\n",
       "       [10, 10, 10]])"
      ]
     },
     "execution_count": 37,
     "metadata": {},
     "output_type": "execute_result"
    }
   ],
   "source": [
    "arr2 + arr3"
   ]
  },
  {
   "cell_type": "code",
   "execution_count": 38,
   "id": "4132f915",
   "metadata": {},
   "outputs": [
    {
     "data": {
      "text/plain": [
       "array([[ 9, 16, 21],\n",
       "       [24, 25, 24],\n",
       "       [21, 16,  9]])"
      ]
     },
     "execution_count": 38,
     "metadata": {},
     "output_type": "execute_result"
    }
   ],
   "source": [
    "arr2 * arr3"
   ]
  },
  {
   "cell_type": "code",
   "execution_count": 39,
   "id": "d1fce17d",
   "metadata": {},
   "outputs": [
    {
     "data": {
      "text/plain": [
       "array([[ 30,  24,  18],\n",
       "       [ 84,  69,  54],\n",
       "       [138, 114,  90]])"
      ]
     },
     "execution_count": 39,
     "metadata": {},
     "output_type": "execute_result"
    }
   ],
   "source": [
    "arr2.dot(arr3)"
   ]
  },
  {
   "cell_type": "code",
   "execution_count": 40,
   "id": "c5cd9bec",
   "metadata": {},
   "outputs": [
    {
     "data": {
      "text/plain": [
       "30"
      ]
     },
     "execution_count": 40,
     "metadata": {},
     "output_type": "execute_result"
    }
   ],
   "source": [
    "(1*9) + (2*6) +(3*3)"
   ]
  },
  {
   "cell_type": "code",
   "execution_count": 41,
   "id": "1280784e",
   "metadata": {},
   "outputs": [
    {
     "data": {
      "text/plain": [
       "array([[ 30,  24,  18],\n",
       "       [ 84,  69,  54],\n",
       "       [138, 114,  90]])"
      ]
     },
     "execution_count": 41,
     "metadata": {},
     "output_type": "execute_result"
    }
   ],
   "source": [
    "arr2.dot(arr3)"
   ]
  },
  {
   "cell_type": "code",
   "execution_count": 42,
   "id": "4cea2379",
   "metadata": {},
   "outputs": [
    {
     "data": {
      "text/plain": [
       "array([[9, 8, 7],\n",
       "       [6, 5, 4],\n",
       "       [3, 2, 1]])"
      ]
     },
     "execution_count": 42,
     "metadata": {},
     "output_type": "execute_result"
    }
   ],
   "source": [
    "arr3"
   ]
  },
  {
   "cell_type": "code",
   "execution_count": 44,
   "id": "22645d0c",
   "metadata": {},
   "outputs": [
    {
     "data": {
      "text/plain": [
       "array([[ 90, 114, 138],\n",
       "       [ 54,  69,  84],\n",
       "       [ 18,  24,  30]])"
      ]
     },
     "execution_count": 44,
     "metadata": {},
     "output_type": "execute_result"
    }
   ],
   "source": [
    "arr3.dot(arr2)"
   ]
  },
  {
   "cell_type": "code",
   "execution_count": 47,
   "id": "a707a3b0",
   "metadata": {},
   "outputs": [
    {
     "data": {
      "text/plain": [
       "array([[1, 2, 3],\n",
       "       [4, 5, 6],\n",
       "       [7, 8, 9]])"
      ]
     },
     "execution_count": 47,
     "metadata": {},
     "output_type": "execute_result"
    }
   ],
   "source": [
    "arr2[:]  "
   ]
  },
  {
   "cell_type": "code",
   "execution_count": 52,
   "id": "9af41857",
   "metadata": {},
   "outputs": [
    {
     "data": {
      "text/plain": [
       "array([[5]])"
      ]
     },
     "execution_count": 52,
     "metadata": {},
     "output_type": "execute_result"
    }
   ],
   "source": [
    "arr2[1:2,1:2]   #to get single element from list"
   ]
  },
  {
   "cell_type": "code",
   "execution_count": 53,
   "id": "e4d6bf2d",
   "metadata": {},
   "outputs": [
    {
     "data": {
      "text/plain": [
       "array([], shape=(0, 3), dtype=int32)"
      ]
     },
     "execution_count": 53,
     "metadata": {},
     "output_type": "execute_result"
    }
   ],
   "source": [
    "arr2[2:-2]"
   ]
  },
  {
   "cell_type": "markdown",
   "id": "fbcbbb11",
   "metadata": {},
   "source": [
    "# Array sorting"
   ]
  },
  {
   "cell_type": "code",
   "execution_count": 54,
   "id": "8a715a3b",
   "metadata": {},
   "outputs": [
    {
     "name": "stdout",
     "output_type": "stream",
     "text": [
      "Along first axis : \n",
      " [[10  1]\n",
      " [12 15]]\n",
      "\n",
      "Along first axis : \n",
      " [[10 15]\n",
      " [ 1 12]]\n",
      "\n",
      "Along none axis : \n",
      " [ 1 10 12 15]\n"
     ]
    }
   ],
   "source": [
    "import numpy as np\n",
    " \n",
    "# sort along the first axis\n",
    "a = np.array([[12, 15], [10, 1]])\n",
    "arr1 = np.sort(a, axis = 0)       \n",
    "print (\"Along first axis : \\n\", arr1)       \n",
    " \n",
    " \n",
    "# sort along the last axis\n",
    "a = np.array([[10, 15], [12, 1]])\n",
    "arr2 = np.sort(a, axis = -1)       \n",
    "print (\"\\nAlong first axis : \\n\", arr2)\n",
    " \n",
    " \n",
    "a = np.array([[12, 15], [10, 1]])\n",
    "arr1 = np.sort(a, axis = None)       \n",
    "print (\"\\nAlong none axis : \\n\", arr1)"
   ]
  },
  {
   "cell_type": "markdown",
   "id": "9a74c3ec",
   "metadata": {},
   "source": [
    "# Type of sorting"
   ]
  },
  {
   "cell_type": "code",
   "execution_count": 55,
   "id": "524a7fe2",
   "metadata": {},
   "outputs": [
    {
     "name": "stdout",
     "output_type": "stream",
     "text": [
      "[[5 2 2 3 1]\n",
      " [7 3 8 6 4]\n",
      " [7 4 9 8 6]]\n",
      "\n",
      "[[3 4 6 7 8]\n",
      " [2 6 7 8 9]\n",
      " [1 2 3 4 5]]\n",
      "\n",
      "[[3 4 6 7 8]\n",
      " [2 6 7 8 9]\n",
      " [1 2 3 4 5]]\n"
     ]
    }
   ],
   "source": [
    "arr = np.array([[7,3,8,6,4], [7,2,9,8,6],[5,4,2,3,1]])\n",
    "print(np.sort(arr , axis = 0, kind = 'mergesort'))\n",
    "print()\n",
    "print(np.sort(arr , axis = 1, kind = 'quicksort'))\n",
    "print()\n",
    "print(np.sort(arr , kind = 'heapsort'))"
   ]
  },
  {
   "cell_type": "markdown",
   "id": "09235212",
   "metadata": {},
   "source": [
    "# Array merging "
   ]
  },
  {
   "cell_type": "code",
   "execution_count": 56,
   "id": "41584ecb",
   "metadata": {},
   "outputs": [
    {
     "name": "stdout",
     "output_type": "stream",
     "text": [
      "1st Input array : \n",
      " [1 2 3]\n",
      "2nd Input array : \n",
      " [4 5 6]\n",
      "Output vertically stacked array:\n",
      "  [[1 2 3]\n",
      " [4 5 6]]\n"
     ]
    }
   ],
   "source": [
    "# vstack() function\n",
    "  \n",
    "import numpy as geek\n",
    "  \n",
    "# input array\n",
    "in_arr1 = geek.array([ 1, 2, 3] )\n",
    "print (\"1st Input array : \\n\", in_arr1) \n",
    "  \n",
    "in_arr2 = geek.array([ 4, 5, 6] )\n",
    "print (\"2nd Input array : \\n\", in_arr2) \n",
    "  \n",
    "# Stacking the two arrays vertically\n",
    "out_arr = geek.vstack((in_arr1, in_arr2))\n",
    "print (\"Output vertically stacked array:\\n \", out_arr)"
   ]
  },
  {
   "cell_type": "code",
   "execution_count": 57,
   "id": "ae95cb86",
   "metadata": {},
   "outputs": [
    {
     "name": "stdout",
     "output_type": "stream",
     "text": [
      "1st Input array : \n",
      " [[ 1  2  3]\n",
      " [-1 -2 -3]]\n",
      "2nd Input array : \n",
      " [[ 4  5  6]\n",
      " [-4 -5 -6]]\n",
      "Output stacked array :\n",
      "  [[ 1  2  3]\n",
      " [-1 -2 -3]\n",
      " [ 4  5  6]\n",
      " [-4 -5 -6]]\n"
     ]
    }
   ],
   "source": [
    "# vstack() function\n",
    "  \n",
    "import numpy as geek\n",
    "  \n",
    "# input array\n",
    "in_arr1 = geek.array([[ 1, 2, 3], [ -1, -2, -3]] )\n",
    "print (\"1st Input array : \\n\", in_arr1) \n",
    "  \n",
    "in_arr2 = geek.array([[ 4, 5, 6], [ -4, -5, -6]] )\n",
    "print (\"2nd Input array : \\n\", in_arr2) \n",
    "  \n",
    "# Stacking the two arrays vertically\n",
    "out_arr = geek.vstack((in_arr1, in_arr2))\n",
    "print (\"Output stacked array :\\n \", out_arr)"
   ]
  },
  {
   "cell_type": "code",
   "execution_count": 58,
   "id": "81fa3351",
   "metadata": {},
   "outputs": [
    {
     "name": "stdout",
     "output_type": "stream",
     "text": [
      "1st Input array : \n",
      " [1 2 3]\n",
      "2nd Input array : \n",
      " [4 5 6]\n",
      "Output horizontally stacked array:\n",
      "  [1 2 3 4 5 6]\n"
     ]
    }
   ],
   "source": [
    "# hstack() function\n",
    "  \n",
    "import numpy as geek\n",
    "  \n",
    "# input array\n",
    "in_arr1 = geek.array([ 1, 2, 3] )\n",
    "print (\"1st Input array : \\n\", in_arr1) \n",
    "  \n",
    "in_arr2 = geek.array([ 4, 5, 6] )\n",
    "print (\"2nd Input array : \\n\", in_arr2) \n",
    "  \n",
    "# Stacking the two arrays horizontally\n",
    "out_arr = geek.hstack((in_arr1, in_arr2))\n",
    "print (\"Output horizontally stacked array:\\n \", out_arr)"
   ]
  },
  {
   "cell_type": "code",
   "execution_count": 59,
   "id": "6473fb2b",
   "metadata": {},
   "outputs": [
    {
     "name": "stdout",
     "output_type": "stream",
     "text": [
      "1st Input array : \n",
      " [[ 1  2  3]\n",
      " [-1 -2 -3]]\n",
      "2nd Input array : \n",
      " [[ 4  5  6]\n",
      " [-4 -5 -6]]\n",
      "Output stacked array :\n",
      "  [[ 1  2  3  4  5  6]\n",
      " [-1 -2 -3 -4 -5 -6]]\n"
     ]
    }
   ],
   "source": [
    "# hstack() function\n",
    "  \n",
    "import numpy as geek\n",
    "  \n",
    "# input array\n",
    "in_arr1 = geek.array([[ 1, 2, 3], [ -1, -2, -3]] )\n",
    "print (\"1st Input array : \\n\", in_arr1) \n",
    "  \n",
    "in_arr2 = geek.array([[ 4, 5, 6], [ -4, -5, -6]] )\n",
    "print (\"2nd Input array : \\n\", in_arr2) \n",
    "  \n",
    "# Stacking the two arrays horizontally\n",
    "out_arr = geek.hstack((in_arr1, in_arr2))\n",
    "print (\"Output stacked array :\\n \", out_arr)"
   ]
  },
  {
   "cell_type": "code",
   "execution_count": 60,
   "id": "063d3339",
   "metadata": {},
   "outputs": [
    {
     "name": "stdout",
     "output_type": "stream",
     "text": [
      "[[2 4]\n",
      " [6 8]\n",
      " [3 5]\n",
      " [7 9]]\n"
     ]
    }
   ],
   "source": [
    "# numpy.concatenate() function\n",
    "  \n",
    "# importing numpy as geek \n",
    "import numpy as geek\n",
    "  \n",
    "arr1 = geek.array([[2, 4], [6, 8]])\n",
    "arr2 = geek.array([[3, 5], [7, 9]])\n",
    "  \n",
    "gfg = geek.concatenate((arr1, arr2), axis = 0)\n",
    "  \n",
    "print (gfg)"
   ]
  },
  {
   "cell_type": "code",
   "execution_count": 61,
   "id": "e524c9cc",
   "metadata": {},
   "outputs": [
    {
     "name": "stdout",
     "output_type": "stream",
     "text": [
      "[array([[0., 1., 2.],\n",
      "       [3., 4., 5.],\n",
      "       [6., 7., 8.]])]\n"
     ]
    }
   ],
   "source": [
    "# Python program explaining\n",
    "# numpy.vsplit() function\n",
    "  \n",
    "# importing numpy as geek \n",
    "import numpy as geek\n",
    "  \n",
    "arr = geek.arange(9.0).reshape(3, 3)\n",
    "  \n",
    "gfg = geek.vsplit(arr, 1)\n",
    "  \n",
    "print (gfg)"
   ]
  },
  {
   "cell_type": "code",
   "execution_count": 62,
   "id": "d195f9b7",
   "metadata": {},
   "outputs": [
    {
     "name": "stdout",
     "output_type": "stream",
     "text": [
      "[array([[ 0.,  1.],\n",
      "       [ 4.,  5.],\n",
      "       [ 8.,  9.],\n",
      "       [12., 13.]]), array([[ 2.,  3.],\n",
      "       [ 6.,  7.],\n",
      "       [10., 11.],\n",
      "       [14., 15.]])]\n"
     ]
    }
   ],
   "source": [
    "# numpy.hsplit() function\n",
    "  \n",
    "# importing numpy as geek \n",
    "import numpy as geek\n",
    "  \n",
    "arr = geek.arange(16.0).reshape(4, 4)\n",
    "  \n",
    "gfg = geek.hsplit(arr, 2)\n",
    "  \n",
    "print (gfg)"
   ]
  },
  {
   "cell_type": "markdown",
   "id": "9392dcd9",
   "metadata": {},
   "source": [
    "# Array slicing"
   ]
  },
  {
   "cell_type": "code",
   "execution_count": 63,
   "id": "f97ec4af",
   "metadata": {},
   "outputs": [
    {
     "data": {
      "text/plain": [
       "array([4, 5, 6, 7, 8])"
      ]
     },
     "execution_count": 63,
     "metadata": {},
     "output_type": "execute_result"
    }
   ],
   "source": [
    "#Array[ Initial : End : IndexJump ]\n",
    "import numpy as np\n",
    "arr = np.array([1,2,3,4,5,6,7,8])\n",
    "arr[3: ]"
   ]
  },
  {
   "cell_type": "code",
   "execution_count": 64,
   "id": "30dfae70",
   "metadata": {},
   "outputs": [
    {
     "name": "stdout",
     "output_type": "stream",
     "text": [
      "[1 2 3 4 5]\n",
      "[4 5]\n"
     ]
    }
   ],
   "source": [
    "print(arr[ : -3])\n",
    "print(arr[3  :  -3])"
   ]
  },
  {
   "cell_type": "code",
   "execution_count": 65,
   "id": "285d304c",
   "metadata": {},
   "outputs": [
    {
     "data": {
      "text/plain": [
       "array([[1, 2, 3, 4],\n",
       "       [5, 6, 7, 8],\n",
       "       [8, 7, 6, 5],\n",
       "       [4, 3, 2, 1]])"
      ]
     },
     "execution_count": 65,
     "metadata": {},
     "output_type": "execute_result"
    }
   ],
   "source": [
    "arr = np.array([[1,2,3,4],[5,6,7,8],[8,7,6,5],[4,3,2,1]])\n",
    "arr"
   ]
  },
  {
   "cell_type": "code",
   "execution_count": 66,
   "id": "4a978c63",
   "metadata": {},
   "outputs": [
    {
     "name": "stdout",
     "output_type": "stream",
     "text": [
      "3\n",
      "\n",
      "[[6 7 8]\n",
      " [7 6 5]\n",
      " [3 2 1]]\n"
     ]
    }
   ],
   "source": [
    "print(arr[ 3 , 1])\n",
    "print()\n",
    "print(arr[ 1: , 1:])"
   ]
  },
  {
   "cell_type": "markdown",
   "id": "d4349451",
   "metadata": {},
   "source": [
    "# Automating using numpy"
   ]
  },
  {
   "cell_type": "code",
   "execution_count": 85,
   "id": "9ead4a97",
   "metadata": {},
   "outputs": [],
   "source": [
    "import numpy as np"
   ]
  },
  {
   "cell_type": "code",
   "execution_count": 86,
   "id": "15205faf",
   "metadata": {},
   "outputs": [],
   "source": [
    "arr = np.array([1,2,3,4])"
   ]
  },
  {
   "cell_type": "code",
   "execution_count": 87,
   "id": "a8dca00e",
   "metadata": {},
   "outputs": [
    {
     "data": {
      "text/plain": [
       "array([1, 2, 3, 4])"
      ]
     },
     "execution_count": 87,
     "metadata": {},
     "output_type": "execute_result"
    }
   ],
   "source": [
    "arr"
   ]
  },
  {
   "cell_type": "code",
   "execution_count": 88,
   "id": "abd7f409",
   "metadata": {},
   "outputs": [
    {
     "data": {
      "text/plain": [
       "1"
      ]
     },
     "execution_count": 88,
     "metadata": {},
     "output_type": "execute_result"
    }
   ],
   "source": [
    "arr[0]"
   ]
  },
  {
   "cell_type": "code",
   "execution_count": 89,
   "id": "26a71635",
   "metadata": {},
   "outputs": [
    {
     "data": {
      "text/plain": [
       "array([4])"
      ]
     },
     "execution_count": 89,
     "metadata": {},
     "output_type": "execute_result"
    }
   ],
   "source": [
    "arr[3: ]"
   ]
  },
  {
   "cell_type": "code",
   "execution_count": 90,
   "id": "70e92789",
   "metadata": {},
   "outputs": [],
   "source": [
    "arr = np.array([[1,2,3],[4,5,6],[7,8,9]])"
   ]
  },
  {
   "cell_type": "code",
   "execution_count": 91,
   "id": "7a54e119",
   "metadata": {},
   "outputs": [
    {
     "data": {
      "text/plain": [
       "array([[1, 2, 3],\n",
       "       [4, 5, 6],\n",
       "       [7, 8, 9]])"
      ]
     },
     "execution_count": 91,
     "metadata": {},
     "output_type": "execute_result"
    }
   ],
   "source": [
    "arr"
   ]
  },
  {
   "cell_type": "code",
   "execution_count": 92,
   "id": "632eb133",
   "metadata": {},
   "outputs": [
    {
     "data": {
      "text/plain": [
       "array([[1, 2, 3],\n",
       "       [4, 5, 6],\n",
       "       [7, 8, 9]])"
      ]
     },
     "execution_count": 92,
     "metadata": {},
     "output_type": "execute_result"
    }
   ],
   "source": [
    "arr [:,:]"
   ]
  },
  {
   "cell_type": "code",
   "execution_count": 93,
   "id": "5ad6fb9c",
   "metadata": {},
   "outputs": [
    {
     "data": {
      "text/plain": [
       "array([[1, 2, 3]])"
      ]
     },
     "execution_count": 93,
     "metadata": {},
     "output_type": "execute_result"
    }
   ],
   "source": [
    "arr[:1,:]"
   ]
  },
  {
   "cell_type": "code",
   "execution_count": 94,
   "id": "ca099a99",
   "metadata": {},
   "outputs": [
    {
     "data": {
      "text/plain": [
       "array([7, 8, 9])"
      ]
     },
     "execution_count": 94,
     "metadata": {},
     "output_type": "execute_result"
    }
   ],
   "source": [
    "arr[2,:]"
   ]
  },
  {
   "cell_type": "code",
   "execution_count": 95,
   "id": "ddd93cab",
   "metadata": {},
   "outputs": [
    {
     "data": {
      "text/plain": [
       "array([[5],\n",
       "       [8]])"
      ]
     },
     "execution_count": 95,
     "metadata": {},
     "output_type": "execute_result"
    }
   ],
   "source": [
    "arr[1:,1:2]"
   ]
  },
  {
   "cell_type": "code",
   "execution_count": 67,
   "id": "91f8c911",
   "metadata": {},
   "outputs": [
    {
     "name": "stdout",
     "output_type": "stream",
     "text": [
      "6\n",
      "7\n",
      "8\n",
      "9\n",
      "10\n"
     ]
    }
   ],
   "source": [
    "lst = [1,2,3,4,5,6,7,8,9,10]\n",
    "for i in lst:\n",
    "  if (i > 5):\n",
    "    print(i)"
   ]
  },
  {
   "cell_type": "code",
   "execution_count": 68,
   "id": "00ee45d0",
   "metadata": {},
   "outputs": [
    {
     "name": "stdout",
     "output_type": "stream",
     "text": [
      "[ 6  7  8  9 10]\n"
     ]
    }
   ],
   "source": [
    "lst = np.array([1,2,3,4,5,6,7,8,9,10])\n",
    "print(lst[lst>5]) #in a single line we have done the same thing which we did previously and this time without using the for loop"
   ]
  },
  {
   "cell_type": "code",
   "execution_count": 69,
   "id": "772ba36f",
   "metadata": {},
   "outputs": [],
   "source": [
    "import numpy as np"
   ]
  },
  {
   "cell_type": "code",
   "execution_count": 70,
   "id": "b4f46d2a",
   "metadata": {},
   "outputs": [],
   "source": [
    "lst = [1,2,3,4,5]"
   ]
  },
  {
   "cell_type": "code",
   "execution_count": 100,
   "id": "8848efa2",
   "metadata": {},
   "outputs": [
    {
     "name": "stdout",
     "output_type": "stream",
     "text": [
      "3\n",
      "4\n",
      "2\n"
     ]
    }
   ],
   "source": [
    "q =0\n",
    "for i in lst:\n",
    "    if(i>2):\n",
    "        print(i)\n",
    "        q += 1\n",
    "print(q)"
   ]
  },
  {
   "cell_type": "code",
   "execution_count": 96,
   "id": "230e6f6d",
   "metadata": {},
   "outputs": [
    {
     "name": "stdout",
     "output_type": "stream",
     "text": [
      "0\n"
     ]
    }
   ],
   "source": [
    "q = 0\n",
    "\n",
    "for i in lst:\n",
    "  if (i > 5):\n",
    "    print(i)\n",
    "    q += 1\n",
    "\n",
    "print(q)\n",
    "     \n",
    "    "
   ]
  },
  {
   "cell_type": "code",
   "execution_count": 101,
   "id": "ca813346",
   "metadata": {},
   "outputs": [
    {
     "name": "stdout",
     "output_type": "stream",
     "text": [
      "0\n",
      "[]\n"
     ]
    }
   ],
   "source": [
    "print(len(lst[lst > 5]))\n",
    "print(lst[lst>5])\n",
    "     "
   ]
  },
  {
   "cell_type": "code",
   "execution_count": 77,
   "id": "4bd5d2b4",
   "metadata": {},
   "outputs": [],
   "source": [
    "lst = np.array([1,2,3,4])"
   ]
  },
  {
   "cell_type": "code",
   "execution_count": 78,
   "id": "e1086b0f",
   "metadata": {},
   "outputs": [
    {
     "data": {
      "text/plain": [
       "array([1, 2, 3, 4])"
      ]
     },
     "execution_count": 78,
     "metadata": {},
     "output_type": "execute_result"
    }
   ],
   "source": [
    "lst"
   ]
  },
  {
   "cell_type": "code",
   "execution_count": 79,
   "id": "700db22a",
   "metadata": {},
   "outputs": [
    {
     "data": {
      "text/plain": [
       "array([False, False, False, False])"
      ]
     },
     "execution_count": 79,
     "metadata": {},
     "output_type": "execute_result"
    }
   ],
   "source": [
    "lst >5"
   ]
  },
  {
   "cell_type": "code",
   "execution_count": 80,
   "id": "681d8f74",
   "metadata": {},
   "outputs": [
    {
     "data": {
      "text/plain": [
       "array([], dtype=int32)"
      ]
     },
     "execution_count": 80,
     "metadata": {},
     "output_type": "execute_result"
    }
   ],
   "source": [
    "lst[lst>5]"
   ]
  },
  {
   "cell_type": "code",
   "execution_count": 81,
   "id": "456ea8b5",
   "metadata": {},
   "outputs": [
    {
     "data": {
      "text/plain": [
       "0"
      ]
     },
     "execution_count": 81,
     "metadata": {},
     "output_type": "execute_result"
    }
   ],
   "source": [
    "len(lst[lst > 5])"
   ]
  },
  {
   "cell_type": "code",
   "execution_count": 83,
   "id": "3a0a691a",
   "metadata": {},
   "outputs": [
    {
     "name": "stdout",
     "output_type": "stream",
     "text": [
      "[False False  True False]\n"
     ]
    }
   ],
   "source": [
    "print(lst % 3 == 0 )"
   ]
  },
  {
   "cell_type": "code",
   "execution_count": 84,
   "id": "f427b7fd",
   "metadata": {},
   "outputs": [
    {
     "name": "stdout",
     "output_type": "stream",
     "text": [
      "[3]\n"
     ]
    }
   ],
   "source": [
    "print(lst[lst % 3 == 0])"
   ]
  },
  {
   "cell_type": "code",
   "execution_count": 70,
   "id": "f8754af8",
   "metadata": {},
   "outputs": [
    {
     "name": "stdout",
     "output_type": "stream",
     "text": [
      "[3, 4]\n"
     ]
    }
   ],
   "source": [
    "arr33 = [1,2,3,4,5,6,7]\n",
    "print(arr33[2:-3])"
   ]
  },
  {
   "cell_type": "markdown",
   "id": "b14b6024",
   "metadata": {},
   "source": [
    "# os --Reading Material "
   ]
  },
  {
   "cell_type": "code",
   "execution_count": null,
   "id": "fefff5ce",
   "metadata": {},
   "outputs": [],
   "source": [
    "OS command for windows"
   ]
  },
  {
   "cell_type": "code",
   "execution_count": null,
   "id": "dc7b8707",
   "metadata": {},
   "outputs": [],
   "source": [
    "1.      dir: works same as ls shows the content of cwd\n",
    "\n",
    "2.      cd: used to change the directory.\n",
    "\n",
    "3.      cls: to clear the command prompt.\n",
    "\n",
    "4.      mkdir filename: to create a directory.\n",
    "\n",
    "5.      rmdir filename: to remove the directory.\n",
    "\n",
    "6.      date: To get the current date and time.\n",
    "\n",
    "7.      copy filename destination: used to copy the file and paste in the destination directory.\n",
    "\n",
    "8.      move filename destination: used to move the file and paste it in the destination directory.\n",
    "\n",
    "9.      rename old_filename new_filename: used to rename a file\n",
    "\n",
    "Example rename Hello.txt World.txt will rename the Hello.txt file to World.txt.\n",
    "\n",
    "10.   exit: to close the command prompt."
   ]
  },
  {
   "cell_type": "code",
   "execution_count": null,
   "id": "c41885b5",
   "metadata": {},
   "outputs": [],
   "source": [
    "                                               OS Basics  \n",
    "\n",
    "import os : used to import the os library\n",
    "\n",
    "os.getcwd : used to get the current working directory(cwd).\n",
    "\n",
    "os.chdir(“directory_name”) : To go inside a folder.\n",
    "\n",
    "os.chdir(“..”) : To go back to the previous directory.\n",
    "\n",
    "os.mkdir(“file_name”) : To create a directory in the cwd.\n",
    "\n",
    "os.mkdirs(“filename/filename1/filename2”): Used to create directories within directories.\n",
    "\n",
    "os.remove(“File_Name”): can be used to remove a folder but if folder is empty if it contains anything it can’t be used.\n",
    "\n",
    "os.rmdir(“parent_name/sub_directory_name”):\n",
    "\n",
    "Example os.rmdir(“Test/Test1”) then os.rmdir(“Test”)\n",
    "\n",
    "os.rename(‘old_file_name’,’new_file_name’) : used to rename a file\n",
    "\n",
    "os.getsize(“folder_name”) : gives size of folder in kbs."
   ]
  },
  {
   "cell_type": "code",
   "execution_count": null,
   "id": "e926088e",
   "metadata": {},
   "outputs": [],
   "source": [
    "To see all the sub-directories contained in a directory\n",
    "\n",
    "Let’s say we have a folder Imgs and want to check all the sub-directories contained in the directory Imgs\n",
    "we can automate this by:\n",
    "\n",
    "for i in os.listdir('Imgs'):\n",
    "\n",
    "    if i != '.DS_Store':  ##System\n",
    "\n",
    "        print(i)\n",
    "\n",
    "This code can be used to print all the sub-directories present inside the directory Imgs."
   ]
  },
  {
   "cell_type": "code",
   "execution_count": null,
   "id": "76dc449b",
   "metadata": {},
   "outputs": [],
   "source": [
    "os.path.exists(“path”): Example os.path.exists(“Imgs/Test1”) this will return a Boolean result"
   ]
  },
  {
   "cell_type": "code",
   "execution_count": 2,
   "id": "389b371e",
   "metadata": {},
   "outputs": [],
   "source": [
    "import os"
   ]
  },
  {
   "cell_type": "code",
   "execution_count": 3,
   "id": "4cef4ebc",
   "metadata": {},
   "outputs": [
    {
     "ename": "FileNotFoundError",
     "evalue": "[WinError 3] The system cannot find the path specified: 'Imgs/G'",
     "output_type": "error",
     "traceback": [
      "\u001b[1;31m---------------------------------------------------------------------------\u001b[0m",
      "\u001b[1;31mFileNotFoundError\u001b[0m                         Traceback (most recent call last)",
      "\u001b[1;32m~\\AppData\\Local\\Temp\\ipykernel_23856\\4192884034.py\u001b[0m in \u001b[0;36m<module>\u001b[1;34m\u001b[0m\n\u001b[0;32m      2\u001b[0m     \u001b[0mprint\u001b[0m\u001b[1;33m(\u001b[0m\u001b[1;34m\"Folder Already Exists!\"\u001b[0m\u001b[1;33m)\u001b[0m\u001b[1;33m\u001b[0m\u001b[1;33m\u001b[0m\u001b[0m\n\u001b[0;32m      3\u001b[0m \u001b[1;32melse\u001b[0m\u001b[1;33m:\u001b[0m\u001b[1;33m\u001b[0m\u001b[1;33m\u001b[0m\u001b[0m\n\u001b[1;32m----> 4\u001b[1;33m     \u001b[0mos\u001b[0m\u001b[1;33m.\u001b[0m\u001b[0mmkdir\u001b[0m\u001b[1;33m(\u001b[0m\u001b[1;34m'Imgs/G'\u001b[0m\u001b[1;33m)\u001b[0m\u001b[1;33m\u001b[0m\u001b[1;33m\u001b[0m\u001b[0m\n\u001b[0m",
      "\u001b[1;31mFileNotFoundError\u001b[0m: [WinError 3] The system cannot find the path specified: 'Imgs/G'"
     ]
    }
   ],
   "source": [
    "if os.path.exists(\"Imgs/G\"):\n",
    "    print(\"Folder Already Exists!\")\n",
    "else:\n",
    "    os.mkdir('Imgs/G')"
   ]
  },
  {
   "cell_type": "code",
   "execution_count": null,
   "id": "d3058609",
   "metadata": {},
   "outputs": [],
   "source": [
    "                     #Creating Sub Directories in Bulk:\n",
    "n = 'GFG'\n",
    "os.mkdir(n)\n",
    "for i in range(1000):\n",
    "    name = n +'/'+ n + \" \" + str(i+1) //i=0 GFG/GFG1 \n",
    "                                     // i=50 GFG/GFG50\n",
    "    os.mkdir(name)"
   ]
  },
  {
   "cell_type": "code",
   "execution_count": null,
   "id": "208fa55b",
   "metadata": {},
   "outputs": [],
   "source": [
    "           #Hierarchal Bulk Directory Creation:\n",
    "\n",
    "master = 'GFG'\n",
    "os.mkdir(master)\n",
    "n = 5\n",
    "m = 5\n",
    "for i in range(n):\n",
    "    name = master +'/'+ master + \" \" + str(i+1)\n",
    "    os.mkdir(name) \n",
    "    for j in range(m):\n",
    "        name = master +'/'+ master + \" \" + str(i+1) +\"/\"+ master + \" \" + str(j+1) \n",
    "        os.mkdir(name)        \n",
    "print(n*m + n + 1)"
   ]
  },
  {
   "cell_type": "code",
   "execution_count": null,
   "id": "82216c67",
   "metadata": {},
   "outputs": [],
   "source": [
    "                                  #reading txt fle in bulk\n",
    "for i in files:\n",
    "    if i != '.DS_Store':\n",
    "        fd = open('Files/'+i,'r')\n",
    "        print('Files/'+i, fd.read())\n",
    "        fd.close()"
   ]
  }
 ],
 "metadata": {
  "kernelspec": {
   "display_name": "Python 3 (ipykernel)",
   "language": "python",
   "name": "python3"
  },
  "language_info": {
   "codemirror_mode": {
    "name": "ipython",
    "version": 3
   },
   "file_extension": ".py",
   "mimetype": "text/x-python",
   "name": "python",
   "nbconvert_exporter": "python",
   "pygments_lexer": "ipython3",
   "version": "3.9.13"
  }
 },
 "nbformat": 4,
 "nbformat_minor": 5
}
