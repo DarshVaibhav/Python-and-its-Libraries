{
 "cells": [
  {
   "cell_type": "code",
   "execution_count": 7,
   "id": "acbf122f",
   "metadata": {},
   "outputs": [],
   "source": [
    "def __init__(self):\n",
    "    # Create a window\n",
    "    window = Tk() \n",
    "    window.title(\"Loan Calculator\") # Set title\n",
    "\n",
    "    # create the input boxes.\n",
    "    Label(window, text = \"Annual Interest Rate\").grid(row = 1,column = 1, sticky = W)\n",
    "    Label(window, text = \"Number of Years\").grid(row = 2,column = 1, sticky = W)\n",
    "    Label(window, text = \"Loan Amount\").grid(row = 3,column = 1, sticky = W)\n",
    "    Label(window, text = \"Monthly Payment\").grid(row = 4,column = 1, sticky = W)\n",
    "    Label(window, text = \"Total Payment\").grid(row = 5,column = 1, sticky = W)\n",
    "\n",
    "    # for taking inputs\n",
    "    self.annualInterestRateVar = StringVar() \n",
    "    Entry(window, textvariable = self.annualInterestRateVar,justify = RIGHT).grid(row = 1, column = 2)\n",
    "\n",
    "    self.numberOfYearsVar = StringVar()\n",
    "    Entry(window, textvariable = self.numberOfYearsVar,justify = RIGHT).grid(row = 2, column = 2)\n",
    "\n",
    "    self.loanAmountVar = StringVar()\n",
    "    Entry(window, textvariable = self.loanAmountVar,justify = RIGHT).grid(row = 3, column = 2)\n",
    "\n",
    "    self.monthlyPaymentVar = StringVar()\n",
    "    lblMonthlyPayment = Label(window, textvariable =self.monthlyPaymentVar).grid(row = 4,column = 2, sticky = E)\n",
    "\n",
    "    self.totalPaymentVar = StringVar()\n",
    "    lblTotalPayment = Label(window, textvariable =self.totalPaymentVar).grid(row = 5,column = 2, sticky = E)\n",
    "\n",
    "    # create the button\n",
    "    btComputePayment = Button(window, text = \"Compute Payment\",command = self.computePayment).grid(row = 6, column = 2, sticky = E) \n",
    "    # Create an event loop\n",
    "    window.mainloop() \n"
   ]
  },
  {
   "cell_type": "code",
   "execution_count": 8,
   "id": "545de983",
   "metadata": {},
   "outputs": [],
   "source": [
    "def computePayment(self):\n",
    "    # compute the total payment.\n",
    "    monthlyPayment = self.getMonthlyPayment(float(self.loanAmountVar.get()), float(self.annualInterestRateVar.get()) / 1200, int(self.numberOfYearsVar.get()))\n",
    "\n",
    "    self.monthlyPaymentVar.set(format(monthlyPayment, '10.2f'))\n",
    "    totalPayment = float(self.monthlyPaymentVar.get()) * 12 \\\n",
    "    * int(self.numberOfYearsVar.get())\n",
    "    self.totalPaymentVar.set(format(totalPayment, '10.2f'))\n",
    "\n",
    "# compute the monthly payment.\n",
    "def getMonthlyPayment(self, loanAmount, monthlyInterestRate, numberOfYears): \n",
    "    monthlyPayment = loanAmount * monthlyInterestRate /(1- 1 / (1 + monthlyInterestRate) **(numberOfYears * 12))\n",
    "\n",
    "    return monthlyPayment;\n"
   ]
  },
  {
   "cell_type": "code",
   "execution_count": 9,
   "id": "4d63b38b",
   "metadata": {},
   "outputs": [
    {
     "data": {
      "text/plain": [
       "<__main__.LoanCalculator at 0x2458c9c3460>"
      ]
     },
     "execution_count": 9,
     "metadata": {},
     "output_type": "execute_result"
    }
   ],
   "source": [
    "# Import tkinter\n",
    "from tkinter import *\n",
    "class LoanCalculator:\n",
    "    \n",
    "    def __init__(self):\n",
    "        #\n",
    "        window = Tk() # Create a window\n",
    "        window.title(\"Loan Calculator\") # Set title\n",
    "        # create the input boxes.\n",
    "        Label(window, text = \"Annual Interest Rate\").grid(row = 1,column = 1, sticky = W)\n",
    "        Label(window, text = \"Number of Years\").grid(row = 2,column = 1, sticky = W)\n",
    "        Label(window, text = \"Loan Amount\").grid(row = 3,column = 1, sticky = W)\n",
    "        Label(window, text = \"Monthly Payment\").grid(row = 4,column = 1, sticky = W)\n",
    "        Label(window, text = \"Total Payment\").grid(row = 5,column = 1, sticky = W)\n",
    "\n",
    "        # for taking inputs\n",
    "        self.annualInterestRateVar = StringVar() \n",
    "        Entry(window, textvariable = self.annualInterestRateVar,justify = RIGHT).grid(row = 1, column = 2)\n",
    "        self.numberOfYearsVar = StringVar()\n",
    "\n",
    "        Entry(window, textvariable = self.numberOfYearsVar,justify = RIGHT).grid(row = 2, column = 2)\n",
    "        self.loanAmountVar = StringVar()\n",
    "\n",
    "        Entry(window, textvariable = self.loanAmountVar,justify = RIGHT).grid(row = 3, column = 2)\n",
    "        self.monthlyPaymentVar = StringVar()\n",
    "        lblMonthlyPayment = Label(window, textvariable =self.monthlyPaymentVar).grid(row = 4,column = 2, sticky = E)\n",
    "\n",
    "        self.totalPaymentVar = StringVar()\n",
    "        lblTotalPayment = Label(window, textvariable =self.totalPaymentVar).grid(row = 5,column = 2, sticky = E)\n",
    "\n",
    "        # create the button\n",
    "        btComputePayment = Button(window, text = \"Compute Payment\",command = self.computePayment).grid(row = 6, column = 2, sticky = E) \n",
    "        window.mainloop() # Create an event loop\n",
    "\n",
    "\n",
    "    # compute the total payment.\n",
    "    def computePayment(self):\n",
    "\n",
    "        monthlyPayment = self.getMonthlyPayment(\n",
    "        float(self.loanAmountVar.get()),\n",
    "        float(self.annualInterestRateVar.get()) / 1200,\n",
    "        int(self.numberOfYearsVar.get()))\n",
    "\n",
    "        self.monthlyPaymentVar.set(format(monthlyPayment, '10.2f'))\n",
    "        totalPayment = float(self.monthlyPaymentVar.get()) * 12 \\\n",
    "                                * int(self.numberOfYearsVar.get())\n",
    "\n",
    "        self.totalPaymentVar.set(format(totalPayment, '10.2f'))\n",
    "\n",
    "    def getMonthlyPayment(self, loanAmount, monthlyInterestRate, numberOfYears): \n",
    "        # compute the monthly payment.\n",
    "        monthlyPayment = loanAmount * monthlyInterestRate / (1- 1 / (1 + monthlyInterestRate) ** (numberOfYears * 12))\n",
    "        return monthlyPayment;\n",
    "        root = Tk() # create the widget\n",
    "\n",
    "# call the class to run the program.\n",
    "LoanCalculator()\n"
   ]
  },
  {
   "cell_type": "code",
   "execution_count": null,
   "id": "a60f5049",
   "metadata": {},
   "outputs": [],
   "source": []
  },
  {
   "cell_type": "code",
   "execution_count": null,
   "id": "5b64c67a",
   "metadata": {},
   "outputs": [],
   "source": []
  }
 ],
 "metadata": {
  "kernelspec": {
   "display_name": "Python 3 (ipykernel)",
   "language": "python",
   "name": "python3"
  },
  "language_info": {
   "codemirror_mode": {
    "name": "ipython",
    "version": 3
   },
   "file_extension": ".py",
   "mimetype": "text/x-python",
   "name": "python",
   "nbconvert_exporter": "python",
   "pygments_lexer": "ipython3",
   "version": "3.9.13"
  }
 },
 "nbformat": 4,
 "nbformat_minor": 5
}
